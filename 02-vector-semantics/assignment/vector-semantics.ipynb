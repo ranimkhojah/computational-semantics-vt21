{
 "cells": [
  {
   "cell_type": "markdown",
   "metadata": {},
   "source": [
    "***QUESTIONS***\n",
    "\n",
    "*In part 2. Building a Model:*\n",
    "- When do we use words_in_order? Are we meant to use it?\n",
    "\n",
    "*In part 4. Operations on Similarity:*\n",
    "- The instructions say \"we can subtract the normalised vectors for king minus queen and add the resulting vector to man and we hope to get the vector for woman.\". We think this is wrong:\n",
    "\n",
    "Now, if we want to apply the operation: King - Queen + Man = woman\n",
    "\n",
    "- (PERSON, royal, Male) - (PERSON, royal, Female) + (PERSON, Male)=\n",
    "\n",
    "- (+PERSON, +royal, +Male) + (-PERSON, -royal, -Female) + (+PERSON, +Male)=\n",
    "\n",
    "- (+PERSON, +royal, +Male) + (-PERSON, -royal, +Male) + (+PERSON, +Male)=\n",
    "\n",
    "Male + Male + PERSON + Male = very masculine man, which is obv very far away from woman.\n",
    "\n",
    "Therefore, we assumed it should be King - Man + Woman = Queen and worked with this.\n",
    "\n",
    "- (PERSON, royal, Male) -(PERSON, Male) + (PERSON, Female) =\n",
    "\n",
    "- (+PERSON, +royal, +Male) +(-PERSON, -Male) + (+PERSON, +Female) =\n",
    "\n",
    "- royal + PERSON + Female = Queen [YES THIS MAKES SENSE!!!!]\n",
    "\n",
    "*In part 5. Semantic composition and phrase similarity*\n",
    "- What should we have in the table? (:"
   ]
  },
  {
   "cell_type": "markdown",
   "metadata": {},
   "source": [
    "**Statement of contribution**\n",
    "\n",
    "Each of us did the assignment individually first and then we met on Discord on Tuesday 20th of April (**for four hours**) to discuss and combine our solutions. Most of our answers were the same, especially for the first three parts. In part 4, we chose different analogies depending on the type of word (proper name, adverb, etc.) and how they performed. In part 5, we agreed on a solution in the (long) meeting.\n"
   ]
  },
  {
   "cell_type": "markdown",
   "metadata": {},
   "source": [
    "# A2: Vector Semantics\n",
    "\n",
    "Nikolai Ilinykh, Mehdi Ghanimifard, Wafia Adouane and Simon Dobnik\n",
    "\n",
    "The lab is an exploration and learning exercise to be done in a group and also in discussion with the teachers and other students.\n",
    "\n",
    "Before starting, please read [the following instructions](https://github.com/sdobnik/computational-semantics/blob/master/README.md) on how to work on group assignments.\n",
    "\n",
    "Write all your answers and the code in the appropriate boxes below.\n",
    "\n",
    "In this lab we will look at how to build distributional semantic models from corpora and use semantic similarity captured by these models to do semantic tasks. We are also going to examine how different vector composition functions for phrases affect both the model and the learned information about similarities.  \n",
    "\n",
    "Note that this lab uses a code from `dist_erk.py`, which contains functions that highly resemble those shown during the lecture. In the end, you can use either of the functions (from the lecture / from the file) to solve the tasks."
   ]
  },
  {
   "cell_type": "code",
   "execution_count": 62,
   "metadata": {},
   "outputs": [],
   "source": [
    "# the following command simply imports all the methods from that code.\n",
    "from dist_erk import *"
   ]
  },
  {
   "cell_type": "markdown",
   "metadata": {},
   "source": [
    "## 1. Loading a corpus\n",
    "\n",
    "To train a distributional model, we first need a sufficiently large collection of texts which contain different words used frequently enough in different contexts. Here we will use a section of the Wikipedia corpus which you can download from [here](https://linux.dobnik.net/cloud/index.php/s/isMBj49jt5renYt?path=%2Fresources%2Fa2-distributional-representations) (wikipedia.txt.zip). (This file has been borrowed from another lab by [Richard Johansson](http://www.cse.chalmers.se/~richajo/)).  \n",
    "When unpacked, the file is 151mb, hence if you are using the MLT servers you should store it in a temporary folder outside your home and adjust the `corpus_dir` path below.  \n",
    "<!-- <It may already exist in `/opt/mlt/courses/cl2015/a5`.> -->\n"
   ]
  },
  {
   "cell_type": "code",
   "execution_count": 2,
   "metadata": {},
   "outputs": [],
   "source": [
    "corpus_dir = '/scratch/lt2213-vt21/'"
   ]
  },
  {
   "cell_type": "markdown",
   "metadata": {},
   "source": [
    "## 2. Building a model\n",
    "\n",
    "Now you are ready to build the model.  \n",
    "Using the methods from the code imported above build three word matrices with 1000 dimensions as follows:  \n",
    "\n",
    "(i) with raw counts (saved to a variable `space_1k`);  \n",
    "(ii) with PPMI (`ppmispace_1k`);  \n",
    "(iii) with reduced dimensions SVD (`svdspace_1k`).  \n",
    "For the latter use `svddim=5`. **[5 marks]**\n",
    "\n",
    "Your task is to replace `...` with function calls. Functions are imported from `dist_erk.py` earlier, and they largely resemble functions shown during the lecture."
   ]
  },
  {
   "cell_type": "code",
   "execution_count": 31,
   "metadata": {},
   "outputs": [
    {
     "name": "stdout",
     "output_type": "stream",
     "text": [
      "reading file wikipedia.txt\n",
      "create count matrices\n",
      "reading file wikipedia.txt\n",
      "ppmi transform\n",
      "svd transform\n",
      "done.\n"
     ]
    }
   ],
   "source": [
    "numdims = 1000\n",
    "svddim = 5\n",
    "\n",
    "# which words to use as targets and context words?\n",
    "# we need to count the words and keep only the N most frequent ones\n",
    "# which function would you use here with which variable?\n",
    "ktw = do_word_count(corpus_dir, numdims)\n",
    "\n",
    "wi = make_word_index(ktw) # word index\n",
    "words_in_order = sorted(ktw) # sorted words\n",
    "\n",
    "# create different spaces (the original matrix space, the ppmi space, the svd space)\n",
    "# which functions with which arguments would you use here?\n",
    "print('create count matrices')\n",
    "space_1k = make_space(corpus_dir, wi, numdims)\n",
    "print('ppmi transform')\n",
    "ppmispace_1k = ppmi_transform(space_1k, wi)\n",
    "print('svd transform')\n",
    "svdspace_1k = svd_transform(space_1k, numdims, svddim)\n",
    "print('done.')"
   ]
  },
  {
   "cell_type": "code",
   "execution_count": 32,
   "metadata": {},
   "outputs": [
    {
     "name": "stdout",
     "output_type": "stream",
     "text": [
      "house: [2554 3774 3105  567  962  631  443  185  311  189  131   28   93  169\n",
      "   81  125  151  408  194   90   79   29  217  184   62   15   31   70\n",
      "   10    1   41   21    1   31   37    1   30    5   25    7    3   20\n",
      "   11    1   32   36    2    5   66    4    0   46    8   18   28    0\n",
      "   20    7    8   16   10   40    0  175   10    2    7   19    1  174\n",
      "   11    3    1    6    0    0    0   10    9   11    7   24    4    4\n",
      "   14   23   58    7    0   10    2    3   10    6   18    6   13    3\n",
      "   22    0    3    5    3    7   14    3   40   20   19   15    6    8\n",
      "   24    4    5    1   19    0    3    1    0   14    0   14   53    7\n",
      "    7   11    6    5    5    4   12    6   53    1    1  433    4    0\n",
      "    5    7    7   12    1    1    3    4   17    8   16    1    2   31\n",
      "    1   12   14    1   44    6   14    9   38    7    2    6    8    1\n",
      "   10    6   10    1    9    7    9    4    3   10    0   11    3    2\n",
      "    0    2   11   37    2    0    2    1    5    9   10   16   88    6\n",
      "    0   21    1    1    0    2   47    3   27    7    0    2   13    1\n",
      "    2    0    5   31    0    1    0    3   10    0    1    0    3    3\n",
      "   17    1    1   16    3    7    4    7   15    4    0    0    2    5\n",
      "    0    2    0    5    0    9    0    0    8    0   10    0    0    0\n",
      "    2    0    1    3    1    3   15    1    9    0   19   14    0    0\n",
      "    3    2   18    3    1    3    2   19    5    2    4    1   10    6\n",
      "    0    3    3    6    4    2   25    4    6    3    1   25   10   15\n",
      "    3   10   15    1   10    1    8    1   13    1    2    9    9    1\n",
      "    4    1   25    0    4    6    5    5   36    0    2    2    2    0\n",
      "    0    2    3    3    0    1    4    6    5    0   50    2    5    2\n",
      "   14    6    2    2    4    1    9    4    5    3    1    0   12    3\n",
      "    3    2    2    0    0    1    4    7   12    5    0    2    1    2\n",
      "    3    4    7    3    5    0   29    7    1    1    0    3    3    3\n",
      "   10    0   14    2    0    2    4    6    0    5    0    0    1    1\n",
      "    4    1    1    0    0    0    0    3   20    0    0    2    1    5\n",
      "    3    8    3    5    1    2   66    1    2   19    2    1    3    3\n",
      "   21    5    4    2    2    0    4    3    5    0    7    1    6    1\n",
      "    3    3    1    0    3    0    2    0   89    2    3    1    1   14\n",
      "    0    2    1    9    2    3    2    4    2    0   25    0    0   23\n",
      "    0    6    2    1    3    0    2    5    0    4    4    3    0    4\n",
      "   58    3    1    6    2    4    3    3   11    1    1    1   10    0\n",
      "    7    3    1    6    1   18    1    0    4    2    0    8    5    2\n",
      "    0    0    0    0    5    1    2    1    1    3    1    2    1    1\n",
      "    0    6    1    4    1    3   20    1    0    5    2    5    2    1\n",
      "    0    0    0    2    6    1    1    0    1    1    1    0    0    3\n",
      "    3    0    0    6    6   74    3    0   13    5    2    2    1    5\n",
      "    3    3    1    7    4    0    0    2    3    0    4    0    4    1\n",
      "    0    2    5    2    1   14    2    0    0   19    0    1    2    1\n",
      "    0    3    2    0    0    3    1    3    3    2    7   18    7    6\n",
      "    6    0    1    9    1   10    2    0    2    0    2    4    0    0\n",
      "    1    2    0    1    0    2    0    0    0    2    1    2    2    0\n",
      "    3    2    2    0    0    1    2    3    1    1    1    2    0    0\n",
      "    3    0    7    2   39    0   14    0    1    1    0    1    5    3\n",
      "   11    0    3    0    1    1    0    0    1    9    2    1    0   11\n",
      "    1    3    7    0    0    0   32    1    0    0    0    1    1    3\n",
      "    0    9    0    2    0    1    3    2    6    0    3    0    0    2\n",
      "    3    0    1    0    1    4    0    0    1    1    0    0    5   21\n",
      "    2    1    1    3    0    1    7    1    3    4    0    5    3    0\n",
      "    7    2    0    4    2    0    2    1    4    4    0    0    0    5\n",
      "    3    2    2    0    4    0   23    2    2    2    4    0    1    0\n",
      "    4    0    3    5    3    0    8    0    1   16    1    2    2    7\n",
      "    0    0    1   11    1    0    4    0    1    0    1    2    1    5\n",
      "    0   97    0    2    0    3    0    8    1   14    4    9    2    3\n",
      "    1    1    0    3    4    0    5    1    5    2    0    0    0    2\n",
      "    1    2    1    1    1    1   12    0    2    5    1    0    0   13\n",
      "    2    0    0    0    2    2    0    0    3    1    1    1    1    0\n",
      "    1    2    1    0    0    0   10    0    1    0    1    1    1    1\n",
      "    0    1    0    0    3    2    5    0    0    2    1    0   23    0\n",
      "    0    4    0    1    0    0    0    1    1    2    1    0    1    0\n",
      "    0    4    1    0    1    1    5    1    1    0    1    0    0    0\n",
      "    1    0    0    2    2    3    0    1    0    4    3    3    1    4\n",
      "    0    0    0    6    1    2    1    0    5    3    0    0    1    2\n",
      "    0    5    0    0    2    1    1    4   15    0    0    1    1    3\n",
      "    1    0    1    4    1    1    2    8    1    3    0    0    0    0\n",
      "    1    3    2    1    0    1    0    2    0    0    0    0    1    1\n",
      "    0    1    3    7    0    0   42    4    0    1    2    3    1    0\n",
      "    1    3    2    0    0    4    0    0    0    4    2    0    0    8\n",
      "    2    0    1   15    0    0]\n",
      "time: [0.         0.62100084 0.15396278 0.         0.20480032 0.38631518\n",
      " 0.02781167 0.         0.         0.         0.52774544 0.\n",
      " 0.         0.20703904 0.         0.         0.87298613 0.\n",
      " 0.         1.30652113 0.         0.14760271 2.59209626 0.96003956\n",
      " 0.         0.         0.74625702 0.07209399 0.         0.\n",
      " 2.19496675 0.         0.         0.         0.         0.\n",
      " 0.         0.         0.         0.         0.         0.07010841\n",
      " 0.         0.         0.38806924 0.82417133 0.         0.\n",
      " 0.         0.         0.         0.6575419  0.05197307 1.23073593\n",
      " 2.12414013 0.         0.69148584 0.         0.         0.29296605\n",
      " 0.         0.         0.         0.         0.         0.\n",
      " 1.74179011 0.90245073 0.         0.         0.         0.\n",
      " 0.         0.         0.         0.         0.         0.\n",
      " 0.         1.43324222 0.         1.35851493 0.         0.\n",
      " 0.         0.         0.         0.         0.         0.\n",
      " 0.         1.13058345 0.         0.         0.         0.01060439\n",
      " 0.         0.         0.30087406 0.         0.         0.96608798\n",
      " 0.         0.         0.         0.         0.5397552  0.\n",
      " 0.         0.         0.         0.         0.         0.\n",
      " 0.         0.         2.47821657 0.         0.         0.\n",
      " 0.         0.6823735  0.         0.         0.         0.75787219\n",
      " 0.26830786 0.81145154 0.         0.         0.         0.\n",
      " 0.         0.         0.         0.         0.         0.\n",
      " 0.         0.         0.         0.         0.0743941  0.\n",
      " 0.         0.         0.         0.         0.         0.423865\n",
      " 0.         0.         0.         0.         0.         0.\n",
      " 0.         0.         0.         0.02649166 0.         0.13918729\n",
      " 0.         0.         0.         0.         0.         0.\n",
      " 0.63448552 0.         0.         0.         0.         0.\n",
      " 0.         0.         0.         0.         0.         1.98981214\n",
      " 0.         0.         0.         0.         0.         1.44035743\n",
      " 0.         0.         0.         0.         0.         0.\n",
      " 0.         0.         0.         0.08125744 0.         0.\n",
      " 0.         0.         0.         0.         1.18283378 0.\n",
      " 0.         3.15514221 0.         0.         0.         0.\n",
      " 0.         0.         0.         0.         0.         0.\n",
      " 0.         0.72189942 0.         0.         0.         0.\n",
      " 1.35295783 0.         0.         0.         0.         0.\n",
      " 0.         0.         0.         0.         0.98594576 0.77788819\n",
      " 0.         0.         0.         0.         0.         0.\n",
      " 0.         0.         0.         0.74851649 0.         0.\n",
      " 0.         0.         0.         0.         0.         0.\n",
      " 0.         0.         0.         0.         0.         0.\n",
      " 0.         0.         0.         0.         0.         0.\n",
      " 0.         0.         0.01630302 0.         0.         0.\n",
      " 0.         0.         0.         0.         0.         0.\n",
      " 0.36142498 0.         0.         0.         0.         0.\n",
      " 0.         0.         0.         0.         0.         0.\n",
      " 0.         0.         0.         0.01493482 0.         1.88105558\n",
      " 0.         0.         0.         0.         0.         0.\n",
      " 0.         0.22943031 0.         0.         0.         0.\n",
      " 0.         0.         2.28511565 0.         0.         0.12260961\n",
      " 1.55653717 0.         0.         0.         0.         0.\n",
      " 0.         0.         0.         0.         0.         0.\n",
      " 0.         0.         0.         0.19696436 0.         0.\n",
      " 0.         0.         0.         0.         0.         0.8536537\n",
      " 0.         0.         0.         0.         0.         0.\n",
      " 0.         0.         0.         0.         0.         0.55122721\n",
      " 0.         0.         0.         0.         0.         0.\n",
      " 0.         0.         0.         0.         0.         0.15419746\n",
      " 0.         0.         0.         0.         0.97296705 0.\n",
      " 0.         0.01073187 0.         0.         0.         0.\n",
      " 0.94768641 0.         0.         0.         0.         0.\n",
      " 0.         0.         0.         0.         0.         0.\n",
      " 0.         0.         0.         0.         0.         0.\n",
      " 0.         0.         0.6780771  0.         0.         0.\n",
      " 0.         0.         0.         0.         0.         2.72387377\n",
      " 0.         0.         0.         0.         1.07986724 0.\n",
      " 0.         0.         0.         0.         0.         0.\n",
      " 0.         0.         0.         0.         0.22757418 0.\n",
      " 0.         0.         0.         0.         0.         0.\n",
      " 0.         0.         0.         0.         0.         0.\n",
      " 0.         0.         0.         0.         0.         0.\n",
      " 0.         0.         0.         0.         0.65258217 0.\n",
      " 0.         0.         0.         0.         0.85132938 0.\n",
      " 1.77610817 0.         0.         0.14609552 0.         0.21933416\n",
      " 0.         0.         0.         0.         0.         0.\n",
      " 0.         0.         0.         0.         0.         0.\n",
      " 0.         0.46921106 0.         0.         0.         0.17821631\n",
      " 0.         0.         0.         1.1496972  0.         0.\n",
      " 0.         0.         0.         0.         0.         0.59832048\n",
      " 0.         0.         0.         0.         0.         0.\n",
      " 0.         0.         0.         0.         0.         0.\n",
      " 0.         0.         0.         0.         0.         0.\n",
      " 0.         0.         0.         0.         0.         0.\n",
      " 0.         0.         0.         0.         0.         0.\n",
      " 0.         0.         0.         0.         0.         0.\n",
      " 0.         0.99125042 0.         0.         0.         0.67609644\n",
      " 0.         0.         0.         0.         0.         0.\n",
      " 0.         0.         0.         0.05773088 0.         0.\n",
      " 0.         2.44950732 0.         0.         0.         0.\n",
      " 0.         0.         0.         0.         0.22293985 0.\n",
      " 0.01605256 0.         0.         0.02886933 0.         0.\n",
      " 0.         0.         0.         0.         0.         0.\n",
      " 0.         0.         0.         0.         0.         0.\n",
      " 0.         0.         0.         0.         0.         0.\n",
      " 0.         0.         0.         0.         0.         0.07035305\n",
      " 0.         0.         0.         0.         0.         0.\n",
      " 0.         0.         0.         0.         0.         0.\n",
      " 0.         0.         0.         0.         0.         0.92631471\n",
      " 0.07587347 0.         0.         0.         0.         0.\n",
      " 0.74984185 0.         0.         0.         0.56042927 0.\n",
      " 0.         0.         0.         0.         0.         0.\n",
      " 0.79050047 0.         0.         0.12825829 0.         1.07519448\n",
      " 1.17926246 0.91543705 0.         0.         0.         0.\n",
      " 0.         0.         0.         0.         0.         0.\n",
      " 0.         0.         0.         0.         0.         0.\n",
      " 0.         0.         0.         0.         0.         0.30806154\n",
      " 1.37760389 0.         0.         0.         0.32828066 0.\n",
      " 0.         0.         0.         0.         0.         1.5709313\n",
      " 0.17387107 0.84623548 0.         0.         0.         0.\n",
      " 0.         0.         0.         0.         0.         0.\n",
      " 0.         0.         0.         0.         0.         0.\n",
      " 0.         0.         0.         0.63136773 0.         0.\n",
      " 0.         0.         0.         0.02174186 0.         0.29584818\n",
      " 0.         0.         0.         0.         0.         0.\n",
      " 0.         0.         0.49831598 0.         0.9553776  0.\n",
      " 0.87168239 0.         0.         0.35883037 0.57054055 0.\n",
      " 0.32288644 0.         0.         0.         0.         0.88710549\n",
      " 0.         0.         0.         0.16351435 0.         0.\n",
      " 0.         0.         0.         0.         0.         0.\n",
      " 0.         0.         0.         0.         0.         0.\n",
      " 0.         0.         0.         0.23058007 0.         0.\n",
      " 0.         0.         0.         0.         0.         0.\n",
      " 0.         0.         0.         0.         0.         0.\n",
      " 0.         0.245627   0.         0.         0.06630295 0.\n",
      " 0.         0.         0.         0.         0.         0.\n",
      " 0.         0.         0.         0.29776594 0.         0.\n",
      " 0.         0.         0.         0.         0.         0.\n",
      " 0.         0.20147588 0.         0.         0.         0.\n",
      " 0.89589245 0.         0.         0.         0.         0.\n",
      " 0.         0.         0.         0.         0.         0.\n",
      " 0.         1.54950984 0.         0.         0.         0.\n",
      " 0.         0.         0.         0.         0.         0.\n",
      " 0.         0.         0.         0.22803245 0.         0.\n",
      " 0.         0.         0.         0.         0.         0.\n",
      " 0.         0.         0.         0.         0.         0.\n",
      " 0.23142831 0.         0.         0.         0.         0.\n",
      " 0.         0.         0.         0.14064187 0.         0.\n",
      " 0.         0.         0.         0.         0.         0.\n",
      " 0.21839881 0.         0.         0.         0.         0.\n",
      " 0.         0.         0.         0.7770442  0.         0.\n",
      " 0.57537532 0.         0.         0.         0.         0.\n",
      " 0.         0.         0.         0.         0.         0.\n",
      " 0.         0.         0.         0.         0.         0.\n",
      " 0.         0.         0.         0.         0.         0.\n",
      " 0.         0.         0.         0.         0.         0.72987189\n",
      " 0.         0.         0.         0.         0.08754089 0.\n",
      " 0.         0.16479889 0.         0.         0.         0.\n",
      " 0.         0.         0.46467449 0.         0.         0.\n",
      " 0.         0.         0.         0.         0.         0.16772558\n",
      " 0.         0.         0.         0.         0.         0.\n",
      " 0.         0.         0.         0.         0.         0.\n",
      " 0.         0.         0.         0.         0.         0.\n",
      " 0.         0.         0.         0.         0.         0.\n",
      " 0.         0.         0.         0.02949165 0.01225328 0.\n",
      " 0.76935171 0.         0.         0.         0.         0.\n",
      " 0.         0.         0.         0.67066137 0.         0.\n",
      " 0.         0.         0.         0.44950277 0.         0.\n",
      " 0.17377822 0.         0.         0.         0.         0.\n",
      " 2.76190528 0.99015499 0.         0.         0.         0.\n",
      " 0.         0.         0.         0.         0.         0.\n",
      " 0.         0.         0.         0.         0.93269581 0.72989888\n",
      " 0.         0.         0.         0.         0.         0.\n",
      " 0.         0.         0.         1.77848707 0.         0.\n",
      " 0.         0.67669135 0.         1.60568285 0.         0.\n",
      " 0.         0.         0.         0.        ]\n",
      "summer: [-1690.58480583   363.28799359   707.81369278   -14.2395147\n",
      "    26.97524482]\n"
     ]
    }
   ],
   "source": [
    "# now, to test the space, you can print vector representation for some words\n",
    "\n",
    "print('house:', space_1k['house'])\n",
    "print('time:', ppmispace_1k['time'])\n",
    "print('summer:', svdspace_1k['summer'])"
   ]
  },
  {
   "cell_type": "markdown",
   "metadata": {},
   "source": [
    "Oxford Advanced Dictionary has 185,000 words, hence 1,000 words is not representative. We trained a model with 10,000 words, and 50 dimensions on truncated SVD. It took 40 minutes on a laptop. We saved all three matrices [here](https://linux.dobnik.net/cloud/index.php/s/isMBj49jt5renYt?path=%2Fresources%2Fa2-distributional-representations) (pretrained.zip). Download them and unpack them to a `pretrained` folder which should be a subfolder of the folder with this notebook:"
   ]
  },
  {
   "cell_type": "code",
   "execution_count": 5,
   "metadata": {},
   "outputs": [
    {
     "name": "stdout",
     "output_type": "stream",
     "text": [
      "Please wait...\n",
      "Done.\n"
     ]
    }
   ],
   "source": [
    "import numpy as np\n",
    "\n",
    "numdims = 10000\n",
    "svddim = 50\n",
    "\n",
    "print('Please wait...')\n",
    "ktw_10k       = np.load('/scratch/lt2213-vt21/pretrained/ktw_wikipediaktw.npy', allow_pickle=True)\n",
    "space_10k     = np.load('/scratch/lt2213-vt21/pretrained/raw_wikipediaktw.npy', allow_pickle=True).all()\n",
    "ppmispace_10k = np.load('/scratch/lt2213-vt21/pretrained/ppmi_wikipediaktw.npy', allow_pickle=True).all()\n",
    "svdspace_10k  = np.load('/scratch/lt2213-vt21/pretrained/svd50_wikipedia10k.npy', allow_pickle=True).all()\n",
    "print('Done.')\n"
   ]
  },
  {
   "cell_type": "code",
   "execution_count": 6,
   "metadata": {},
   "outputs": [
    {
     "name": "stdout",
     "output_type": "stream",
     "text": [
      "house: [2554 3774 3105 ...    0    0    0]\n"
     ]
    }
   ],
   "source": [
    "# testing semantic space\n",
    "print('house:', space_10k['house'])"
   ]
  },
  {
   "cell_type": "markdown",
   "metadata": {},
   "source": [
    "## 3. Testing semantic similarity\n",
    "\n",
    "The file `similarity_judgements.txt` (a copy is included with this notebook) contains 7,576 pairs of words and their lexical and visual similarities (based on the pictures) collected through crowd-sourcing using Mechanical Turk as described in [1]. The score range from 1 (highly dissimilar) to 5 (highly similar). Note: this is a different dataset from the phrase similarity dataset we discussed during the lecture (the one from [2]). For more information, please read the papers.\n",
    "\n",
    "The following code will transform similarity scores into a Python-friendly format:"
   ]
  },
  {
   "cell_type": "code",
   "execution_count": 7,
   "metadata": {},
   "outputs": [
    {
     "name": "stdout",
     "output_type": "stream",
     "text": [
      "number of available words to test: 12\n",
      "number of available word pairs to test: 774\n"
     ]
    }
   ],
   "source": [
    "word_pairs = [] # test suit word pairs\n",
    "semantic_similarity = [] \n",
    "visual_similarity = []\n",
    "test_vocab = set()\n",
    "\n",
    "for index, line in enumerate(open('similarity_judgements.txt')):\n",
    "    data = line.strip().split('\\t')\n",
    "    if index > 0 and len(data) == 3:\n",
    "        w1, w2 = tuple(data[0].split('#'))\n",
    "        # it will check if both words from each pair exist in the word matrix.\n",
    "        if w1 in ktw_10k and w2 in ktw_10k:\n",
    "            word_pairs.append((w1, w2))\n",
    "            test_vocab.update([w1, w2])\n",
    "            semantic_similarity.append(float(data[1]))\n",
    "            visual_similarity.append(float(data[2]))\n",
    "        \n",
    "print('number of available words to test:', len(test_vocab-(test_vocab-set(ktw))))\n",
    "print('number of available word pairs to test:', len(word_pairs))\n",
    "#list(zip(word_pairs, visual_similarity, semantic_similarity))"
   ]
  },
  {
   "cell_type": "markdown",
   "metadata": {},
   "source": [
    "Now we are going to test how the cosine similarity between vectors of each of the three spaces (normal space, ppmi, svd) compares with the human similarity judgements for the words in the similarity dataset. Which of the three spaces best approximates human judgements?\n",
    "\n",
    "For comparison of several scores, we can use [Spearman correlation coefficient](https://en.wikipedia.org/wiki/Spearman's_rank_correlation_coefficient) which is implemented in `scipy.stats.spearmanr` [here](https://docs.scipy.org/doc/scipy-0.19.0/reference/generated/scipy.stats.spearmanr.html). The values of the Sperman correlation coefficient range from -1, 0 to 1, where 0 indicates no correlation, 1 perfect correaltion and -1 negative correlation. Hence, the greater the number the better the similarity scores align. The p values tells us if the coefficient is statistically significant. For this to be the case, it must be less than or equal to $< 0.05$.\n",
    "\n",
    "Here is how you can calculate Pearson's correlation coefficient betweeen the scores of visual similarity and semantic similarity of the available words in the test suite:"
   ]
  },
  {
   "cell_type": "code",
   "execution_count": 8,
   "metadata": {},
   "outputs": [
    {
     "name": "stdout",
     "output_type": "stream",
     "text": [
      "Visual Similarity vs. Semantic Similarity:\n",
      "rho     = 0.7122\n",
      "p-value = 0.0000\n"
     ]
    }
   ],
   "source": [
    "from scipy import stats\n",
    "\n",
    "rho, pval = stats.spearmanr(semantic_similarity, visual_similarity)\n",
    "print(\"\"\"Visual Similarity vs. Semantic Similarity:\n",
    "rho     = {:.4f}\n",
    "p-value = {:.4f}\"\"\".format(rho, pval))\n"
   ]
  },
  {
   "cell_type": "markdown",
   "metadata": {},
   "source": [
    "Let's now calculate the cosine similarity scores of all word pairs in an ordered list using all three matrices. **[6 marks]**"
   ]
  },
  {
   "cell_type": "code",
   "execution_count": 9,
   "metadata": {},
   "outputs": [],
   "source": [
    "raw_similarities  = [cosine(w1, w2, space_10k) for w1, w2 in word_pairs]\n",
    "ppmi_similarities = [cosine(w1, w2, ppmispace_10k) for w1, w2 in word_pairs]\n",
    "svd_similarities  = [cosine(w1, w2, svdspace_10k) for w1, w2 in word_pairs]"
   ]
  },
  {
   "cell_type": "markdown",
   "metadata": {},
   "source": [
    "Now, calculate correlation coefficients between lists of similarity scores and the real semantic similarity scores from the experiment. The scores of what model best correlates them? Is this expected? **[6 marks]**"
   ]
  },
  {
   "cell_type": "code",
   "execution_count": 10,
   "metadata": {},
   "outputs": [
    {
     "name": "stdout",
     "output_type": "stream",
     "text": [
      "Semantic Similarity vs. Raw Similarity:\n",
      "rho     = 0.1522\n",
      "p-value = 0.0000\n",
      "\n",
      "Semantic Similarity vs. Ppmi Similarity:\n",
      "rho     = 0.4547\n",
      "p-value = 0.0000\n",
      "\n",
      "Semantic Similarity vs. SVD Similarity:\n",
      "rho     = 0.4232\n",
      "p-value = 0.0000\n"
     ]
    }
   ],
   "source": [
    "rho1, pval1 = stats.spearmanr(semantic_similarity, raw_similarities)\n",
    "print(\"\"\"Semantic Similarity vs. Raw Similarity:\n",
    "rho     = {:.4f}\n",
    "p-value = {:.4f}\"\"\".format(rho1, pval1))\n",
    "print()\n",
    "\n",
    "rho2, pval2 = stats.spearmanr(semantic_similarity, ppmi_similarities)\n",
    "print(\"\"\"Semantic Similarity vs. Ppmi Similarity:\n",
    "rho     = {:.4f}\n",
    "p-value = {:.4f}\"\"\".format(rho2, pval2))\n",
    "print()\n",
    "\n",
    "rho3, pval3 = stats.spearmanr(semantic_similarity, svd_similarities)\n",
    "print(\"\"\"Semantic Similarity vs. SVD Similarity:\n",
    "rho     = {:.4f}\n",
    "p-value = {:.4f}\"\"\".format(rho3, pval3))"
   ]
  },
  {
   "cell_type": "markdown",
   "metadata": {},
   "source": [
    "**Your answer should go here:**\n",
    "\n",
    "The Spearman correlation values are 0.1522 for the raw_similarity matrix, 0.4547 for the ppi_similarity matrix and 0.4232 for the svd_similarity matrix. The one with the higher Spearman's rho is the Pointwise Positive Mutual Information (PPMI) model, very closely followed by the SVD model. It is expected that it should be better than the raw similarity model. The reason behind this is that PPMI considers context words that are particularly informative. Although it uses long and sparse vectors, these vectors may generalize better than short vectors that may be too specific to some cases. \n",
    "\n",
    "SVD's score is very close to PPMI, since it is known for removing noisy data e.g., uninformative words which also helps generalizing the output. The results of PPMI and SVD similarities are very similar, therefore we cannot definitely say that one is better than the other, because they might perform differently with other data. \n",
    "\n",
    "All three p-values are shown as 0.0000. They are lower than 0.005, which means the answers are statistically significant."
   ]
  },
  {
   "cell_type": "markdown",
   "metadata": {},
   "source": [
    "We can also calculate correlation coefficients between lists of cosine similarity scores and the real visual similarity scores from the experiment. Which similarity model best correlates with them? How do the correlation coefficients compare with those from the previous comparison - and can you speculate why do we get such results? **[7 marks]**"
   ]
  },
  {
   "cell_type": "code",
   "execution_count": 11,
   "metadata": {},
   "outputs": [
    {
     "name": "stdout",
     "output_type": "stream",
     "text": [
      "Visual Similarity vs. Raw Similarity:\n",
      "rho     = 0.1212\n",
      "p-value = 0.0007\n",
      "\n",
      "Visual Similarity vs. Ppmi Similarity:\n",
      "rho     = 0.3838\n",
      "p-value = 0.0000\n",
      "\n",
      "Visual Similarity vs. SVD Similarity:\n",
      "rho     = 0.3097\n",
      "p-value = 0.0000\n"
     ]
    }
   ],
   "source": [
    "rho1, pval1 = stats.spearmanr(visual_similarity, raw_similarities)\n",
    "print(\"\"\"Visual Similarity vs. Raw Similarity:\n",
    "rho     = {:.4f}\n",
    "p-value = {:.4f}\"\"\".format(rho1, pval1))\n",
    "print()\n",
    "\n",
    "rho2, pval2 = stats.spearmanr(visual_similarity, ppmi_similarities)\n",
    "print(\"\"\"Visual Similarity vs. Ppmi Similarity:\n",
    "rho     = {:.4f}\n",
    "p-value = {:.4f}\"\"\".format(rho2, pval2))\n",
    "print()\n",
    "\n",
    "rho3, pval3 = stats.spearmanr(visual_similarity, svd_similarities)\n",
    "print(\"\"\"Visual Similarity vs. SVD Similarity:\n",
    "rho     = {:.4f}\n",
    "p-value = {:.4f}\"\"\".format(rho3, pval3))"
   ]
  },
  {
   "cell_type": "markdown",
   "metadata": {},
   "source": [
    "**Your answer should go here:**\n",
    "\n",
    "As with the semantic similarity, the ppmi similarity pets the highest correlation (0.3838). In this case, though, all correlations are lower than the results comparing with semantic similarity (0.1212 against 0.1522; 0.3838 against 0.4547; and 0.3097 agains 0.4232). \n",
    "\n",
    "Comparing these scores to the previous ones, it's obvious that the reason why the ones with visual similarity are lower is because the values in similarity_judgements.txt are generally lower for visual similarity than for semantic similarity. \n",
    "A possible reason for the lower visual similarity scores is that they show an example of a concept rather than the overall concept of them (semantic). For example if you see the words \"car\" and \"boat\", you might imagine more similarities between the two because both are a form of transportation. But if you see an image of the two, you have details like water around the boat and land around the car and have more information to create differences between the two concepts.\n",
    "\n",
    "In this case, we get a higher p-value for visual similarity vs. raw similarity, although it is lower than 0.05 and therefore still statistically significant."
   ]
  },
  {
   "cell_type": "markdown",
   "metadata": {},
   "source": [
    "## 4. Operations on similarities"
   ]
  },
  {
   "cell_type": "markdown",
   "metadata": {},
   "source": [
    "We can perform mathematical operations on vectors to derive meaning predictions. For example, we can subtract the normalised vectors for `king` minus `queen` and add the resulting vector to `man` and we hope to get the vector for `woman`. Why? **[3 marks]**"
   ]
  },
  {
   "attachments": {
    "image.png": {
     "image/png": "[encoded data removed]"
    }
   },
   "cell_type": "markdown",
   "metadata": {},
   "source": [
    "**Your answer should go here:**\n",
    "\n",
    "Assuming they are in the same vector space, the meaning of words can be represented as vectors. We are able to get analogies from the relations between two vectors: analogy = \"a is to b what x is to y\". It asserts that a and x can be transformed in the same way to get b and y respectively, and that b and y can be inversely transformed to get a and x.\n",
    "In this case, we could say that \"a man is to a woman what a king is to a queen\", because man-woman share a male-female relationship in the same way as king-queen do.\n",
    "\n",
    "We have the following 4 assumptions:\n",
    "\n",
    "- the group of all 'person' entities are either 'man' or 'woman', so: person = {man, woman} (let's ignore non-binary people here for a second, I'm sorry)\n",
    "- the group of all 'monarch' entities are either 'king' or 'queen', so: monarch = {king, queen}\n",
    "- both 'woman' and 'queen' belong to the same group 'female', so: female = {woman, queen}\n",
    "- both 'man' and 'king' belong to the same group 'male', so: male = {man, king}\n",
    "\n",
    "With these, we can deduce that:\n",
    "\n",
    "- king - man + woman = queen (we get the property 'male' away from king and add the property 'female', so it becomes queen)\n",
    "- queen - woman + man = king (we get the property 'female' away from queen and add the property 'male', so it becomes king)\n",
    "- man - king + queen = woman (we get the property 'monarch' away from man and add the property 'female', so it becomes woman)\n",
    "- woman - queen + king = man (we get the property 'monarch' away from woman and add the property 'male', so it becomes man)\n",
    "\n",
    "![image.png](attachment:image.png)\n",
    "\n",
    "\n",
    "(Sources: https://kawine.github.io/blog/nlp/2019/06/21/word-analogies.html, https://arxiv.org/pdf/1810.04882.pdf)"
   ]
  },
  {
   "cell_type": "markdown",
   "metadata": {},
   "source": [
    "Here is some helpful code that allows us to calculate such comparisons."
   ]
  },
  {
   "cell_type": "code",
   "execution_count": 12,
   "metadata": {},
   "outputs": [],
   "source": [
    "from scipy.spatial import distance\n",
    "\n",
    "def normalize(vec):\n",
    "    return vec / veclen(vec)\n",
    "\n",
    "def find_similar_to(vec1, space):\n",
    "    # vector similarity function\n",
    "    #sim_fn = lambda a, b: 1-distance.euclidean(normalize(a), normalize(b))\n",
    "    #sim_fn = lambda a, b: 1-distance.correlation(a, b)\n",
    "    #sim_fn = lambda a, b: 1-distance.cityblock(normalize(a), normalize(b))\n",
    "    #sim_fn = lambda a, b: 1-distance.chebyshev(normalize(a), normalize(b))\n",
    "    #sim_fn = lambda a, b: np.dot(normalize(a), normalize(b))\n",
    "    sim_fn = lambda a, b: 1-distance.cosine(a, b)\n",
    "\n",
    "    sims = [\n",
    "        (word2, sim_fn(vec1, space[word2]))\n",
    "        for word2 in space.keys()\n",
    "    ]\n",
    "    return sorted(sims, key = lambda p:p[1], reverse=True)"
   ]
  },
  {
   "cell_type": "markdown",
   "metadata": {},
   "source": [
    "Here is how you apply this code. Comment on the results you get. **[3 marks]**"
   ]
  },
  {
   "cell_type": "code",
   "execution_count": 13,
   "metadata": {},
   "outputs": [
    {
     "data": {
      "text/plain": [
       "[('long', 0.8733111261346901),\n",
       " ('above', 0.8259671977311955),\n",
       " ('around', 0.8030776291120685),\n",
       " ('sun', 0.7692439111243973),\n",
       " ('just', 0.7678481974778111),\n",
       " ('wide', 0.767257431992253),\n",
       " ('each', 0.7665960260861158),\n",
       " ('circle', 0.7647746702909336),\n",
       " ('length', 0.7601066921319761),\n",
       " ('almost', 0.7542351860536628)]"
      ]
     },
     "execution_count": 13,
     "metadata": {},
     "output_type": "execute_result"
    }
   ],
   "source": [
    "short = normalize(svdspace_10k['short'])\n",
    "light = normalize(svdspace_10k['light'])\n",
    "long = normalize(svdspace_10k['long'])\n",
    "heavy = normalize(svdspace_10k['heavy'])\n",
    "\n",
    "find_similar_to(light - (heavy - long), svdspace_10k)[:10]"
   ]
  },
  {
   "cell_type": "markdown",
   "metadata": {},
   "source": [
    "**Your answer should go here:**\n",
    "\n",
    "- light - (heavy - long) = short\n",
    "\n",
    "We are looking for words that are similar to \"short\". The most similar ones are \"long\", \"above\" and \"around\". We get \"long\" which was in the analogy. We think that some of the results are not straightforward, because most of them are not similar to \"short\" (e.g., \"sun\" and \"circle\"). A possible explanation is the different senses of the word \"light\": it might be percieved as a 'visual light' (as a noun, e.g. \"sunlight\"), in contrast to something that doesn't weigh much."
   ]
  },
  {
   "cell_type": "markdown",
   "metadata": {},
   "source": [
    "Find 5 similar pairs of pairs of words and test them. Hint: Google for `word analogies examples`. You can also construct analogies that are less lexical but more grammatical, e.g. `see, saw, leave, ?` or analogies that are based on world knowledge as in the [Google analogy dataset](http://download.tensorflow.org/data/questions-words.txt) from [3]. Does the resulting vector similarity confirm your expectations? But remember you can only do this if the words are contained in our vector space with 10,000 dimensions. **[10 marks]**"
   ]
  },
  {
   "cell_type": "code",
   "execution_count": 38,
   "metadata": {},
   "outputs": [
    {
     "data": {
      "text/plain": [
       "[('america', 0.8093356846965674),\n",
       " ('japan', 0.8046466210755414),\n",
       " ('europe', 0.7903010127649734),\n",
       " ('australia', 0.7810064934956625),\n",
       " ('norway', 0.7628376672368721),\n",
       " ('india', 0.7625449868266222),\n",
       " ('china', 0.7569480163365856),\n",
       " ('world', 0.7461164991228704),\n",
       " ('ireland', 0.7344872152821258),\n",
       " ('korea', 0.7258435513102935)]"
      ]
     },
     "execution_count": 38,
     "metadata": {},
     "output_type": "execute_result"
    }
   ],
   "source": [
    "# Example 1\n",
    "europe = normalize(svdspace_10k['europe'])\n",
    "euro = normalize(svdspace_10k['euro'])\n",
    "america = normalize(svdspace_10k['america'])\n",
    "dollar = normalize(svdspace_10k['dollar'])\n",
    "# europe? YES, third element\n",
    "find_similar_to(euro - (dollar - america), svdspace_10k)[:10]"
   ]
  },
  {
   "cell_type": "code",
   "execution_count": 41,
   "metadata": {},
   "outputs": [
    {
     "data": {
      "text/plain": [
       "[('europe', 1.0),\n",
       " ('india', 0.9279673325608273),\n",
       " ('asia', 0.9221734859667581),\n",
       " ('china', 0.9148551114484601),\n",
       " ('western', 0.8960299776558365),\n",
       " ('africa', 0.8911709414448457),\n",
       " ('japan', 0.8789820245478801),\n",
       " ('eastern', 0.8649092076061526),\n",
       " ('america', 0.8474762554421145),\n",
       " ('australia', 0.8471880189581936)]"
      ]
     },
     "execution_count": 41,
     "metadata": {},
     "output_type": "execute_result"
    }
   ],
   "source": [
    "# Check 1\n",
    "find_similar_to(europe, svdspace_10k)[:10]"
   ]
  },
  {
   "cell_type": "markdown",
   "metadata": {},
   "source": [
    "In this example, we are looking for vectors that are similar to the representation of \"Europe\" (example 1). When we check the vectors that are actually similar to the vector \"Europe\" (check 1), we find: \"india\", \"asia\", \"china\", etc. 6 out of the 10 more similar ones are the same that the words in example 1. The other words, even though they are different, are not very far off the intented meaning. \n",
    "One possible reason is that the analogy is not perfect: not all countries in Europe use euro, and not all countries in America (continent) use dollars. There are other type of dollars in other places: canadian dollars, australian dollars..."
   ]
  },
  {
   "cell_type": "code",
   "execution_count": 35,
   "metadata": {},
   "outputs": [
    {
     "data": {
      "text/plain": [
       "[('snake', 0.8055536128473741),\n",
       " ('cow', 0.7856458968516962),\n",
       " ('fur', 0.7467442912558707),\n",
       " ('goat', 0.7453973186246097),\n",
       " ('sand', 0.7427980775794607),\n",
       " ('grass', 0.729182427604787),\n",
       " ('deer', 0.7259459207354834),\n",
       " ('bull', 0.7244857427954794),\n",
       " ('eagle', 0.7192924174395494),\n",
       " ('salmon', 0.714489957600673)]"
      ]
     },
     "execution_count": 35,
     "metadata": {},
     "output_type": "execute_result"
    }
   ],
   "source": [
    "# Example 2\n",
    "dog = normalize(svdspace_10k['dog'])\n",
    "fur = normalize(svdspace_10k['fur'])\n",
    "snake = normalize(svdspace_10k['snake'])\n",
    "scales = normalize(svdspace_10k['scales'])\n",
    "# dog? NO\n",
    "find_similar_to(fur - (scales - snake), svdspace_10k)[:10]"
   ]
  },
  {
   "cell_type": "code",
   "execution_count": 42,
   "metadata": {},
   "outputs": [
    {
     "data": {
      "text/plain": [
       "[('dog', 0.9999999999999998),\n",
       " ('cat', 0.9109691036171016),\n",
       " ('cow', 0.9059365350414496),\n",
       " ('devil', 0.8979050944181455),\n",
       " ('wild', 0.8971969318000859),\n",
       " ('bird', 0.8913926058683376),\n",
       " ('horse', 0.8843443949679096),\n",
       " ('pig', 0.8760328247399864),\n",
       " ('tiger', 0.8755801910518344),\n",
       " ('pet', 0.8669161452028409)]"
      ]
     },
     "execution_count": 42,
     "metadata": {},
     "output_type": "execute_result"
    }
   ],
   "source": [
    "# Check 2\n",
    "find_similar_to(dog, svdspace_10k)[:10]"
   ]
  },
  {
   "cell_type": "markdown",
   "metadata": {},
   "source": [
    "In this example, we are looking for vectors that are similar to the representation of \"dog\" (example 2). When we check the vectors that are actually similar to the vector \"dog\" (check 1), we find: \"cat\", \"cow\", \"devil\"... They are mostly animals, which do make sense, although there are some unexpected words, such as \"devil\" and \"wild\". In the results in example 2 we do not find \"dog\" but we see some other animals such as \"goat\" and \"deer\". These animals, though, are more exotic than the ones we get in check 2."
   ]
  },
  {
   "cell_type": "code",
   "execution_count": 37,
   "metadata": {},
   "outputs": [
    {
     "data": {
      "text/plain": [
       "[('sell', 0.8242686954560456),\n",
       " ('buy', 0.7988752560023821),\n",
       " ('purchase', 0.7874714153983022),\n",
       " ('acquire', 0.7854461986814776),\n",
       " ('produce', 0.7712097058463793),\n",
       " ('maintain', 0.766158810167326),\n",
       " ('obtain', 0.7585145257957805),\n",
       " ('develop', 0.7578372360651898),\n",
       " ('extract', 0.7496942729938608),\n",
       " ('import', 0.7390445498612119)]"
      ]
     },
     "execution_count": 37,
     "metadata": {},
     "output_type": "execute_result"
    }
   ],
   "source": [
    "# Example 3\n",
    "sick = normalize(svdspace_10k['sick'])\n",
    "sell = normalize(svdspace_10k['sell'])\n",
    "healthy = normalize(svdspace_10k['healthy'])\n",
    "buy = normalize(svdspace_10k['buy'])\n",
    "# sell? YES! 1st position\n",
    "find_similar_to(healthy - (sick - buy), svdspace_10k)[:10]"
   ]
  },
  {
   "cell_type": "code",
   "execution_count": 44,
   "metadata": {},
   "outputs": [
    {
     "data": {
      "text/plain": [
       "[('sell', 1.0),\n",
       " ('buy', 0.969111476850082),\n",
       " ('purchase', 0.9119611206947998),\n",
       " ('acquire', 0.866527853814694),\n",
       " ('collect', 0.8633637485414764),\n",
       " ('raise', 0.8427579042205946),\n",
       " ('introduce', 0.8329825762790614),\n",
       " ('steal', 0.8221795138834136),\n",
       " ('attract', 0.8200977418533235),\n",
       " ('deliver', 0.8162718941948682)]"
      ]
     },
     "execution_count": 44,
     "metadata": {},
     "output_type": "execute_result"
    }
   ],
   "source": [
    "# Check 3\n",
    "find_similar_to(sell, svdspace_10k)[:10]"
   ]
  },
  {
   "cell_type": "markdown",
   "metadata": {},
   "source": [
    "In this example, we are looking for vectors that are similar to the representation of \"sell\" (example 3). When we check the vectors that are actually similar to the vector \"sell\" (check 3), we find: \"buy\", \"purchase\", \"acquire\"... These are all verbs related to the word \"sell\", that we find in example 3 as well. In this case, we even find that the first vector that is most similar to the analogy of \"sell\" is \"sell\" itself. An interesting detail is that in this example we compared verbs and adjectives; different POS. "
   ]
  },
  {
   "cell_type": "code",
   "execution_count": 17,
   "metadata": {},
   "outputs": [
    {
     "data": {
      "text/plain": [
       "[('has', 0.9273413615460835),\n",
       " ('was', 0.8600905912785316),\n",
       " ('been', 0.8433029279724935),\n",
       " ('being', 0.8302042868827602),\n",
       " ('is', 0.8247777798955764),\n",
       " ('also', 0.811535117303856),\n",
       " ('largely', 0.8076382110649875),\n",
       " ('initially', 0.8062007280183979),\n",
       " ('recently', 0.8056544933909427),\n",
       " ('already', 0.7968747367177144)]"
      ]
     },
     "execution_count": 17,
     "metadata": {},
     "output_type": "execute_result"
    }
   ],
   "source": [
    "# Example 4\n",
    "is_ = normalize(svdspace_10k['is'])\n",
    "has = normalize(svdspace_10k['has'])\n",
    "was = normalize(svdspace_10k['was'])\n",
    "had = normalize(svdspace_10k['had'])\n",
    "# is? YES, fifth element\n",
    "find_similar_to(has - (had - was), svdspace_10k)[:10]"
   ]
  },
  {
   "cell_type": "code",
   "execution_count": 45,
   "metadata": {},
   "outputs": [
    {
     "data": {
      "text/plain": [
       "[('is', 0.9999999999999998),\n",
       " ('quite', 0.8061687688606284),\n",
       " ('somewhat', 0.8027295763139554),\n",
       " ('be', 0.7932721665880712),\n",
       " ('entirely', 0.7816921098259183),\n",
       " ('fairly', 0.7807041097865921),\n",
       " ('universally', 0.7779475366965394),\n",
       " ('therefore', 0.7776758960863804),\n",
       " ('otherwise', 0.7759732752569581),\n",
       " ('yet', 0.7705726695382289)]"
      ]
     },
     "execution_count": 45,
     "metadata": {},
     "output_type": "execute_result"
    }
   ],
   "source": [
    "# Check 4\n",
    "find_similar_to(is_, svdspace_10k)[:10]"
   ]
  },
  {
   "cell_type": "markdown",
   "metadata": {},
   "source": [
    "In this example, we are looking for vectors that are similar to the representation of \"is\" (example 4). When we check the vectors that are actually similar to the vector \"is\" (check 4), we find: \"quite\", \"somewhat\", \"be\"... These are different from the results in example 4: \"has\", \"was\", \"been\"... which are arguably more similar to what were expecting. "
   ]
  },
  {
   "cell_type": "code",
   "execution_count": 16,
   "metadata": {},
   "outputs": [
    {
     "data": {
      "text/plain": [
       "[('there', 0.8750216933825887),\n",
       " ('households', 0.8178781202097526),\n",
       " ('housing', 0.8170024487654932),\n",
       " ('families', 0.8131348349173683),\n",
       " ('residing', 0.8060339229963542),\n",
       " ('km/h', 0.798366822216013),\n",
       " ('mph', 0.7885384220636644),\n",
       " ('hp', 0.7850063177394855),\n",
       " ('kw', 0.7818992853963485),\n",
       " ('units', 0.7706899368305988)]"
      ]
     },
     "execution_count": 16,
     "metadata": {},
     "output_type": "execute_result"
    }
   ],
   "source": [
    "# Example 5\n",
    "here = normalize(svdspace_10k['here'])\n",
    "close = normalize(svdspace_10k['close'])\n",
    "there = normalize(svdspace_10k['there'])\n",
    "far = normalize(svdspace_10k['far'])\n",
    "# here? NO\n",
    "find_similar_to(close - (far - there), svdspace_10k)[:10]"
   ]
  },
  {
   "cell_type": "code",
   "execution_count": 46,
   "metadata": {},
   "outputs": [
    {
     "data": {
      "text/plain": [
       "[('here', 0.9999999999999998),\n",
       " ('actually', 0.8836984628428547),\n",
       " ('simply', 0.8801364074498991),\n",
       " ('just', 0.8747031375663782),\n",
       " ('what', 0.87415226687602),\n",
       " ('always', 0.8725701679852148),\n",
       " ('nothing', 0.8600253125838329),\n",
       " ('how', 0.8524498697541308),\n",
       " ('really', 0.8422686214255564),\n",
       " ('something', 0.8408525354482668)]"
      ]
     },
     "execution_count": 46,
     "metadata": {},
     "output_type": "execute_result"
    }
   ],
   "source": [
    "# Check 5\n",
    "find_similar_to(here, svdspace_10k)[:10]"
   ]
  },
  {
   "cell_type": "markdown",
   "metadata": {},
   "source": [
    "In this example, we are looking for vectors that are similar to the representation of \"here\" (example 5). When we check the vectors that are actually similar to the vector \"here\" (check 5), we find: \"actually\", \"simply\", \"just\"... which are adverbs, premodifiers or words that go with \"here\". Surpisingly, \"there\" is not in check 5.\n",
    "The results in example 5 are quite unexpected: we do not get \"here\", but we do get kinship related words such as \"families\", \"residing\", etc. "
   ]
  },
  {
   "cell_type": "markdown",
   "metadata": {},
   "source": [
    "## 5. Semantic composition and phrase similarity **[20 marks]**\n",
    "\n",
    "In this task, we are going to look at how different semantic composition models, introduced in [2] correlate with human judgements. The file with the dataset is `mitchell_lapata_acl08.txt` included with this notebook. Your task is to do the following:  \n",
    "\n",
    "(i) process the dataset, extract pairs of `reference - landmark high` and `reference - landmark low`; you can use the code from the lecture as something to start with. Note that there are 2 landmarks for each reference: one landmark exhibits high similarity with the reference, while another one has low similarity with the reference. A single human participant could have evaluated both of these pairs. For more details, we refer you to the paper.  \n",
    "\n",
    "(ii) build models of semantic phrase composition: in the lecture we introduced simple additive, simple multiplicative and combined models (details are in [2]). Your task is to take a single pair (a reference or a high similarity landmark or a low similarity landmark) and compute the composition of its vectors using each of these functions. Thus, you will have three compositional models that take a `noun - verb` pair and output a single vector, representing the meaning of this pair. As your semantic space, you can use pretrained spaces (standard space, ppmi or svd) introduced above. It is up to you which space you use, but for someone who runs your code, it should be pretty straightforward to switch between them.\n",
    "\n",
    "(iii) calculate Spearman correlation between each model's predictions and human judgements; you should have something similar to the scores that are shown in the paper [2]:  "
   ]
  },
  {
   "cell_type": "markdown",
   "metadata": {},
   "source": [
    "![title](./res.png)"
   ]
  },
  {
   "cell_type": "markdown",
   "metadata": {},
   "source": [
    "The paper states that they calculated correlations between each individual participant's judgeements and each model's predictions.  \n",
    "\n",
    "Let's say we have 3 models: simple additive (A), simple multiplicative (M), combined (C).  \n",
    "From our task dataset, we also know that we have 20 participants.  \n",
    "Now, for each participant in 20 participants we get all `verb - noun` pairs that these participated evaluated.  \n",
    "For example:"
   ]
  },
  {
   "cell_type": "code",
   "execution_count": 19,
   "metadata": {},
   "outputs": [],
   "source": [
    "participant_judgemenets_example = [\n",
    " 'participant50 chatter child gabble 6 high',\n",
    " 'participant50 chatter tooth click 2 high',\n",
    " 'participant50 reel head whirl 5 high',\n",
    " 'participant50 reel mind stagger 4 low',\n",
    " 'participant50 reel industry stagger 5 high',\n",
    " 'participant50 reel man whirl 3 low',\n",
    " 'participant50 glow fire beam 7 low',\n",
    " 'participant50 glow face burn 3 low',\n",
    " 'participant50 glow cigar burn 5 high',\n",
    " 'participant50 glow skin beam 7 high'\n",
    "    \n",
    "]"
   ]
  },
  {
   "cell_type": "code",
   "execution_count": 20,
   "metadata": {},
   "outputs": [
    {
     "data": {
      "text/plain": [
       "['participant50 chatter child gabble 6 high',\n",
       " 'participant50 chatter tooth click 2 high',\n",
       " 'participant50 reel head whirl 5 high',\n",
       " 'participant50 reel mind stagger 4 low',\n",
       " 'participant50 reel industry stagger 5 high',\n",
       " 'participant50 reel man whirl 3 low',\n",
       " 'participant50 glow fire beam 7 low',\n",
       " 'participant50 glow face burn 3 low',\n",
       " 'participant50 glow cigar burn 5 high',\n",
       " 'participant50 glow skin beam 7 high']"
      ]
     },
     "execution_count": 20,
     "metadata": {},
     "output_type": "execute_result"
    }
   ],
   "source": [
    "participant_judgemenets_example"
   ]
  },
  {
   "cell_type": "markdown",
   "metadata": {},
   "source": [
    "Let's look at the first pair that participant50 evaluated: reference `child chatter` and high-level similarity landmark (as the last word in the row indicates) `child gabble`. The human gave the similarity score of 6 (very similar). Thus, human similarity judgment = [6].  \n",
    "\n",
    "Our A model's output:  \n",
    "cosine(p1, p2) = 0.88, where p1 is the result of addition of word vectors in the reference phrase `child gabble`, and p2 is the result of addition of word vectors in the high-level similarity phrase `child chatter`.  \n",
    "\n",
    "Therefore, we have human rating vector [6] and model A output [0.88]. Next is to compute correlation between these two vectors.\n",
    "\n",
    "To get an overall score, simply average your correlation scores over all participants, since you are calculating correlation scores per participant.\n",
    "\n",
    "Of course, your human rating vectors will be longer (e.g., [6, 7, 3, 4, 5]) where each element is a participant's judgement of a specific pair. Each of your models (A, B, C) will produce a single vector of cosine similarity between these same pairs (e.g., [0.89, 0.98, 0.23, 0.65, 0.55]). The goal is to compare each model's cosine similarity vectors with human rating vectors and identify the model which outputs the best result in terms of being the closest to the way human rate similarity between the phrases.\n",
    "\n",
    "The minimum to do in this task: compute correlations for 3 models mentioned above and human rating for AT LEAST one participant. Elaborate on how different the resulting correlation scores are depending on the model's composition function (additive, multiplicative, combined). For examples on how to interpret the results, look at Section 5 Results of the original paper."
   ]
  },
  {
   "cell_type": "markdown",
   "metadata": {},
   "source": [
    "**To do**\n",
    "\n",
    "1. Preprocess data\n",
    "2. Create functions for addition, multiplication, combination\n",
    "3. Cosine for the results of 2 (each reference and landmark)\n",
    "4. Compare with Spearman's rho part 3 vs. human ratings"
   ]
  },
  {
   "cell_type": "code",
   "execution_count": 59,
   "metadata": {},
   "outputs": [],
   "source": [
    "# Part 1. Preprocessing\n",
    "# load the task dataset\n",
    "with open('./mitchell_lapata_acl08.txt', 'r') as f:\n",
    "    phrase_dataset = f.read().splitlines()\n",
    "    \n",
    "# extract pairs of reference - landmark high and reference - landmark low; \n",
    "dataset = {}\n",
    "\n",
    "for line in phrase_dataset[1:]:\n",
    "    participant_id, reference, noun, landmark, rating, hilo = line.split()\n",
    "        \n",
    "    reference_phrase = [noun, reference]\n",
    "    landmark_phrase = [noun, landmark]\n",
    "    \n",
    "    if noun in ktw_10k and reference in ktw_10k and landmark in ktw_10k:\n",
    "        if participant_id not in dataset:\n",
    "            dataset[participant_id] = [(reference_phrase, landmark_phrase, int(rating), hilo)]\n",
    "        else:\n",
    "            dataset[participant_id].append((reference_phrase, landmark_phrase, int(rating), hilo))"
   ]
  },
  {
   "cell_type": "code",
   "execution_count": 60,
   "metadata": {},
   "outputs": [
    {
     "data": {
      "text/plain": [
       "[(['butler', 'bow'], ['butler', 'submit'], 3, 'low'),\n",
       " (['company', 'bow'], ['company', 'submit'], 5, 'high'),\n",
       " (['sale', 'boom'], ['sale', 'thunder'], 3, 'low'),\n",
       " (['gun', 'boom'], ['gun', 'thunder'], 6, 'high')]"
      ]
     },
     "execution_count": 60,
     "metadata": {},
     "output_type": "execute_result"
    }
   ],
   "source": [
    "dataset['participant20']\n",
    "# ([noun, reference_verb], [noun, landmark_verb], humanscore, hilo)"
   ]
  },
  {
   "cell_type": "code",
   "execution_count": 68,
   "metadata": {},
   "outputs": [],
   "source": [
    "# Part 2\n",
    "# functions for creating compositional vectors of phrases\n",
    "def get_additional_composition(noun_vec, ref_verb_vec, landmark_verb_vec):\n",
    "    ref_vec = noun_vec + ref_verb_vec\n",
    "    landmark_vec = noun_vec + landmark_verb_vec\n",
    "    return list(ref_vec), list(landmark_vec)\n",
    "\n",
    "def get_multiplicative_composition(noun_vec, ref_verb_vec, landmark_verb_vec):\n",
    "    ref_vec = noun_vec * ref_verb_vec\n",
    "    landmark_vec = noun_vec * landmark_verb_vec\n",
    "    return list(ref_vec), list(landmark_vec)\n",
    "\n",
    "def get_combined_composition(noun_vec, ref_verb_vec, landmark_verb_vec):\n",
    "    ref_vec = noun_vec * ref_verb_vec\n",
    "    landmark_vec = landmark_verb_vec * 0.95 + (0.05 * noun_vec * landmark_verb_vec)\n",
    "    return list(ref_vec), list(landmark_vec)"
   ]
  },
  {
   "cell_type": "code",
   "execution_count": 79,
   "metadata": {},
   "outputs": [],
   "source": [
    "from scipy import spatial\n",
    "\n",
    "cos_add_low = []\n",
    "cos_add_high = []\n",
    "cos_mult_low = []\n",
    "cos_mult_high = []\n",
    "cos_comb_low = []\n",
    "cos_comb_high = []\n",
    "\n",
    "human_low = []\n",
    "human_high = []\n",
    "\n",
    "vec_rep = ppmispace_10k # the vector representation can be changed here\n",
    "\n",
    "for participant_id, values in dataset.items():\n",
    "    for annotation in values:\n",
    "        \n",
    "        noun_vec = vec_rep[annotation[0][0]]\n",
    "        ref_verb_vec = vec_rep[annotation[0][1]]\n",
    "        landmark_verb_vec = vec_rep[annotation[1][1]]\n",
    "        \n",
    "        ref_vec_add, landmark_vec_add = get_additional_composition(noun_vec, ref_verb_vec, landmark_verb_vec)\n",
    "        ref_vec_mult, landmark_vec_mult = get_multiplicative_composition(noun_vec, ref_verb_vec, landmark_verb_vec)\n",
    "        ref_vec_comb, landmark_vec_comb = get_combined_composition(noun_vec, ref_verb_vec, landmark_verb_vec)\n",
    "        \n",
    "        if annotation[3] == 'low':\n",
    "            \n",
    "            cos_add_low.append(1 - spatial.distance.cosine(ref_vec_add, landmark_vec_add))\n",
    "            cos_mult_low.append(1 - spatial.distance.cosine(ref_vec_mult, landmark_vec_mult))\n",
    "            cos_comb_low.append(1 - spatial.distance.cosine(ref_vec_comb, landmark_vec_comb))\n",
    "            \n",
    "            human_low.append(annotation[2])\n",
    "            \n",
    "        elif annotation[3] == 'high':\n",
    "            \n",
    "            cos_add_high.append(1 - spatial.distance.cosine(ref_vec_add, landmark_vec_add))\n",
    "            cos_mult_high.append(1 - spatial.distance.cosine(ref_vec_mult, landmark_vec_mult))\n",
    "            cos_comb_high.append(1 - spatial.distance.cosine(ref_vec_comb, landmark_vec_comb))\n",
    "            \n",
    "            human_high.append(annotation[2])"
   ]
  },
  {
   "cell_type": "code",
   "execution_count": 80,
   "metadata": {},
   "outputs": [],
   "source": [
    "# Getting the averages\n",
    "\n",
    "cos_add_low_avg = np.average(cos_add_low)\n",
    "cos_add_high_avg = np.average(cos_add_high)\n",
    "cos_mult_low_avg = np.average(cos_mult_low)\n",
    "cos_mult_high_avg = np.average(cos_mult_high)\n",
    "cos_comb_low_avg = np.average(cos_comb_low)\n",
    "cos_comb_high_avg = np.average(cos_comb_high)"
   ]
  },
  {
   "cell_type": "code",
   "execution_count": 83,
   "metadata": {},
   "outputs": [
    {
     "name": "stdout",
     "output_type": "stream",
     "text": [
      "Cosine additional low vs. Human low:\n",
      "rho     = 0.0292\n",
      "p-value = 0.7513\n",
      "\n",
      "Cosine additional high vs. Human high:\n",
      "rho     = -0.3998\n",
      "p-value = 0.0000\n",
      "\n",
      "Cosine multiplication low vs. Human low:\n",
      "rho     = 0.0838\n",
      "p-value = 0.3629\n",
      "\n",
      "Cosine multiplication high vs. Human high:\n",
      "rho     = 0.1020\n",
      "p-value = 0.2676\n",
      "\n",
      "Cosine combination low vs. Human low:\n",
      "rho     = 0.0838\n",
      "p-value = 0.3629\n",
      "\n",
      "Cosine combination high vs. Human high:\n",
      "rho     = 0.1020\n",
      "p-value = 0.2676\n"
     ]
    }
   ],
   "source": [
    "# Part 3\n",
    "rho, pval = stats.spearmanr(cos_add_low, human_low)\n",
    "print(\"\"\"Cosine additional low vs. Human low:\n",
    "rho     = {:.4f}\n",
    "p-value = {:.4f}\"\"\".format(rho, pval))\n",
    "print()\n",
    "\n",
    "rho, pval = stats.spearmanr(cos_add_high, human_high)\n",
    "print(\"\"\"Cosine additional high vs. Human high:\n",
    "rho     = {:.4f}\n",
    "p-value = {:.4f}\"\"\".format(rho, pval))\n",
    "print()\n",
    "\n",
    "rho, pval = stats.spearmanr(cos_mult_low, human_low)\n",
    "print(\"\"\"Cosine multiplication low vs. Human low:\n",
    "rho     = {:.4f}\n",
    "p-value = {:.4f}\"\"\".format(rho, pval))\n",
    "print()\n",
    "\n",
    "rho, pval = stats.spearmanr(cos_mult_high, human_high)\n",
    "print(\"\"\"Cosine multiplication high vs. Human high:\n",
    "rho     = {:.4f}\n",
    "p-value = {:.4f}\"\"\".format(rho, pval))\n",
    "print()\n",
    "\n",
    "rho, pval = stats.spearmanr(cos_comb_low, human_low)\n",
    "print(\"\"\"Cosine combination low vs. Human low:\n",
    "rho     = {:.4f}\n",
    "p-value = {:.4f}\"\"\".format(rho, pval))\n",
    "print()\n",
    "\n",
    "rho, pval = stats.spearmanr(cos_comb_high, human_high)\n",
    "print(\"\"\"Cosine combination high vs. Human high:\n",
    "rho     = {:.4f}\n",
    "p-value = {:.4f}\"\"\".format(rho, pval))"
   ]
  },
  {
   "cell_type": "markdown",
   "metadata": {},
   "source": [
    "**Any comments/thoughts should go here:**"
   ]
  },
  {
   "cell_type": "markdown",
   "metadata": {},
   "source": [
    "# Literature\n",
    "\n",
    "  - [1] C. Silberer and M. Lapata. Learning grounded meaning representations with autoencoders. In Proceedings of the 52nd Annual Meeting of the Association for Computational Linguistics, pages 721–732, Baltimore, Maryland, USA, June 23–25 2014 2014. Association for Computational Linguistics.  \n",
    "\n",
    "  - [2] Mitchell, J., & Lapata, M. (2008). Vector-based Models of Semantic Composition. In Proceedings of ACL-08: HLT (pp. 236–244). Association for Computational Linguistics.\n",
    "  \n",
    "  - [3] T. Mikolov, I. Sutskever, K. Chen, G. S. Corrado, and J. Dean. Distributed representations of words and phrases and their compositionality. In Advances in neural information processing systems, pages 3111–3119, 2013."
   ]
  },
  {
   "cell_type": "markdown",
   "metadata": {},
   "source": [
    "## Marks\n",
    "\n",
    "This assignment has a total of 60 marks."
   ]
  },
  {
   "cell_type": "code",
   "execution_count": null,
   "metadata": {},
   "outputs": [],
   "source": []
  },
  {
   "cell_type": "code",
   "execution_count": null,
   "metadata": {},
   "outputs": [],
   "source": []
  },
  {
   "cell_type": "code",
   "execution_count": null,
   "metadata": {},
   "outputs": [],
   "source": []
  },
  {
   "cell_type": "code",
   "execution_count": null,
   "metadata": {},
   "outputs": [],
   "source": []
  },
  {
   "cell_type": "code",
   "execution_count": null,
   "metadata": {},
   "outputs": [],
   "source": []
  },
  {
   "cell_type": "code",
   "execution_count": null,
   "metadata": {},
   "outputs": [],
   "source": []
  },
  {
   "cell_type": "code",
   "execution_count": null,
   "metadata": {},
   "outputs": [],
   "source": []
  },
  {
   "cell_type": "code",
   "execution_count": null,
   "metadata": {},
   "outputs": [],
   "source": []
  }
 ],
 "metadata": {
  "kernelspec": {
   "display_name": "Python 3",
   "language": "python",
   "name": "python3"
  },
  "language_info": {
   "codemirror_mode": {
    "name": "ipython",
    "version": 3
   },
   "file_extension": ".py",
   "mimetype": "text/x-python",
   "name": "python",
   "nbconvert_exporter": "python",
   "pygments_lexer": "ipython3",
   "version": "3.7.4"
  }
 },
 "nbformat": 4,
 "nbformat_minor": 4
}
