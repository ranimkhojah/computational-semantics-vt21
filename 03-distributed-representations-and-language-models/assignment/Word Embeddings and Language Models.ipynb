{
 "cells": [
  {
   "cell_type": "markdown",
   "metadata": {},
   "source": [
    "**Questions**\n",
    "- Can we save the model and load it or do we need to run it every time?\n",
    "- Is there a general rule for changing the size of tensors? view/unsqueeze...\n"
   ]
  },
  {
   "cell_type": "markdown",
   "metadata": {},
   "source": [
    "# Lab 3: Word Embeddings and Language Modelling\n",
    "\n",
    "Adam Ek"
   ]
  },
  {
   "cell_type": "markdown",
   "metadata": {},
   "source": [
    "In this lab we'll explore constructing *static* word embeddings (i.e. word2vec) and building language models. We'll also evaluate these systems on intermediate tasks, namely word similarity and identifying \"good\" and \"bad\" sentences.\n",
    "\n",
    "* For this we'll use pytorch. Some basic operations that will be useful can be found here: https://jhui.github.io/2018/02/09/PyTorch-Basic-operations\n",
    "* In general: we are not interested in getting state-of-the-art performance :) focus on the implementation and not results of your model. For this reason, you can use a subset of the dataset: the first 5000-10 000 sentences or so, on linux/mac: ```head -n 10000 inputfile > outputfile```. \n",
    "* If possible, use the MLTGpu, it will make everything faster :)"
   ]
  },
  {
   "cell_type": "code",
   "execution_count": 9,
   "metadata": {},
   "outputs": [],
   "source": [
    "import torch\n",
    "import torch.nn as nn\n",
    "import torch.nn.functional as F\n",
    "import numpy as np\n",
    "import os\n",
    "\n",
    "# for gpu, replace \"cpu\" with \"cuda:n\" where n is the index of the GPU\n",
    "#os.environ[\"CUDA_DEVICE_ORDER\"] = \"PCI_BUS_ID\"\n",
    "device = torch.device('cpu')"
   ]
  },
  {
   "cell_type": "markdown",
   "metadata": {},
   "source": [
    "# Word2Vec embeddings\n",
    "\n",
    "In this first part we'll construct a word2vec model which will give us *static* word embeddings (that is, they are fixed after training).\n",
    "\n",
    "After we've trained our model we will evaluate the embeddings obtained on a word similarity task."
   ]
  },
  {
   "cell_type": "markdown",
   "metadata": {},
   "source": [
    "## Formatting data\n"
   ]
  },
  {
   "cell_type": "markdown",
   "metadata": {},
   "source": [
    "First we need to load some data, you can download the file on canvas under files/03-lab-data/wiki-corpus.txt. The file contains 50 000 sentences randomly selected from the complete wikipedia. Each line in the file contains one sentence. The sentences are whitespace tokenized.\n",
    "\n",
    "Your first task is to create a dataset suitable for word2vec. That is, we define some ```window_size``` then iterate over all sentences in the dataset, putting the center word in one field and the context words in another (separate the fields with ```tab```).\n",
    "\n",
    "For example, the sentece \"this is a lab\" with ```window size = 4``` will be formatted as:\n",
    "```\n",
    "center, context\n",
    "---------------------\n",
    "this    is a lab\n",
    "is      this a lab\n",
    "a       this is lab\n",
    "lab     this is a\n",
    "```\n",
    "\n",
    "this will be our training examples when training the word2vec model.\n",
    "\n",
    "[3 marks]"
   ]
  },
  {
   "cell_type": "code",
   "execution_count": 10,
   "metadata": {},
   "outputs": [],
   "source": [
    "data_path = '../data/wiki-corpus.txt'\n",
    "WINDOW_SIZE = 4 # I call this k all the time\n",
    "def corpus_reader(data_path):\n",
    "    with open(data_path) as f:\n",
    "        with open('formatted_data.csv', 'w') as g:\n",
    "            for old_line in f:\n",
    "                if old_line.strip():\n",
    "                    line = old_line.split()\n",
    "                    for e, word in enumerate(line):\n",
    "                        n = 1\n",
    "                        back = []\n",
    "                        forward = []\n",
    "\n",
    "                        while n<=(WINDOW_SIZE/2):\n",
    "                            if (e-n)>=0:\n",
    "                                back.append(line[e-n].lower())\n",
    "                            if len(line)>(e+n):\n",
    "                                forward.append(line[e+n].lower())\n",
    "                            n += 1\n",
    "                        if back == []:\n",
    "                            row = word.lower() + '\\t' + ' '.join(forward) + '\\n'\n",
    "                        elif forward == []:\n",
    "                            row = word.lower() + '\\t' + ' '.join(back) + '\\n'\n",
    "                        else:\n",
    "                            row = word.lower() + '\\t' + ' '.join(back) + ' ' + ' '.join(forward) + '\\n'\n",
    "                        g.write(row) "
   ]
  },
  {
   "cell_type": "markdown",
   "metadata": {},
   "source": [
    "We sampled 50 000 senteces completely random from the *whole* wikipedia for our training data. Give some reasons why this is good, and why it might be bad. (*note*: We'll have a few questions like these, one or two reasons for and against is sufficient)\n",
    "\n",
    "[2 marks]"
   ]
  },
  {
   "cell_type": "markdown",
   "metadata": {},
   "source": [
    "**Good**\n",
    "- It's most likely that the sample will be more representative.\n",
    "- It will most likely not be subject to human-based bias.\n",
    "\n",
    "**Bad**\n",
    "- If the data is not large enough, it's possible it might have an \"accidental bias\".\n",
    "- Might miss important parts of data, and then we'd have no sample of those.\n",
    "- Not revising the data might lead to weird sentences being in the corpus. (like one word sentences)\n",
    "- The data may be noise/dirty because it is not written by professionals - Wikipedia articles can be written by anyone\n",
    "\n",
    "**Other notes**\n",
    "- Wikipedia is very specific/scientific, you might get words that are not in most articles. If you want to consider natural language, these kinds of words might be a bit pointless.\n",
    "    - The sentences might be from the same/similar topics --> We could ensure that only a number of sentences are taken from each article.\n",
    "- Punctuation is nice for avoiding empty contexts in one-word sentences"
   ]
  },
  {
   "cell_type": "markdown",
   "metadata": {},
   "source": [
    "### Loading the data\n",
    "\n",
    "We now need to load the data in an appropriate format for torchtext (https://torchtext.readthedocs.io/en/latest/). We'll use PyText for this and it'll follow the same structure as I showed you in the lecture (remember to lower-case all tokens). Create a function which returns a (bucket)iterator of the training data, and the vocabulary object (```Field```). \n",
    "\n",
    "(*hint1*: you can format the data such that the center word always is first, then you only need to use one field)\n",
    "\n",
    "(*hint2*: the code I showed you during the leture is available in /files/pytorch_tutorial/ on canvas)\n",
    "\n",
    "[4 marks]"
   ]
  },
  {
   "cell_type": "code",
   "execution_count": 11,
   "metadata": {},
   "outputs": [],
   "source": [
    "from torchtext.data import Field, BucketIterator, TabularDataset\n",
    "\n",
    "def get_data():\n",
    "    whitespacer = lambda x: x.split(' ')\n",
    "\n",
    "    # \"fields\" that process the different columns in our CSV files\n",
    "    WORDS = Field(tokenize    = whitespacer,\n",
    "                   lower       = True,\n",
    "                   batch_first = True) # enforce the (batch, words) structure\n",
    "    \n",
    "    # read the csv file\n",
    "    potatoes = TabularDataset(path = 'formatted_data.csv',\n",
    "                            format = 'csv',\n",
    "                            fields = [('center', WORDS),\n",
    "                                    ('context', WORDS)],\n",
    "                            skip_header       = True,\n",
    "                            csv_reader_params = {'delimiter':'\\t',\n",
    "                                                 'quotechar':'Ö'})\n",
    "    # build vocabularies based on what our csv files contained and create word2id mapping\n",
    "    WORDS.build_vocab(potatoes)\n",
    "\n",
    "    # create batches from our data, and shuffle them for each epoch\n",
    "    potatoes_iter = BucketIterator(potatoes,\n",
    "                                  batch_size        = 8,\n",
    "                                  sort_within_batch = True,\n",
    "                                  sort_key          = lambda x: len(x.center),\n",
    "                                  shuffle           = True,\n",
    "                                  device            = device)\n",
    "\n",
    "    return potatoes_iter, WORDS"
   ]
  },
  {
   "cell_type": "code",
   "execution_count": 11,
   "metadata": {},
   "outputs": [
    {
     "ename": "NameError",
     "evalue": "name 'corpus_reader' is not defined",
     "output_type": "error",
     "traceback": [
      "\u001b[0;31m---------------------------------------------------------------------------\u001b[0m",
      "\u001b[0;31mNameError\u001b[0m                                 Traceback (most recent call last)",
      "\u001b[0;32m<ipython-input-11-fc7bd2b410cf>\u001b[0m in \u001b[0;36m<module>\u001b[0;34m\u001b[0m\n\u001b[0;32m----> 1\u001b[0;31m \u001b[0mcorpus_reader\u001b[0m\u001b[0;34m(\u001b[0m\u001b[0mdata_path\u001b[0m\u001b[0;34m)\u001b[0m\u001b[0;34m\u001b[0m\u001b[0;34m\u001b[0m\u001b[0m\n\u001b[0m",
      "\u001b[0;31mNameError\u001b[0m: name 'corpus_reader' is not defined"
     ]
    }
   ],
   "source": [
    "corpus_reader(data_path)"
   ]
  },
  {
   "cell_type": "code",
   "execution_count": 5,
   "metadata": {},
   "outputs": [],
   "source": [
    "a, b = get_data()"
   ]
  },
  {
   "cell_type": "code",
   "execution_count": 6,
   "metadata": {},
   "outputs": [],
   "source": [
    "#print(b.vocab.itos)\n",
    "#word_to_idx = {w: i for i, w in enumerate(b.vocab.itos)}\n",
    "#print(word_to_idx)"
   ]
  },
  {
   "cell_type": "markdown",
   "metadata": {},
   "source": [
    "We lower-cased all tokens above; give some reasons why this is a good idea, and why it may be harmful to our embeddings.\n",
    "\n",
    "[2 marks]"
   ]
  },
  {
   "cell_type": "markdown",
   "metadata": {},
   "source": [
    "**Good**\n",
    "- Words are not taken as different objects when they're at the beginning of the sentence. E.g. the word 'potatoes' would be considered different words in these 2 different sentences (although they are the same word): \"Potatoes are needed to make french fries\" and \"to make french fries, potatoes are needed\". \n",
    "- Easy way to take care of special cases.\n",
    "- This keeps the data consistent\n",
    "\n",
    "**Harmful**\n",
    "- Will take as the same word two words that are actually different. E.g. the word 'white' that appears twice in the following sentence would be considered the same (although they are very different, one is a proper noun and the other is an adjective): \"John White owns a white horse\".\n",
    "    - named entities aren't differentiated from other words\n",
    "- Doesn't work well with abbreviations e.g. KISS (keep it simple stupid) lowercased means something different."
   ]
  },
  {
   "cell_type": "markdown",
   "metadata": {},
   "source": [
    "## Word Embeddings Model"
   ]
  },
  {
   "cell_type": "markdown",
   "metadata": {},
   "source": [
    "We will implement the CBOW model for constructing word embedding models."
   ]
  },
  {
   "cell_type": "code",
   "execution_count": 12,
   "metadata": {},
   "outputs": [],
   "source": [
    "import torch.optim as optim"
   ]
  },
  {
   "cell_type": "markdown",
   "metadata": {},
   "source": [
    "In the CBOW model we try to predict the center word based on the context. That is, we take as input ```n``` context words, encode them as vectors, then combine them by summation. This will give us one embedding. We then use this embedding to predict *which* word in our vocabuary is the most likely center word. \n",
    "\n",
    "Implement this model \n",
    "\n",
    "[7 marks]"
   ]
  },
  {
   "cell_type": "code",
   "execution_count": 6,
   "metadata": {},
   "outputs": [],
   "source": [
    "class CBOWModel(nn.Module):\n",
    "    def __init__(self,vocab_size, embedding_dim):\n",
    "        super(CBOWModel, self).__init__()\n",
    "        self.embeddings = nn.Embedding(vocab_size, embedding_dim)\n",
    "        self.prediction = nn.Linear(embedding_dim, vocab_size) # in_features, out_features\n",
    "    \n",
    "    def forward(self, context):\n",
    "        embedded_context = self.embeddings(context)\n",
    "        projection = self.projection_function(embedded_context)\n",
    "        projection.to(device)\n",
    "        predictions = self.prediction(projection)\n",
    "        \n",
    "        return predictions\n",
    "        \n",
    "    def projection_function(self, x):\n",
    "        \"\"\"\n",
    "        This function will take as input a tensor of size (B, S, D)\n",
    "        where B is the batch_size, S the window size, and D the dimensionality of embeddings\n",
    "        this function should compute the sum over the embedding dimensions of the input, \n",
    "        that is, we transform (B, S, D) to (B, 1, D) or (B, D) \n",
    "        \"\"\"\n",
    "        xs = torch.tensor(x)\n",
    "        xs.to(device)\n",
    "        xs_sum = torch.sum(xs, dim=1)#sum(xs)#.view(1,-1)\n",
    "        return xs_sum"
   ]
  },
  {
   "cell_type": "markdown",
   "metadata": {},
   "source": [
    "Now we need to train the models. First we define which hyperparameters to use. (You can change these, for example when *developing* your model you can use a batch size of 2 and a very low dimensionality (say 10), just to speed things up). When actually training your model *fo real*, you can use a batch size of [8,16,32,64], and embedding dimensionality of [128,256]."
   ]
  },
  {
   "cell_type": "code",
   "execution_count": 7,
   "metadata": {},
   "outputs": [],
   "source": [
    "# you can change these numbers to suit your needs :)\n",
    "word_embeddings_hyperparameters = {'epochs':3,\n",
    "                                   'batch_size':64,#8,#16,\n",
    "                                   'embedding_size':128,\n",
    "                                   'learning_rate':0.001,\n",
    "                                   'embedding_dim':128}#128}"
   ]
  },
  {
   "cell_type": "markdown",
   "metadata": {},
   "source": [
    "Train your model. Iterate over the dataset, get outputs from your model, calculate loss and backpropagate.\n",
    "\n",
    "We mentioned in the lecture that we use Negative Log Likelihood (https://pytorch.org/docs/stable/generated/torch.nn.NLLLoss.html) loss to train Word2Vec model. In this lab we'll take a shortcut when *training* and use Cross Entropy Loss (https://pytorch.org/docs/stable/generated/torch.nn.CrossEntropyLoss.html), basically it combines ```log_softmax``` and ```NLLLoss```. So what your model should output is a *score* for each word in our vocabulary. The ```CrossEntropyLoss``` will then assign probabilities and calculate the negative log likelihood loss.\n",
    "\n",
    "[3 marks]"
   ]
  },
  {
   "cell_type": "code",
   "execution_count": 12,
   "metadata": {},
   "outputs": [],
   "source": [
    "# run if you don't want to wait forever for training lööp to run and model has been saved\n",
    "data, vocab = get_data()\n",
    "cbow_model = torch.load('cbow_model.pt')\n",
    "cbow_model.to(device)"
   ]
  },
  {
   "cell_type": "code",
   "execution_count": 8,
   "metadata": {},
   "outputs": [
    {
     "name": "stderr",
     "output_type": "stream",
     "text": [
      "/usr/local/lib/python3.7/site-packages/ipykernel_launcher.py:22: UserWarning: To copy construct from a tensor, it is recommended to use sourceTensor.clone().detach() or sourceTensor.clone().detach().requires_grad_(True), rather than torch.tensor(sourceTensor).\n"
     ]
    },
    {
     "name": "stdout",
     "output_type": "stream",
     "text": [
      "8.1953047765141121\n",
      "15.842925946516143\n",
      "23.425308415436504\n"
     ]
    }
   ],
   "source": [
    "# load data\n",
    "dataset, vocab = get_data()\n",
    "\n",
    "# build model and construct loss/optimizer\n",
    "cbow_model = CBOWModel(len(vocab.vocab), word_embeddings_hyperparameters['embedding_dim'])\n",
    "cbow_model.to(device)\n",
    "loss_fn = nn.CrossEntropyLoss(reduction='mean')\n",
    "optimizer = optim.Adam(cbow_model.parameters(), lr=word_embeddings_hyperparameters['learning_rate'])\n",
    "\n",
    "# start training loop\n",
    "cbow_model.train()\n",
    "total_loss = 0\n",
    "for epoch in range(word_embeddings_hyperparameters['epochs']):\n",
    "    for i, batch in enumerate(dataset):\n",
    "        \n",
    "        context = batch.context\n",
    "        target_word = batch.center\n",
    "        \n",
    "        # send your batch of sentences to the model\n",
    "        output = cbow_model(context)\n",
    "        \n",
    "        # compute the loss, you'll need to reshape the input\n",
    "        # you can read more about this is the documentation for\n",
    "        # CrossEntropyLoss\n",
    "        loss  = loss_fn(output, target_word.view(-1))\n",
    "        total_loss += loss.item()\n",
    "        \n",
    "        # print average loss for the epoch\n",
    "        print(total_loss/(i+1), end='\\r')\n",
    "        \n",
    "        # compute gradients\n",
    "        loss.backward()\n",
    "\n",
    "        # update parameters\n",
    "        optimizer.step()\n",
    "        \n",
    "        # reset gradients\n",
    "        optimizer.zero_grad()\n",
    "    print()\n",
    "    \n",
    "torch.save(cbow_model, 'cbow_model.pt')\n"
   ]
  },
  {
   "cell_type": "markdown",
   "metadata": {},
   "source": [
    "## Evaluating the model"
   ]
  },
  {
   "cell_type": "markdown",
   "metadata": {},
   "source": [
    "We will evaluate the model on a dataset of word similarities, WordSim353 (http://alfonseca.org/eng/research/wordsim353.html , also avalable in vanvas under files/03-l). The first thing we need to do is read the dataset and translate it to integers. What we'll do is to reuse the ```Field``` that records word indexes (the second output of ```get_data()```) and use it to parse the file.\n",
    "\n",
    "The wordsim data is structured as follows:\n",
    "\n",
    "```\n",
    "word1 word2 score\n",
    "...\n",
    "```\n",
    "\n",
    "\n",
    "The ```Field``` we got from ```read_data()``` has two built-in functions, ```stoi``` which maps a string to an integer and ```itos``` which maps an integer to a string. \n",
    "\n",
    "What our datareader needs to do is: \n",
    "\n",
    "```\n",
    "for line in file:\n",
    "    word1, word2, score = file.split()\n",
    "    # encode word1 and word2 as integers\n",
    "    word1_idx = vocab.vocab.stoi[word1]\n",
    "    word2_idx = vocab.vocab.stoi[word2]\n",
    "```\n",
    "\n",
    "when we have the integers for ```word_1``` and ```word2``` we'll compute the similarity between their word embeddings with *cosine simlarity*. We can obtain the embeddings by querying the embedding layer of the model.\n",
    "\n",
    "We calculate the cosine similarity for each word pair in the dataset, then compute the pearson correlation between the similarities we obtained with the scores given in the dataset. \n",
    "\n",
    "[4 marks]"
   ]
  },
  {
   "cell_type": "code",
   "execution_count": 9,
   "metadata": {},
   "outputs": [],
   "source": [
    "def compare_to_gold(cos_sims, path):\n",
    "    comps = {}\n",
    "    with open(path) as f:\n",
    "        for line in f:\n",
    "            splitted = line.split(\"\\t\")\n",
    "            word_pair = (splitted[0], splitted[1])\n",
    "            gold = float(splitted[2]) / 10\n",
    "            diff = abs(cos_sims[word_pair] - gold)\n",
    "            comps[word_pair] = diff\n",
    "    \n",
    "    sorted_comps = {k: v for k, v in sorted(comps.items(), key=lambda item: item[1])}   \n",
    "    return sorted_comps"
   ]
  },
  {
   "cell_type": "code",
   "execution_count": 10,
   "metadata": {},
   "outputs": [
    {
     "name": "stdout",
     "output_type": "stream",
     "text": [
      "[[1.         0.15998602]\n",
      " [0.15998602 1.        ]]\n"
     ]
    }
   ],
   "source": [
    "# your code goes here\n",
    "cbow_model.eval()\n",
    "def read_wordsim(path, vocab, embeddings):\n",
    "    dataset_sims = []\n",
    "    model_sims = []\n",
    "    cos_sims = {}\n",
    "    with open(path) as f:\n",
    "        for line in f:\n",
    "            word1, word2, score = line.split()\n",
    "            \n",
    "            score = float(score)\n",
    "            dataset_sims.append(score)\n",
    "            \n",
    "            # get the index for the word\n",
    "            word1_idx = vocab.vocab.stoi[word1]\n",
    "            word2_idx = vocab.vocab.stoi[word2]\n",
    "            \n",
    "            # get the embedding of the word\n",
    "            emb1 = torch.tensor(word1_idx, device=device)\n",
    "            emb1 = emb1.view(1)\n",
    "            emb2 = torch.tensor(word2_idx, device=device)\n",
    "            emb2 = emb2.view(1)\n",
    "\n",
    "            word1_emb = embeddings(emb1)\n",
    "            word2_emb = embeddings(emb2)\n",
    "            \n",
    "\n",
    "            # compute cosine similarity, we'll use the version included in pytorch functional\n",
    "            # https://pytorch.org/docs/master/generated/torch.nn.functional.cosine_similarity.html          \n",
    "            cosine_similarity = F.cosine_similarity(word1_emb, word2_emb)\n",
    "            model_sims.append(cosine_similarity.item())\n",
    "\n",
    "            cos_sims[(word1, word2)] = abs(cosine_similarity.item())\n",
    "            \n",
    "    return dataset_sims, model_sims, cos_sims\n",
    "\n",
    "\n",
    "path = '../data/wordsim_similarity_goldstandard.txt'\n",
    "\n",
    "cbow_model.embeddings.to(device)\n",
    "data, model, cos_sims = read_wordsim(path, vocab, cbow_model.embeddings)\n",
    "\n",
    "#check best and worst pairs performance\n",
    "sorted_comps = compare_to_gold(cos_sims, path)\n",
    "# #Uncomment to print the gold standard comparisons results\n",
    "# for key, value in sorted_comps.items():\n",
    "#     print(key, ' : ', value)\n",
    "\n",
    "#compute correlation\n",
    "pearson_correlation = np.corrcoef(data, model)\n",
    "            \n",
    "# the non-diagonals give the pearson correlation,\n",
    "print(pearson_correlation)"
   ]
  },
  {
   "cell_type": "markdown",
   "metadata": {},
   "source": [
    "Do you think the model performs good or bad? Why?\n",
    "\n",
    "[3 marks]"
   ]
  },
  {
   "cell_type": "markdown",
   "metadata": {},
   "source": [
    "    Bad, since the r value (i.e. 0.17539402 ) indicates that the association of the data and model is quite weak because \n",
    "    there is a big variation around the line that best fits the datapoints."
   ]
  },
  {
   "cell_type": "markdown",
   "metadata": {},
   "source": [
    "Select the 10 best and 10 worst performing word pairs, can you see any patterns that explain why *these* are the best and worst word pairs?\n",
    "\n",
    "[3 marks]"
   ]
  },
  {
   "cell_type": "markdown",
   "metadata": {},
   "source": [
    "Best: \n",
    "\n",
    "    ('tiger', 'tiger')  :  0.0\n",
    "    ('chord', 'smile')  :  0.009774687230587012\n",
    "    ('monk', 'slave')  :  0.009807750403881071\n",
    "    ('sugar', 'approach')  :  0.012273937940597529\n",
    "    ('noon', 'string')  :  0.01307122921943664\n",
    "    ('professor', 'cucumber')  :  0.013540908187627793\n",
    "    ('stock', 'CD')  :  0.01751444017887116\n",
    "    ('possibility', 'girl')  :  0.019240477919578558\n",
    "    ('king', 'cabbage')  :  0.020005507439374924\n",
    "    ('stock', 'jaguar')  :  0.021485559821128847\n",
    "    \n",
    "Worst:\n",
    "\n",
    "    ('fuck', 'sex')  :  0.9246874860078096\n",
    "    ('money', 'currency')  :  0.9033053685175254\n",
    "    ('midday', 'noon')  :  0.8973318845927715\n",
    "    ('dollar', 'buck')  :  0.8888121375143528\n",
    "    ('journey', 'voyage')  :  0.8876154334247112\n",
    "    ('type', 'kind')  :  0.8772485536783934\n",
    "    ('seafood', 'lobster')  :  0.8679201117530464\n",
    "    ('mile', 'kilometer')  :  0.8474529120922089\n",
    "    ('boy', 'lad')  :  0.8410887295305729\n",
    "    ('furnace', 'stove')  :  0.8394290835559367\n",
    "\n",
    "\n",
    "Comments: \n",
    "    The pattern that we see in the results is that the pairs that perform the best are completely dissimilar (so the model performs well when detecting dissimilar words). In contrast, the model performs bad when it comes to detecting synonyms such as ('dollar', 'buck') and ('journey', 'voyage')."
   ]
  },
  {
   "cell_type": "markdown",
   "metadata": {},
   "source": [
    "Suggest some ways of improving the model we apply to WordSim353.\n",
    "\n",
    "[3 marks]"
   ]
  },
  {
   "cell_type": "markdown",
   "metadata": {},
   "source": [
    "Hypothesis No.1:\n",
    "\n",
    "    The bad performance of the model can be due to the quality of data used to train the model, so maybe we could've   performed a more appropriate preprocessing on the raw data (e.g. removing punctuations and too short sentences). \n",
    "\n",
    "Hypothesis No.2:\n",
    "\n",
    "    We also had a theory that maybe with more epochs, we will get less loss/error rate thus enhanced performance (greater r value). Therefore, we tried to train the model on a smaller dataset with:\n",
    "            - 1 epoch --> r=0.14598043\n",
    "            - 2 epochs --> r=0.10175891\n",
    "            - 3 epochs --> r=0.16689599\n",
    "            - 5 epochs --> r=0.1534225 \n",
    "             ...\n",
    "            - 10 epochs --> r= 0.18675265 \n",
    "    So there were some differences but generally speaking, the more epochs, the better performance (unless it reaches a level of overfitting)\n",
    "\n",
    "Hypothesis No.3:\n",
    "\n",
    "    We think that working with bigger data (instead of the 10.000 rows that we used for the 2nd hypothesis) will give better results. We tried it, and got a bigger correlation: with 3 epochs, r=0.16689599 for the smaller dataset and r=0.17539402 for the bigger dataset.\n",
    "\n",
    "Hypothesis No. 4:\n",
    "\n",
    "    This would mean that working with a bigger dataset and more epochs will yield a better result."
   ]
  },
  {
   "cell_type": "markdown",
   "metadata": {},
   "source": [
    "If we consider a scenario where we use these embeddings in a downstream task, for example sentiment analysis (roughly: determining whether a sentence is positive or negative). \n",
    "\n",
    "Give some examples why the sentiment analysis model would benefit from our embeddnings and one examples why our embeddings could hurt the performance of the sentiment model.\n",
    "\n",
    "[3 marks]"
   ]
  },
  {
   "cell_type": "markdown",
   "metadata": {},
   "source": [
    "Positive: \n",
    "    The embeddings would be beneficial for a sentiment analysis task since it considers the context as a whole to predict and doesn't base the prediction on the presence of certain words like: 'incredible' or 'bad'.\n",
    "    For instance, In \"This was *incredibly* awful\" or \"This was actually not *bad*!\", the embeddings will consider the whole context of the sentence as a feature rather than the words _incredibly_ and _bad_ , so the model will use these embeddings to predict 'negative' for the former example and 'positive' for the latter.\n",
    "    \n",
    "\n",
    "Negative:\n",
    "    Although our model should be a great option to capture synonyms e.g. \"good\" and \"great\", *Our* embeddings don't seem to perform very well with synonyms (judging from the results) so this would definitely hurt the performance of the sentiment model."
   ]
  },
  {
   "cell_type": "markdown",
   "metadata": {},
   "source": [
    "# Language modeling"
   ]
  },
  {
   "cell_type": "markdown",
   "metadata": {},
   "source": [
    "In this second part we'll build a simple LSTM language model. Your task is to construct a model which takes a sentence as input and predict the next word for each word in the sentence. For this you'll use the ```LSTM``` class provided by PyTorch (https://pytorch.org/docs/stable/generated/torch.nn.LSTM.html). You can read more about the LSTM here: https://colah.github.io/posts/2015-08-Understanding-LSTMs/\n",
    "\n",
    "NOTE!!!: Use the same dataset (wiki-cropus.txt) as before.\n",
    "\n",
    "Our setup is similar to before, we first encode the words as distributed representations then pass these to the LSTM and for each output we predict the next word.\n",
    "\n",
    "For this we'll build a new dataloader with torchtext, the file we pass to the dataloader should contain one sentence per line, with words separated by whitespace.\n",
    "\n",
    "```\n",
    "word_1, ..., word_n\n",
    "word_1, ..., word_k\n",
    "...\n",
    "```\n",
    "\n",
    "in this dataloader you want to make sure that each sentence begins with a ```<start>``` token and ends with a ```<end>``` token, there is a keyword argument in ```Field``` for this :). But other than that, as before you read the dataset and output a iterator over the dataset and a vocabulary. \n",
    "\n",
    "Implement the dataloader, language model and the training loop (the training loop will basically be the same as for word2vec).\n",
    "\n",
    "[12 marks]"
   ]
  },
  {
   "cell_type": "code",
   "execution_count": 13,
   "metadata": {},
   "outputs": [],
   "source": [
    "# you can change these numbers to suit your needs as before :)\n",
    "lm_hyperparameters = {'epochs':3,\n",
    "                      'batch_size':16,\n",
    "                      'learning_rate':0.001,\n",
    "                      'embedding_dim':128,\n",
    "                      'output_dim':128}"
   ]
  },
  {
   "cell_type": "code",
   "execution_count": 14,
   "metadata": {},
   "outputs": [],
   "source": [
    "# data preprocessing\n",
    "data_path = '../data/wiki-corpus.txt' # CHANGE TO BIGGER ONE, THIS BABY TOO SMOL\n",
    "WINDOW_SIZE = 4 \n",
    "def corpus_reader2(data_path):\n",
    "    with open(data_path) as f:\n",
    "        with open('formatted_data2.csv', 'w') as g:\n",
    "            for line in f:\n",
    "#                 print(line)\n",
    "#                 start = '<start>'   #crap I did this but then I reread the description and it says there's a keyword arg \n",
    "#                                     #in Field for this :( you know what nvm Field sounds complicated i'll stick with strings\n",
    "#                                     #thank you very much. now i'm thinking maybe this whole step is pointless but whatevs\n",
    "#                 end = '<end>'\n",
    "                #sentence = []\n",
    "                #for word in line:\n",
    "                    #sentence.append(word.lower())\n",
    "#                 row = start + ' ' + ''.join(sentence) + end + '\\n'\n",
    "                #row = ''.join(sentence) + '\\n'\n",
    "\n",
    "                # idk why but doing the above results in an error later on\n",
    "                g.write(line.lower())\n",
    "                \n",
    "                \n",
    "                \n",
    "corpus_reader2(data_path)"
   ]
  },
  {
   "cell_type": "code",
   "execution_count": 15,
   "metadata": {},
   "outputs": [],
   "source": [
    "def get_data2():\n",
    "    whitespacer = lambda x: x.split(' ')\n",
    "    \n",
    "    WORDS = Field(tokenize    = whitespacer,\n",
    "                lower       = True,\n",
    "                batch_first = True,\n",
    "                init_token='<start>',\n",
    "                eos_token='<end>') \n",
    "    \n",
    "    # read the csv file\n",
    "    potatoes = TabularDataset(path = 'formatted_data2.csv',\n",
    "                            format = 'csv',\n",
    "                            fields = [('sentence', WORDS)],\n",
    "                            skip_header       = True,\n",
    "                            csv_reader_params = {'quotechar':'Ö'}) #now but???????????? myyyyysteryyyyyyy\n",
    "    \n",
    "    # build vocabularies based on what our csv files contained and create word2id mapping\n",
    "    WORDS.build_vocab(potatoes)\n",
    "\n",
    "    # create batches from our data, and shuffle them for each epoch\n",
    "    potatoes_iter = BucketIterator(potatoes,\n",
    "                                  batch_size        = 8,\n",
    "                                  sort_within_batch = True,\n",
    "                                  sort_key          = lambda x: len(x.sentence),\n",
    "                                  shuffle           = True,\n",
    "                                  device            = device)\n",
    "\n",
    "    return potatoes_iter, WORDS"
   ]
  },
  {
   "cell_type": "code",
   "execution_count": 16,
   "metadata": {},
   "outputs": [],
   "source": [
    "class LM_withLSTM(nn.Module):\n",
    "    def __init__(self, vocab_len, embedding_dim, output_dim):\n",
    "        super(LM_withLSTM, self).__init__()\n",
    "        self.embeddings = nn.Embedding(vocab_len, embedding_dim)\n",
    "        self.LSTM = nn.LSTM(embedding_dim, output_dim, batch_first=True)\n",
    "        self.predict_word = nn.Linear(output_dim, vocab_len)\n",
    "    \n",
    "    def forward(self, seq):\n",
    "        embedded_seq = self.embeddings(seq)\n",
    "        timestep_reprentation, *_ = self.LSTM(embedded_seq)\n",
    "        predicted_words = self.predict_word(timestep_reprentation)\n",
    "        \n",
    "        return predicted_words"
   ]
  },
  {
   "cell_type": "code",
   "execution_count": 17,
   "metadata": {},
   "outputs": [],
   "source": [
    "# run if you don't want to wait forever for training lööp to run and model has been saved\n",
    "dataset, vocab = get_data2()\n",
    "lm_model = torch.load('lm_model.pt')\n",
    "lm_model.to(device) "
   ]
  },
  {
   "cell_type": "code",
   "execution_count": 16,
   "metadata": {},
   "outputs": [
    {
     "name": "stdout",
     "output_type": "stream",
     "text": [
      "5.5121765444087985\n",
      "10.769033064684868\n",
      "15.954156613988877\n"
     ]
    }
   ],
   "source": [
    "# load data\n",
    "dataset, vocab = get_data2()\n",
    "\n",
    "# build model and construct loss/optimizer\n",
    "lm_model = LM_withLSTM(len(vocab.vocab), \n",
    "                       lm_hyperparameters['embedding_dim'],\n",
    "                       lm_hyperparameters['output_dim'])\n",
    "lm_model.to(device)\n",
    "\n",
    "loss_fn = nn.CrossEntropyLoss()\n",
    "optimizer = optim.Adam(lm_model.parameters(), lr=lm_hyperparameters['learning_rate'])\n",
    "\n",
    "# start training loop\n",
    "lm_model.train()\n",
    "total_loss = 0\n",
    "for epoch in range(lm_hyperparameters['epochs']):\n",
    "    for i, batch in enumerate(dataset):\n",
    "        \n",
    "        # the strucure for each BATCH is:\n",
    "        # <start>, w0, ..., wn, <end>\n",
    "        sentence = batch.sentence\n",
    "        \n",
    "        # when training the model, at each input we predict the *NEXT* token\n",
    "        # consequently there is nothing to predict when we give the model \n",
    "        # <end> as input. \n",
    "        # thus, we do not want to give <end> as input to the model, select \n",
    "        # from each batch all tokens except the last. \n",
    "        # tip: use pytorch indexing/slicing (same as numpy) \n",
    "        # (https://pytorch.org/tutorials/beginner/basics/tensorqs_tutorial.html#operations-on-tensors)\n",
    "        # (https://jhui.github.io/2018/02/09/PyTorch-Basic-operations/)\n",
    "        input_sentence = sentence[:len(sentence)-1]\n",
    "        \n",
    "        # send your batch of sentences to the model\n",
    "        output = lm_model(input_sentence)\n",
    "        \n",
    "        # for each output, the model predict the NEXT token, so we have to reshape \n",
    "        # our dataset again. On timestep t, we evaluate on token t+1. That is,\n",
    "        # we never predict the <start> token ;) so this time, we select all but the first \n",
    "        # token from sentences (that is, all the tokens that we predict)\n",
    "        gold_data = sentence[1:]\n",
    "        \n",
    "        # the shape of the output and sentence variable need to be changed,\n",
    "        # for the loss function. Details are in the documentation.\n",
    "        # You can use .view(...,...) to reshape the tensors\n",
    "        \n",
    "        # for every class (class being word in gold_data) there should be a vector -> \n",
    "        # this is why the first dimension for reshaping output is len of classes\n",
    "        loss = loss_fn(output.view(len(gold_data.view(-1)), len(vocab.vocab)), gold_data.view(-1))\n",
    "        total_loss += loss.item()\n",
    "        \n",
    "        # print average loss for the epoch\n",
    "        print(total_loss/(i+1), end='\\r') \n",
    "        \n",
    "        # compute gradients\n",
    "        loss.backward()\n",
    "        \n",
    "        # update parameters\n",
    "        optimizer.step()\n",
    "        \n",
    "        # reset gradients\n",
    "        optimizer.zero_grad()\n",
    "        \n",
    "    print()\n",
    "    \n",
    "torch.save(lm_model, 'lm_model.pt')"
   ]
  },
  {
   "cell_type": "markdown",
   "metadata": {},
   "source": [
    "### Evaluating the language model\n",
    "\n",
    "We'll evaluate our model using the BLiMP dataset (https://github.com/alexwarstadt/blimp). The BLiMP dataset contains sets of linguistic minimal pairs for various syntactic and semantic phenomena, We'll evaluate our model on *existential quantifiers* (link: https://github.com/alexwarstadt/blimp/blob/master/data/existential_there_quantifiers_1.jsonl). This data, as the name suggests, investigate whether language models assign higher probability to *correct* usage of there-quantifiers. \n",
    "\n",
    "An example entry in the dataset is: \n",
    "\n",
    "```\n",
    "{\"sentence_good\": \"There was a documentary about music irritating Allison.\", \"sentence_bad\": \"There was each documentary about music irritating Allison.\", \"field\": \"semantics\", \"linguistics_term\": \"quantifiers\", \"UID\": \"existential_there_quantifiers_1\", \"simple_LM_method\": true, \"one_prefix_method\": false, \"two_prefix_method\": false, \"lexically_identical\": false, \"pairID\": \"0\"}\n",
    "```\n",
    "\n",
    "Download the dataset and build a datareader (similar to what you did for word2vec). The dataset structure you should aim for is (you don't need to worry about the other keys for this assignment):\n",
    "\n",
    "```\n",
    "good_sentence_1, bad_sentence_1\n",
    "...\n",
    "```\n",
    "\n",
    "your task now is to compare the probability assigned to the good sentence with to the probability assigned to the bad sentence. To compute a probability for a sentence we consider the product of the probabilities assigned to the *gold* tokens, remember, at timestep ```t``` we're predicting which token comes *next* e.g. ```t+1``` (basically, you do the same thing as you did when training).\n",
    "\n",
    "In rough pseudo code what your code should do is:\n",
    "\n",
    "```\n",
    "accuracy = []\n",
    "for good_sentence, bad_sentence in dataset:\n",
    "    gs_lm_output = LanguageModel(good_sentence)\n",
    "    gs_token_probabilities = softmax(gs_lm_output)\n",
    "    gs_sentence_probability = product(gs_token_probabilities[GOLD_TOKENS])\n",
    "\n",
    "    bs_lm_output = LanguageModel(bad_sentence)\n",
    "    bs_token_probabilities = softmax(bs_lm_output)\n",
    "    bs_sentence_probability = product(bs_token_probabilities[GOLD_TOKENS])\n",
    "\n",
    "    # int(True) = 1 and int(False) = 0\n",
    "    is_correct = int(gs_sentence_probability > bs_sentence_probability)\n",
    "    accuracy.append(is_correct)\n",
    "\n",
    "print(numpy.mean(accuracy))\n",
    "    \n",
    "```\n",
    "\n",
    "[6 marks]"
   ]
  },
  {
   "cell_type": "code",
   "execution_count": 59,
   "metadata": {},
   "outputs": [
    {
     "name": "stderr",
     "output_type": "stream",
     "text": [
      "/usr/local/lib/python3.7/site-packages/ipykernel_launcher.py:34: UserWarning: Implicit dimension choice for softmax has been deprecated. Change the call to include dim=X as an argument.\n",
      "/usr/local/lib/python3.7/site-packages/ipykernel_launcher.py:35: UserWarning: Implicit dimension choice for softmax has been deprecated. Change the call to include dim=X as an argument.\n"
     ]
    },
    {
     "name": "stdout",
     "output_type": "stream",
     "text": [
      "Final accuracy:\n",
      "0.0\n"
     ]
    }
   ],
   "source": [
    "# your code goes here\n",
    "import json\n",
    "\n",
    "def evaluate_model(path, vocab, model):\n",
    "    \n",
    "    accuracy = []\n",
    "    with open(path) as f:\n",
    "        # iterate over one pair of sentences at a time\n",
    "        for line in f:\n",
    "            # load the data\n",
    "            data = json.loads(line)\n",
    "            good_s = data['sentence_good']\n",
    "            bad_s = data['sentence_bad']\n",
    "            \n",
    "            # the data is tokenized as whitespace\n",
    "            tok_good_s = good_s.split() # tok_good[0] = [\"There\", \"was\", ..., \"irritating\", \"Allison.\"]\n",
    "            tok_bad_s = bad_s.split()\n",
    "            \n",
    "            # encode your words as integers using the vocab from the dataloader, size is (S)\n",
    "            # we use unsqueeze to create the batch dimension \n",
    "            # in this case our input is only ONE batch, so the size of the tensor becomes: \n",
    "            # (S) -> (1, S) as the model expects batches\n",
    "            enc_good_s = torch.tensor([vocab.vocab.stoi[x] for x in tok_good_s], device=device).unsqueeze(0)\n",
    "            enc_bad_s = torch.tensor([vocab.vocab.stoi[x] for x in tok_bad_s], device=device).unsqueeze(0)\n",
    "\n",
    "            # pass your encoded sentences to the model and predict the next tokens\n",
    "            # good_s = LM_withLSTM(enc_good_s) # I thought this should be model? Or is it something to do with classes that I don't understand?\n",
    "            good_s = model(enc_good_s)\n",
    "            # bad_s = LM_withLSTM(enc_bad_s)\n",
    "            bad_s = model(enc_bad_s)\n",
    "            \n",
    "            # get probabilities with softmax\n",
    "            # torch.nn.functional.softmax(input, dim=None, _stacklevel=3, dtype=None)\n",
    "            gs_probs = F.softmax(good_s)\n",
    "            bs_probs = F.softmax(bad_s)\n",
    "            \n",
    "            # select the probability of the gold tokens\n",
    "            gs_sent_prob = find_token_probs(gs_probs, enc_good_s)\n",
    "            bs_sent_prob = find_token_probs(bs_probs, enc_bad_s)\n",
    "            \n",
    "            accuracy.append(int(gs_sent_prob>bs_sent_prob))\n",
    "            \n",
    "    return accuracy\n",
    "            \n",
    "def find_token_probs(model_probs, encoded_sentece):\n",
    "    probs = []\n",
    "\n",
    "    # iterate over the tokens in your encoded sentence\n",
    "    for token, gold_token in enumerate(encoded_sentece): # token = nº token? gold_token = embedding for the actual word(gold)?\n",
    "        # select the probability of the gold tokens and save\n",
    "        # hint: pytorch indexing is helpful here ;)\n",
    "        #print(model_probs.size())\n",
    "        #print(gold_token)\n",
    "        #print(token)\n",
    "        prob = torch.index_select(model_probs, 2, gold_token) # THIS IS PROBABLY WRONG\n",
    "        #print(prob)\n",
    "        probs.append(prob)\n",
    "    # torch.prod(input, *, dtype=None)\n",
    "    #print(probs)\n",
    "    sentence_prob = torch.prod(torch.stack(probs))\n",
    "    return sentence_prob\n",
    "\n",
    "path = '../data/existential_there_quantifiers_1.jsonl'\n",
    "accuracy = evaluate_model(path, vocab, lm_model)\n",
    "\n",
    "print('Final accuracy:')\n",
    "print(np.round(np.mean(accuracy), 3))\n"
   ]
  },
  {
   "cell_type": "markdown",
   "metadata": {},
   "source": [
    "### Analysis"
   ]
  },
  {
   "cell_type": "markdown",
   "metadata": {},
   "source": [
    "Our model get some score, say, 55% correct predictions. Is this good? Suggest some *baseline* (i.e. a stupid \"model\" we hope ours is better than) we can compare the model against.\n",
    "\n",
    "[3 marks]"
   ]
  },
  {
   "cell_type": "code",
   "execution_count": null,
   "metadata": {},
   "outputs": [],
   "source": []
  },
  {
   "cell_type": "markdown",
   "metadata": {},
   "source": [
    "Suggest some improvements you could make to your language model.\n",
    "\n",
    "[3 marks]"
   ]
  },
  {
   "cell_type": "code",
   "execution_count": null,
   "metadata": {},
   "outputs": [],
   "source": []
  },
  {
   "cell_type": "markdown",
   "metadata": {},
   "source": [
    "Suggest some other metrics we can use to evaluate our system\n",
    "\n",
    "[2 marks]"
   ]
  },
  {
   "cell_type": "code",
   "execution_count": null,
   "metadata": {},
   "outputs": [],
   "source": []
  },
  {
   "cell_type": "markdown",
   "metadata": {},
   "source": [
    "# Literature\n",
    "\n",
    "\n",
    "Neural architectures:\n",
    "* Y. Bengio, R. Ducharme, P. Vincent, and C. Janvin. A neural probabilistic language model. (Links to an external site.) Journal of Machine Learning Research, 3(6):1137–1155, 2003. (Sections 3 and 4 are less relevant today and hence you can glance through them quickly. Instead, look at the Mikolov papers where they describe training word embeddings with the current neural network architectures.)\n",
    "* T. Mikolov, K. Chen, G. Corrado, and J. Dean. Efficient estimation of word representations in vector space. arXiv preprint arXiv:1301.3781, 2013.\n",
    "* T. Mikolov, I. Sutskever, K. Chen, G. S. Corrado, and J. Dean. Distributed representations of words and phrases and their compositionality. In Advances in neural information processing systems, pages 3111–3119, 2013.\n",
    "    \n"
   ]
  },
  {
   "cell_type": "markdown",
   "metadata": {},
   "source": [
    "Total marks: 63"
   ]
  }
 ],
 "metadata": {
  "kernelspec": {
   "display_name": "Python 3",
   "language": "python",
   "name": "python3"
  },
  "language_info": {
   "codemirror_mode": {
    "name": "ipython",
    "version": 3
   },
   "file_extension": ".py",
   "mimetype": "text/x-python",
   "name": "python",
   "nbconvert_exporter": "python",
   "pygments_lexer": "ipython3",
   "version": "3.7.4"
  }
 },
 "nbformat": 4,
 "nbformat_minor": 4
}
