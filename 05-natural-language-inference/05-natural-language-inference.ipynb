{
 "cells": [
  {
   "cell_type": "markdown",
   "metadata": {},
   "source": [
    "# Natural Language Inference using Neural Networks\n",
    "Adam Ek\n",
    "\n",
    "----------------------------------\n",
    "\n",
    "The lab is an exploration and learning exercise to be done in a group and also in discussion with the teachers and other students.\n",
    "\n",
    "Before starting, please read the instructions on [how to work on group assignments](https://github.com/sdobnik/computational-semantics/blob/master/README.md).\n",
    "\n",
    "Write all your answers and the code in the appropriate boxes below.\n",
    "\n",
    "----------------------------------"
   ]
  },
  {
   "cell_type": "markdown",
   "metadata": {},
   "source": [
    "In this lab we'll work with neural networks for natural language inference. Our task is: given a premise sentence P and hypothesis H, what entailment relationship holds between them? Is H entailed by P, contradicted by P or neutral towards P?\n",
    "\n",
    "Given a sentence P, if H definitely describe something true given P then it is an **entailment**. If H describe something that's *maybe* true given P, it's **neutral**, and if H describe something that's definitely *false* given P it's a **contradiction**. "
   ]
  },
  {
   "cell_type": "code",
   "execution_count": 30,
   "metadata": {},
   "outputs": [],
   "source": [
    "# first we import some packages that we need\n",
    "import torch\n",
    "import torch.nn as nn\n",
    "import torchtext\n",
    "import torch.optim as optim\n",
    "from torchtext.data import Field, BucketIterator, Iterator, TabularDataset\n",
    "import numpy as np\n",
    "\n",
    "# our hyperparameters (add more when/if you need them)\n",
    "device = torch.device('cuda:0')\n",
    "\n",
    "batch_size = 512 #8\n",
    "learning_rate = 0.001\n",
    "epochs = 3"
   ]
  },
  {
   "cell_type": "markdown",
   "metadata": {},
   "source": [
    "# 1. Data"
   ]
  },
  {
   "cell_type": "markdown",
   "metadata": {},
   "source": [
    "We will explore natural language inference using neural networks on the SNLI dataset, described in [1]. The dataset can be downloaded [here](https://nlp.stanford.edu/projects/snli/). We prepared a \"simplified\" version, with only the relevant columns [here](https://gubox.box.com/s/idd9b9cfbks4dnhznps0gjgbnrzsvfs4).\n",
    "\n",
    "The (simplified) data is organized as follows (tab-separated values):\n",
    "* Column 1: Premise\n",
    "* Column 2: Hypothesis\n",
    "* Column 3: Relation\n",
    "\n",
    "Like in the previous lab, we'll use torchtext to build a dataloader. You can essentially do the same thing as you did in the last lab, but with our new dataset. **[1 mark]**"
   ]
  },
  {
   "cell_type": "code",
   "execution_count": 28,
   "metadata": {},
   "outputs": [],
   "source": [
    "def dataloader(path_to_snli):\n",
    "        \n",
    "    whitespacer = lambda x: x.split(' ')\n",
    "\n",
    "    # \"fields\" that process the different columns in our CSV files\n",
    "    WORDS = Field(tokenize   = whitespacer,\n",
    "                   lower       = True,\n",
    "                   batch_first = True)\n",
    "\n",
    "    RELATION = Field(tokenize   = whitespacer,\n",
    "                      lower       = True,\n",
    "                      batch_first = True)\n",
    "    \n",
    "    # read the csv files\n",
    "    train, val, test = TabularDataset.splits(path   = path_to_snli,\n",
    "                                        train  = 'simple_snli_1.0_train.csv',\n",
    "                                        validation = 'simple_snli_1.0_dev.csv',\n",
    "                                        test   = 'simple_snli_1.0_test.csv',\n",
    "                                        format = 'csv',\n",
    "                                        fields = [('premise', WORDS),\n",
    "                                                  ('hypothesis', WORDS),\n",
    "                                                 ('relation', RELATION)],\n",
    "                                        skip_header       = True,\n",
    "                                        csv_reader_params = {'delimiter':'\\t',\n",
    "                                                             'quotechar':'½'})\n",
    "    \n",
    "    # build vocabularies based on what our csv files contained and create word2id mapping\n",
    "    WORDS.build_vocab(train)\n",
    "    RELATION.build_vocab(train)\n",
    "\n",
    "    # create batches from our data, and shuffle them for each epoch\n",
    "    train_iter, val_iter, test_iter = BucketIterator.splits((train, val, test),\n",
    "                                                  batch_size        = batch_size,\n",
    "                                                  sort_within_batch = True,\n",
    "                                                  sort_key          = lambda x: len(x.premise),\n",
    "                                                  shuffle           = True,\n",
    "                                                  device            = device)\n",
    "\n",
    "    return train_iter, val_iter, test_iter, WORDS.vocab, RELATION.vocab"
   ]
  },
  {
   "cell_type": "markdown",
   "metadata": {},
   "source": [
    "# 2. Model"
   ]
  },
  {
   "cell_type": "markdown",
   "metadata": {},
   "source": [
    "In this part, we'll build the model for predicting the relationship between H and P.\n",
    "\n",
    "We will process each sentence using an LSTM. Then, we will construct some representation of the sentence. When we have a representation for H and P, we will combine them into one vector which we can use to predict the relationship."
   ]
  },
  {
   "cell_type": "markdown",
   "metadata": {},
   "source": [
    "We will train a model described in [2], the BiLSTM with max-pooling model. The procedure for the model is roughly:\n",
    "\n",
    "    1) Encode the Hypothesis and the Premise using one shared bidirectional LSTM (or two different LSTMS)\n",
    "    2) Perform max over the tokens in the premise and the hypothesis\n",
    "    3) Combine the encoded premise and encoded hypothesis into one representation\n",
    "    4) Predict the relationship "
   ]
  },
  {
   "cell_type": "markdown",
   "metadata": {},
   "source": [
    "### Creating a representation of a sentence\n",
    "\n",
    "Let's first consider step 2 where we perform max/mean pooling. There is a function in pytorch for this, but we'll implement it from scratch. \n",
    "\n",
    "Let's consider the general case, what we want to do for these methods is apply some function $f$ along dimension $i$, and we want to do this for all $i$'s. As an example we consider the matrix S with size ``(N, D)`` where N is the number of words and D the number of dimensions:\n",
    "\n",
    "$S = \\begin{bmatrix}\n",
    "    s_{11} & s_{12} & s_{13} & \\dots  & s_{1d} \\\\\n",
    "    s_{21} & s_{22} & s_{23} & \\dots  & s_{2d} \\\\\n",
    "    \\vdots & \\vdots & \\vdots & \\ddots & \\vdots \\\\\n",
    "    s_{n1} & s_{n2} & s_{n3} & \\dots  & s_{nd}\n",
    "\\end{bmatrix}$\n",
    "\n",
    "What we want to do is apply our function $f$ on each dimension, taking the input $s_{1d}, s_{2d}, ..., s_{nd}$ and generating the output $x_d$. \n",
    "\n",
    "You will implement both the max pooling method. When performing max-pooling, $max$ will be the function which selects a _maximum_ value from a vector and $x$ is the output, thus for each dimension $d$ in our output $x$ we get:\n",
    "\n",
    "\\begin{equation}\n",
    "    x_d = max(s_{1d}, s_{2d}, ..., s_{nd})\n",
    "\\end{equation}\n",
    "\n",
    "\n",
    "This operation will reduce a batch of size ``(batch_size, num_words, dimensions)`` to ``(batch_size, dimensions)`` meaning that we now have created a sentence representation based on the content of the words representations in the sentence. \n",
    "\n",
    "Create a function that takes as input a tensor of size ``(batch_size, num_words, dimensions)`` then performs max pooling and returns the result (the output should be of size: ```(batch_size, dimensions)```). [**4 Marks**]"
   ]
  },
  {
   "cell_type": "code",
   "execution_count": 2,
   "metadata": {},
   "outputs": [],
   "source": [
    "# dumb option that works\n",
    "def pooling2(input_tensor):\n",
    "    l = []\n",
    "    for x in torch.transpose(input_tensor,2,1):\n",
    "        m = []\n",
    "        for y in x:\n",
    "            n = float(y[0])\n",
    "            for z in y:\n",
    "                if float(z)>n:\n",
    "                    n = float(z)\n",
    "            m.append(n)\n",
    "        l.append(m)\n",
    "    output_tensor = torch.tensor(l)\n",
    "    return output_tensor"
   ]
  },
  {
   "cell_type": "code",
   "execution_count": 8,
   "metadata": {},
   "outputs": [],
   "source": [
    "# fancy option\n",
    "import numpy\n",
    "def pooling(input_tensor): #input size: (B, W, D)\n",
    "#     x[0,:,0]\n",
    "    output_tensor = []\n",
    "    for batchie in range(input_tensor.shape[0]): \n",
    "        batchies = []\n",
    "        for dim in range(input_tensor.shape[-1]): \n",
    "            max_val = numpy.max(input_tensor[batchie, :, dim].detach().cpu().numpy()) #fancy indexing hell yeah ☜(ﾟヮﾟ☜)\n",
    "            batchies.append(max_val)\n",
    "        output_tensor.append(batchies)\n",
    "        \n",
    "    return torch.tensor(output_tensor).to(device) #output size: (B, D)"
   ]
  },
  {
   "cell_type": "markdown",
   "metadata": {},
   "source": [
    "### Combining sentence representations\n",
    "\n",
    "Next, we need to combine the premise and hypothesis into one representation. We will do this by concatenating four tensors (the final size of our tensor $X$ should be ``(batch_size, 4d)`` where ``d`` is the number of dimensions that you use): \n",
    "\n",
    "$$X = [P; H; |P-H|; P \\cdot H]$$\n",
    "\n",
    "Here, what we do is concatenating P, H, P times H, and the absolute value of P minus H, then return the result.\n",
    "\n",
    "Implement the function. **[2 marks]**"
   ]
  },
  {
   "cell_type": "code",
   "execution_count": 21,
   "metadata": {},
   "outputs": [],
   "source": [
    "def combine_premise_and_hypothesis(hypothesis, premise):\n",
    "    \n",
    "    x = [premise, hypothesis, abs(premise-hypothesis), premise*hypothesis]\n",
    "\n",
    "    output = torch.cat(x, dim=1)\n",
    "    \n",
    "    return output"
   ]
  },
  {
   "cell_type": "markdown",
   "metadata": {},
   "source": [
    "### Creating the model\n",
    "\n",
    "Finally, we can build the model according to the procedure given previously by using the functions we defined above. Additionaly, in the model you should use *dropout*. For efficiency purposes, it's acceptable to only train the model with either max or mean pooling. \n",
    "\n",
    "Implement the model [**6 marks**]"
   ]
  },
  {
   "cell_type": "code",
   "execution_count": 19,
   "metadata": {},
   "outputs": [],
   "source": [
    "class SNLIModel(nn.Module):\n",
    "    def __init__(self, vocab, num_relations, i_dim):\n",
    "        super(SNLIModel, self).__init__()\n",
    "        self.embeddings = nn.Embedding(vocab, i_dim)\n",
    "        self.rnn = nn.LSTM(i_dim, i_dim, bidirectional=True, batch_first=True) #idk about i_dim twice\n",
    "        self.classifier = nn.Linear(i_dim*8, num_relations)\n",
    "        self.dropout = nn.Dropout(0.2)\n",
    "        \n",
    "    def forward(self, premise, hypothesis):\n",
    "        # Encode the Hypothesis and the Premise using one shared bidirectional LSTM\n",
    "        p = self.embeddings(premise)\n",
    "        h = self.embeddings(hypothesis)\n",
    "        \n",
    "        p,(_, _) = self.rnn(p)\n",
    "        h,(_, _) = self.rnn(h)\n",
    "        \n",
    "        # Perform max over the tokens in the premise and the hypothesis\n",
    "        p_pooled = pooling(p)\n",
    "        h_pooled = pooling(h)\n",
    "        \n",
    "        # Combine the encoded premise and encoded hypothesis into one representation\n",
    "        ph_representation = combine_premise_and_hypothesis(h_pooled, p_pooled)\n",
    "        ph_representation = self.dropout(ph_representation)\n",
    "        \n",
    "        predictions = self.classifier(ph_representation)\n",
    "        \n",
    "        return predictions"
   ]
  },
  {
   "cell_type": "markdown",
   "metadata": {},
   "source": [
    "# 3. Training and testing"
   ]
  },
  {
   "cell_type": "markdown",
   "metadata": {},
   "source": [
    "As before, implement the training and testing of the model. SNLI can take a very long time to train, so I suggest you only run it for one or two epochs. **[2 marks]** \n",
    "\n",
    "**Tip for efficiency:** *when developing your model, try training and testing the model on one batch (for each epoch) of data to make sure everything works! It's very annoying if you train for N epochs to find out that something went wrong when testing the model, or to find that something goes wrong when moving from epoch 0 to epoch 1.*"
   ]
  },
  {
   "cell_type": "code",
   "execution_count": 31,
   "metadata": {},
   "outputs": [
    {
     "name": "stdout",
     "output_type": "stream",
     "text": [
      "1.0436860337368277\n",
      "1.0164621060393577\n",
      "1.0139082385772882\n"
     ]
    },
    {
     "name": "stderr",
     "output_type": "stream",
     "text": [
      "/home/gusgraupa@GU.GU.SE/compSem/venvSemantics/lib64/python3.7/site-packages/torch/serialization.py:292: UserWarning: Couldn't retrieve source code for container of type SNLIModel. It won't be checked for correctness upon loading.\n",
      "  \"type \" + obj.__name__ + \". It won't be checked \"\n",
      "/home/gusgraupa@GU.GU.SE/compSem/venvSemantics/lib64/python3.7/site-packages/torch/serialization.py:292: UserWarning: Couldn't retrieve source code for container of type Embedding. It won't be checked for correctness upon loading.\n",
      "  \"type \" + obj.__name__ + \". It won't be checked \"\n",
      "/home/gusgraupa@GU.GU.SE/compSem/venvSemantics/lib64/python3.7/site-packages/torch/serialization.py:292: UserWarning: Couldn't retrieve source code for container of type LSTM. It won't be checked for correctness upon loading.\n",
      "  \"type \" + obj.__name__ + \". It won't be checked \"\n",
      "/home/gusgraupa@GU.GU.SE/compSem/venvSemantics/lib64/python3.7/site-packages/torch/serialization.py:292: UserWarning: Couldn't retrieve source code for container of type Linear. It won't be checked for correctness upon loading.\n",
      "  \"type \" + obj.__name__ + \". It won't be checked \"\n",
      "/home/gusgraupa@GU.GU.SE/compSem/venvSemantics/lib64/python3.7/site-packages/torch/serialization.py:292: UserWarning: Couldn't retrieve source code for container of type Dropout. It won't be checked for correctness upon loading.\n",
      "  \"type \" + obj.__name__ + \". It won't be checked \"\n"
     ]
    }
   ],
   "source": [
    "path_to_snli = \"data\"\n",
    "train_iter, dev_iter, test_iter, words, relation = dataloader(path_to_snli)\n",
    "\n",
    "vocab_len = len(words)\n",
    "rel_len = len(relation)\n",
    "\n",
    "model = SNLIModel(vocab_len, rel_len, 128).to(device)\n",
    "loss_function = nn.CrossEntropyLoss(reduction='mean')\n",
    "optimizer = optim.Adam(model.parameters(), lr=learning_rate)\n",
    "\n",
    "model.train()\n",
    "\n",
    "for _ in range(epochs):\n",
    "    total_loss = 0\n",
    "    for i, batch in enumerate(train_iter):\n",
    "        p = batch.premise\n",
    "        h = batch.hypothesis\n",
    "        r = batch.relation\n",
    "        \n",
    "        out = model(p, h)\n",
    "        \n",
    "        #calculate the loss\n",
    "        loss = loss_function(out, r.view(-1))\n",
    "        total_loss += loss.item()\n",
    "        \n",
    "        # print average loss for the epoch\n",
    "        print(total_loss/(i+1), end='\\r')\n",
    "        \n",
    "        # backpropagation\n",
    "        loss.backward()\n",
    "        \n",
    "        # optimizing\n",
    "        optimizer.step()\n",
    "            \n",
    "        # clear gradients\n",
    "        optimizer.zero_grad()\n",
    "    \n",
    "    print()\n",
    "    \n",
    "torch.save(model, 'snli_model.pt')"
   ]
  },
  {
   "cell_type": "code",
   "execution_count": 35,
   "metadata": {},
   "outputs": [
    {
     "name": "stdout",
     "output_type": "stream",
     "text": [
      "> 1.07837823529245\n",
      "accuracy:  0.50546875\n"
     ]
    }
   ],
   "source": [
    "# printing accuracy\n",
    "\n",
    "model.eval()\n",
    "\n",
    "test_loss = 0\n",
    "\n",
    "correct_guesses = 0\n",
    "\n",
    "for i, batch in enumerate(test_iter):\n",
    "    p = batch.premise\n",
    "    h = batch.hypothesis\n",
    "    r = batch.relation\n",
    "        \n",
    "    with torch.no_grad():\n",
    "        output = model(p, h)\n",
    "        \n",
    "    loss = loss_function(output, r.view(-1))\n",
    "    test_loss += loss.item()\n",
    "    \n",
    "    # finding accuracy\n",
    "    correct_guesses += torch.sum(torch.eq(torch.argmax(output, dim=1), r.view(-1)).long())\n",
    "    \n",
    "    # print average loss for the epoch\n",
    "    print(total_loss/(i+1), end='\\r')\n",
    "\n",
    "accuracy = int(correct_guesses) / ((i+1) * batch_size)\n",
    "\n",
    "print('>', np.round(test_loss/(i+1), 4))\n",
    "print('accuracy: ', accuracy)"
   ]
  },
  {
   "cell_type": "markdown",
   "metadata": {},
   "source": [
    "Suggest a _baseline_ that we can compare our model against **[2 marks]**"
   ]
  },
  {
   "cell_type": "markdown",
   "metadata": {},
   "source": [
    "    We have seen that many models are biased when checking NLI: entailment is usually guessed among sentences that have the same words, and contradiction is predicted when the hypothesis contains a negation. to create a baseline and get similar results to previous models, then, would be to \"copy this bias\" and check for shared words and negative words, the latter being checked first."
   ]
  },
  {
   "cell_type": "markdown",
   "metadata": {},
   "source": [
    "Suggest some ways (other than using a baseline) in which we can analyse the models performance **[4 marks]**."
   ]
  },
  {
   "cell_type": "markdown",
   "metadata": {},
   "source": [
    "    We could compare the performance of this model to the performance of another model in a paper, training and testing it with the same dataset that they used, if it is available. Otherwise, we could try to replicate the model and use our dataset with it.  We could also use different measures, like precision, F1_score or recall, to see the model's performance."
   ]
  },
  {
   "cell_type": "markdown",
   "metadata": {},
   "source": [
    "Suggest some ways to improve the model **[3 marks]**."
   ]
  },
  {
   "cell_type": "markdown",
   "metadata": {},
   "source": [
    "    As per usual, we can always improve the model with more data. We would suggest having human annotators that check the premises, but especially the hypotheses. We would suggest the following, when writing hypotheses:\n",
    "        - Use different words from the premise.\n",
    "        - Write sentences of different lengths.\n",
    "        - Use negation in both entailment, neutral and contradiction sentences.\n",
    "    \n",
    "    We could also try to use a pre-trained model for the sentence embeddings, for instance, BERT. "
   ]
  },
  {
   "cell_type": "markdown",
   "metadata": {},
   "source": [
    "### Readings\n",
    "\n",
    "[1] Samuel R. Bowman, Gabor Angeli, Christopher Potts, and Christopher D. Manning. 2015. A large annotated corpus for learning natural language inference. In Proceedings of the 2015 Conference on Empirical Methods in Natural Language Processing (EMNLP). \n",
    "\n",
    "[2] Conneau, A., Kiela, D., Schwenk, H., Barrault, L., & Bordes, A. (2017). Supervised learning of universal sentence representations from natural language inference data. arXiv preprint arXiv:1705.02364."
   ]
  }
 ],
 "metadata": {
  "kernelspec": {
   "display_name": "Python 3",
   "language": "python",
   "name": "python3"
  },
  "language_info": {
   "codemirror_mode": {
    "name": "ipython",
    "version": 3
   },
   "file_extension": ".py",
   "mimetype": "text/x-python",
   "name": "python",
   "nbconvert_exporter": "python",
   "pygments_lexer": "ipython3",
   "version": "3.7.4"
  }
 },
 "nbformat": 4,
 "nbformat_minor": 2
}
