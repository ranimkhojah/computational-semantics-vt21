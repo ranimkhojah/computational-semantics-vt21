{
 "cells": [
  {
   "cell_type": "markdown",
   "metadata": {},
   "source": [
    "# Natural Language Inference using Neural Networks\n",
    "Adam Ek\n",
    "\n",
    "----------------------------------\n",
    "\n",
    "The lab is an exploration and learning exercise to be done in a group and also in discussion with the teachers and other students.\n",
    "\n",
    "Before starting, please read the instructions on [how to work on group assignments](https://github.com/sdobnik/computational-semantics/blob/master/README.md).\n",
    "\n",
    "Write all your answers and the code in the appropriate boxes below.\n",
    "\n",
    "----------------------------------"
   ]
  },
  {
   "cell_type": "code",
   "execution_count": 1,
   "metadata": {},
   "outputs": [],
   "source": [
    "# first we import some packages that we need\n",
    "import torch\n",
    "import torch.nn as nn\n",
    "import torchtext\n",
    "import torch.optim as optim\n",
    "from torchtext.data import Field, BucketIterator, Iterator, TabularDataset\n",
    "import numpy as np\n",
    "\n",
    "# our hyperparameters (add more when/if you need them)\n",
    "device = torch.device('cuda:3')\n",
    "\n",
    "batch_size = 4\n",
    "learning_rate = 0.001\n",
    "epochs = 3\n",
    "max_grad_norm = 5"
   ]
  },
  {
   "cell_type": "markdown",
   "metadata": {},
   "source": [
    "In this lab we'll work with neural networks for natural language inference. Our task is: given a premise sentence P and hypothesis H, what entailment relationship holds between them? Is H entailed by P, contradicted by P or neutral towards P?\n",
    "\n",
    "Given a sentence P, if H definitely describe something true given P then it is an **entailment**. If H describe something that's *maybe* true given P, it's **neutral**, and if H describe something that's definitely *false* given P it's a **contradiction**. "
   ]
  },
  {
   "cell_type": "markdown",
   "metadata": {},
   "source": [
    "# 1. Data"
   ]
  },
  {
   "cell_type": "markdown",
   "metadata": {},
   "source": [
    "We will explore natural language inference using neural networks on the SNLI dataset, described in [1]. The dataset can be downloaded [here](https://nlp.stanford.edu/projects/snli/). We prepared a \"simplified\" version, with only the relevant columns [here](https://gubox.box.com/s/idd9b9cfbks4dnhznps0gjgbnrzsvfs4).\n",
    "\n",
    "The (simplified) data is organized as follows (tab-separated values):\n",
    "* Column 1: Premise\n",
    "* Column 2: Hypothesis\n",
    "* Column 3: Relation\n",
    "\n",
    "Like in the previous lab, we'll use torchtext to build a dataloader. You can essentially do the same thing as you did in the last lab, but with our new dataset. **[1 mark]**"
   ]
  },
  {
   "cell_type": "code",
   "execution_count": 2,
   "metadata": {},
   "outputs": [],
   "source": [
    "def dataloader(path_to_snli):\n",
    "        \n",
    "    whitespacer = lambda x: x.split(' ')\n",
    "\n",
    "    # \"fields\" that process the different columns in our CSV files\n",
    "    PREMISE = Field(tokenize    = whitespacer,\n",
    "               lower       = True,\n",
    "               batch_first = True)\n",
    "\n",
    "    HYPOTHESIS = Field(tokenize    = whitespacer,\n",
    "                  lower       = True,\n",
    "                  batch_first = True)\n",
    "    \n",
    "    RELATION = Field(tokenize    = whitespacer,\n",
    "                     sequential = False,\n",
    "                     use_vocab = False, # To make sure you don't use the vocabulary for this field\n",
    "                     batch_first = True)\n",
    "    \n",
    "    # read the csv files\n",
    "    train, val, test = TabularDataset.splits(path   = path_to_snli,\n",
    "                                        train  = 'simple_snli_1.0_train.csv',\n",
    "                                        validation = 'simple_snli_1.0_dev.csv',\n",
    "                                        test   = 'simple_snli_1.0_test.csv',\n",
    "                                        format = 'csv',\n",
    "                                        fields = [('premise', PREMISE),\n",
    "                                                  ('hypothesis', HYPOTHESIS),\n",
    "                                                 ('relation', RELATION)],\n",
    "                                        skip_header       = True,\n",
    "                                        csv_reader_params = {'delimiter':'\\t',\n",
    "                                                             'quotechar':'½'})\n",
    "    \n",
    "    # build vocabularies based on what our csv files contained and create word2id mapping\n",
    "    PREMISE.build_vocab(train)\n",
    "    HYPOTHESIS.build_vocab(train)\n",
    "\n",
    "    # create batches from our data, and shuffle them for each epoch\n",
    "    train_iter, val_iter, test_iter = BucketIterator.splits((train, val, test),\n",
    "                                                  batch_size        = batch_size,\n",
    "                                                  sort_within_batch = True,\n",
    "                                                  sort_key          = lambda x: len(x.premise),\n",
    "                                                  shuffle           = True,\n",
    "                                                  device            = device)\n",
    "\n",
    "    return train_iter, val_iter, test_iter, PREMISE, HYPOTHESIS, RELATION"
   ]
  },
  {
   "cell_type": "markdown",
   "metadata": {},
   "source": [
    "# 2. Model"
   ]
  },
  {
   "cell_type": "markdown",
   "metadata": {},
   "source": [
    "In this part, we'll build the model for predicting the relationship between H and P.\n",
    "\n",
    "We will **process each sentence** using an LSTM. Then, we will **construct some representation of the sentence**. When we have a representation for H and P, we will **combine them into one vector** which we can use to predict the relationship."
   ]
  },
  {
   "cell_type": "markdown",
   "metadata": {},
   "source": [
    "We will train a model described in [2], the BiLSTM with max-pooling model. The procedure for the model is roughly:\n",
    "\n",
    "    1) Encode the Hypothesis and the Premise using one shared bidirectional LSTM (or two different LSTMS)\n",
    "    2) Perform max over the tokens in the premise and the hypothesis\n",
    "    3) Combine the encoded premise and encoded hypothesis into one representation\n",
    "    4) Predict the relationship "
   ]
  },
  {
   "cell_type": "markdown",
   "metadata": {},
   "source": [
    "### Creating a representation of a sentence\n",
    "\n",
    "Let's first consider step 2 where we perform max/mean pooling. There is a function in pytorch for this, but we'll implement it from scratch. \n",
    "\n",
    "Let's consider the general case, what we want to do for these methods is apply some function $f$ along dimension $i$, and we want to do this for all $i$'s. As an example we consider the matrix S with size ``(N, D)`` where N is the number of words and D the number of dimensions:\n",
    "\n",
    "$S = \\begin{bmatrix}\n",
    "    s_{11} & s_{12} & s_{13} & \\dots  & s_{1d} \\\\\n",
    "    s_{21} & s_{22} & s_{23} & \\dots  & s_{2d} \\\\\n",
    "    \\vdots & \\vdots & \\vdots & \\ddots & \\vdots \\\\\n",
    "    s_{n1} & s_{n2} & s_{n3} & \\dots  & s_{nd}\n",
    "\\end{bmatrix}$\n",
    "\n",
    "What we want to do is apply our function $f$ on each dimension, taking the input $s_{1d}, s_{2d}, ..., s_{nd}$ and generating the output $x_d$. \n",
    "\n",
    "You will implement both the max pooling method. When performing max-pooling, $max$ will be the function which selects a _maximum_ value from a vector and $x$ is the output, thus for each dimension $d$ in our output $x$ we get:\n",
    "\n",
    "\\begin{equation}\n",
    "    x_d = max(s_{1d}, s_{2d}, ..., s_{nd})\n",
    "\\end{equation}\n",
    "\n",
    "\n",
    "This operation will reduce a batch of size ``(batch_size, num_words, dimensions)`` to ``(batch_size, dimensions)`` meaning that we now have created a sentence representation based on the content of the words representations in the sentence. \n",
    "\n",
    "Create a function that takes as input a tensor of size ``(batch_size, num_words, dimensions)`` then performs max pooling and returns the result (the output should be of size: ```(batch_size, dimensions)```). [**4 Marks**]"
   ]
  },
  {
   "cell_type": "code",
   "execution_count": 4,
   "metadata": {},
   "outputs": [],
   "source": [
    "def pooling(input_tensor):\n",
    "    l = []\n",
    "    for x in torch.transpose(input_tensor,2,1):\n",
    "        m = []\n",
    "        for y in x:\n",
    "            n = float(y[0])\n",
    "            for z in y:\n",
    "                if float(z)>n:\n",
    "                    n = float(z)\n",
    "            m.append(n)\n",
    "        l.append(m)\n",
    "    output_tensor = torch.tensor(l)\n",
    "    return output_tensor"
   ]
  },
  {
   "cell_type": "code",
   "execution_count": 5,
   "metadata": {},
   "outputs": [
    {
     "data": {
      "text/plain": [
       "tensor([[[-1.5600e+00, -1.4349e+00, -6.9112e-03, -8.3449e-01, -7.9779e-01,\n",
       "          -5.2512e-01,  9.6264e-01],\n",
       "         [ 5.5630e-01,  3.1895e-01,  2.4964e-01, -2.6750e-01, -1.0591e+00,\n",
       "           1.3185e+00, -2.1923e-03],\n",
       "         [ 1.5568e+00, -3.6314e-02,  5.8799e-01,  2.4178e-01, -1.6537e-01,\n",
       "           8.7201e-01,  1.6189e+00],\n",
       "         [ 2.8835e+00, -6.6424e-01,  1.0377e+00,  8.1184e-01, -1.5622e+00,\n",
       "           1.2081e-01,  4.6629e-01],\n",
       "         [ 9.1862e-01,  1.4051e+00,  3.5791e-01,  1.1596e+00,  9.3952e-01,\n",
       "          -9.5961e-02,  3.8685e-01]],\n",
       "\n",
       "        [[-1.4309e+00, -3.3521e-01,  7.3643e-02, -1.1282e+00, -2.8372e-01,\n",
       "          -7.0371e-01,  8.5056e-01],\n",
       "         [-1.1593e+00, -7.9697e-01, -1.7846e+00, -2.0383e-01,  6.5730e-01,\n",
       "          -1.0690e-01, -6.0873e-01],\n",
       "         [ 2.3997e-01, -1.8274e+00,  7.4123e-01, -1.3074e+00, -6.6188e-01,\n",
       "           1.5690e+00, -9.6435e-01],\n",
       "         [-9.7739e-01, -5.0703e-01, -1.2722e+00,  7.3621e-01, -9.0196e-02,\n",
       "           9.1219e-02, -2.2276e+00],\n",
       "         [-2.4929e+00, -1.6611e-01, -1.1474e+00,  8.4562e-01,  7.8669e-01,\n",
       "           1.2176e+00,  6.2018e-01]]])"
      ]
     },
     "execution_count": 5,
     "metadata": {},
     "output_type": "execute_result"
    }
   ],
   "source": [
    "a = torch.randn(2, 5, 7)\n",
    "a # pooling(a) should return something of size (2, 7)"
   ]
  },
  {
   "cell_type": "code",
   "execution_count": 6,
   "metadata": {},
   "outputs": [
    {
     "name": "stdout",
     "output_type": "stream",
     "text": [
      "tensor([[ 2.8835,  1.4051,  1.0377,  1.1596,  0.9395,  1.3185,  1.6189],\n",
      "        [ 0.2400, -0.1661,  0.7412,  0.8456,  0.7867,  1.5690,  0.8506]]) torch.Size([2, 7])\n"
     ]
    }
   ],
   "source": [
    "b = pooling(a)\n",
    "print(b, b.size())"
   ]
  },
  {
   "cell_type": "code",
   "execution_count": 13,
   "metadata": {},
   "outputs": [],
   "source": [
    "assert (torch.max(a,1).values == pooling(a)).all() # it works! (づ￣ 3￣)づ"
   ]
  },
  {
   "cell_type": "markdown",
   "metadata": {},
   "source": [
    "### Combining sentence representations\n",
    "\n",
    "Next, we need to combine the premise and hypothesis into one representation. We will do this by concatenating four tensors (the final size of our tensor $X$ should be ``(batch_size, 4d)`` where ``d`` is the number of dimensions that you use): \n",
    "\n",
    "$$X = [P; H; |P-H|; P \\cdot H]$$\n",
    "\n",
    "Here, what we do is concatenating P, H, P times H, and the absolute value of P minus H, then return the result.\n",
    "\n",
    "Implement the function. **[2 marks]**"
   ]
  },
  {
   "cell_type": "code",
   "execution_count": 14,
   "metadata": {},
   "outputs": [],
   "source": [
    "def combine_premise_and_hypothesis(hypothesis, premise):\n",
    "    minus = torch.abs(premise - hypothesis)\n",
    "    times = torch.mul(premise, hypothesis)\n",
    "    output = torch.cat((premise, hypothesis, minus, times), dim = 1)\n",
    "    return output"
   ]
  },
  {
   "cell_type": "code",
   "execution_count": 15,
   "metadata": {},
   "outputs": [
    {
     "data": {
      "text/plain": [
       "torch.Size([2, 28])"
      ]
     },
     "execution_count": 15,
     "metadata": {},
     "output_type": "execute_result"
    }
   ],
   "source": [
    "c = torch.randn(2, 5, 7)\n",
    "d = pooling(c)\n",
    "combine_premise_and_hypothesis(b, d).size()"
   ]
  },
  {
   "cell_type": "markdown",
   "metadata": {},
   "source": [
    "### Creating the model\n",
    "\n",
    "Finally, we can build the model according to the procedure given previously by using the functions we defined above. Additionaly, in the model you should use *dropout*. For efficiency purposes, it's acceptable to only train the model with either max or mean pooling. \n",
    "\n",
    "Implement the model [**6 marks**]"
   ]
  },
  {
   "cell_type": "code",
   "execution_count": null,
   "metadata": {},
   "outputs": [],
   "source": [
    "class SNLIModel(nn.Module):\n",
    "    def __init__(self, num_words, i_dim, o_dim):\n",
    "        super(SNLIModel, self).__init__()\n",
    "        self.embeddings = nn.Embedding(num_words, i_dim)\n",
    "        self.rnn = nn.LSTM(i_dim, o_dim, bidirectional=True, batch_first=True)\n",
    "        self.classifier = nn.Linear(o_dim*2, 3) # 3 is the number of relations: E, N, C; but I'm not sure if it should go here\n",
    "        self.dropout = nn.Dropout(0.2)\n",
    "        \n",
    "    def forward(self, premise, hypothesis):\n",
    "        p = self.embeddings(premise)\n",
    "        h = self.embeddings(hypothesis)\n",
    "        \n",
    "        p_pooled = pooling(p)\n",
    "        h_pooled = pooling(h)\n",
    "        \n",
    "        ph_representation = combine_premise_and_hypothesis(h, p) # Be careful with the stupid order of the arguments!\n",
    "        \n",
    "        hidden_states, (final_hidden, cell_state) = self.rnn(ph_representation)\n",
    "        hidden_states = self.dropout(hidden_states)\n",
    "        \n",
    "        predictions = self.classifier(hidden_states) # I might be missing some indexing\n",
    "        \n",
    "        return predictions"
   ]
  },
  {
   "cell_type": "markdown",
   "metadata": {},
   "source": [
    "# 3. Training and testing"
   ]
  },
  {
   "cell_type": "markdown",
   "metadata": {},
   "source": [
    "As before, implement the training and testing of the model. SNLI can take a very long time to train, so I suggest you only run it for one or two epochs. **[2 marks]** \n",
    "\n",
    "**Tip for efficiency:** *when developing your model, try training and testing the model on one batch (for each epoch) of data to make sure everything works! It's very annoying if you train for N epochs to find out that something went wrong when testing the model, or to find that something goes wrong when moving from epoch 0 to epoch 1.*"
   ]
  },
  {
   "cell_type": "code",
   "execution_count": 3,
   "metadata": {},
   "outputs": [],
   "source": [
    "path_to_snli = \"../../../05-natural-language-inference/data/\"\n",
    "train_iter, dev_iter, test_iter, premise, hypothesis, relation = dataloader(path_to_snli)"
   ]
  },
  {
   "cell_type": "code",
   "execution_count": null,
   "metadata": {},
   "outputs": [],
   "source": [
    "# train_iter, test_iter = dataloader(path_to_folder)\n",
    "\n",
    "num_words = # the union of premise.vocab and hypothesis.vocab?\n",
    "\n",
    "loss_function = nn.CrossEntropyLoss(reduction='mean')\n",
    "optimizer = optim.Adam(model.parameters(), lr=learning_rate)\n",
    "model = SNLIModel(num_words, i_dim, o_dim)\n",
    "\n",
    "model.train()\n",
    "\n",
    "for _ in range(epochs):\n",
    "    # train model\n",
    "    ...\n",
    "    \n",
    "# test model after all epochs are completed"
   ]
  },
  {
   "cell_type": "markdown",
   "metadata": {},
   "source": [
    "Suggest a _baseline_ that we can compare our model against **[2 marks]**"
   ]
  },
  {
   "cell_type": "markdown",
   "metadata": {},
   "source": [
    "**Your answer should go here**"
   ]
  },
  {
   "cell_type": "markdown",
   "metadata": {},
   "source": [
    "Suggest some ways (other than using a baseline) in which we can analyse the models performance **[4 marks]**."
   ]
  },
  {
   "cell_type": "markdown",
   "metadata": {},
   "source": [
    "**Your answer should go here**"
   ]
  },
  {
   "cell_type": "markdown",
   "metadata": {},
   "source": [
    "Suggest some ways to improve the model **[3 marks]**."
   ]
  },
  {
   "cell_type": "markdown",
   "metadata": {},
   "source": [
    "**Your answer should go here**"
   ]
  },
  {
   "cell_type": "markdown",
   "metadata": {},
   "source": [
    "### Readings\n",
    "\n",
    "[1] Samuel R. Bowman, Gabor Angeli, Christopher Potts, and Christopher D. Manning. 2015. A large annotated corpus for learning natural language inference. In Proceedings of the 2015 Conference on Empirical Methods in Natural Language Processing (EMNLP). \n",
    "\n",
    "[2] Conneau, A., Kiela, D., Schwenk, H., Barrault, L., & Bordes, A. (2017). Supervised learning of universal sentence representations from natural language inference data. arXiv preprint arXiv:1705.02364."
   ]
  }
 ],
 "metadata": {
  "kernelspec": {
   "display_name": "venvSemantics",
   "language": "python",
   "name": "venvsemantics"
  },
  "language_info": {
   "codemirror_mode": {
    "name": "ipython",
    "version": 3
   },
   "file_extension": ".py",
   "mimetype": "text/x-python",
   "name": "python",
   "nbconvert_exporter": "python",
   "pygments_lexer": "ipython3",
   "version": "3.7.4"
  }
 },
 "nbformat": 4,
 "nbformat_minor": 2
}
