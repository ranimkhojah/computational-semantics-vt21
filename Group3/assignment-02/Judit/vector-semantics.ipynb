{
 "cells": [
  {
   "cell_type": "markdown",
   "metadata": {},
   "source": [
    "# A2: Vector Semantics\n",
    "\n",
    "Nikolai Ilinykh, Mehdi Ghanimifard, Wafia Adouane and Simon Dobnik\n",
    "\n",
    "The lab is an exploration and learning exercise to be done in a group and also in discussion with the teachers and other students.\n",
    "\n",
    "Before starting, please read [the following instructions](https://github.com/sdobnik/computational-semantics/blob/master/README.md) on how to work on group assignments.\n",
    "\n",
    "Write all your answers and the code in the appropriate boxes below.\n",
    "\n",
    "In this lab we will look at how to build distributional semantic models from corpora and use semantic similarity captured by these models to do semantic tasks. We are also going to examine how different vector composition functions for phrases affect both the model and the learned information about similarities.  \n",
    "\n",
    "Note that this lab uses a code from `dist_erk.py`, which contains functions that highly resemble those shown during the lecture. In the end, you can use either of the functions (from the lecture / from the file) to solve the tasks."
   ]
  },
  {
   "cell_type": "code",
   "execution_count": 1,
   "metadata": {},
   "outputs": [],
   "source": [
    "# the following command simply imports all the methods from that code.\n",
    "from dist_erk import *"
   ]
  },
  {
   "cell_type": "markdown",
   "metadata": {},
   "source": [
    "## 1. Loading a corpus\n",
    "\n",
    "To train a distributional model, we first need a sufficiently large collection of texts which contain different words used frequently enough in different contexts. Here we will use a section of the Wikipedia corpus which you can download from [here](https://linux.dobnik.net/cloud/index.php/s/isMBj49jt5renYt?path=%2Fresources%2Fa2-distributional-representations) (wikipedia.txt.zip). (This file has been borrowed from another lab by [Richard Johansson](http://www.cse.chalmers.se/~richajo/)).  \n",
    "When unpacked, the file is 151mb, hence if you are using the MLT servers you should store it in a temporary folder outside your home and adjust the `corpus_dir` path below.  \n",
    "<!-- <It may already exist in `/opt/mlt/courses/cl2015/a5`.> -->\n"
   ]
  },
  {
   "cell_type": "code",
   "execution_count": 2,
   "metadata": {},
   "outputs": [],
   "source": [
    "corpus_dir = '/scratch/lt2213-vt21/'"
   ]
  },
  {
   "cell_type": "markdown",
   "metadata": {},
   "source": [
    "## 2. Building a model\n",
    "\n",
    "Now you are ready to build the model.  \n",
    "Using the methods from the code imported above build three word matrices with 1000 dimensions as follows:  \n",
    "\n",
    "(i) with raw counts (saved to a variable `space_1k`);  \n",
    "(ii) with PPMI (`ppmispace_1k`);  \n",
    "(iii) with reduced dimensions SVD (`svdspace_1k`).  \n",
    "For the latter use `svddim=5`. **[5 marks]**\n",
    "\n",
    "Your task is to replace `...` with function calls. Functions are imported from `dist_erk.py` earlier, and they largely resemble functions shown during the lecture."
   ]
  },
  {
   "cell_type": "code",
   "execution_count": 3,
   "metadata": {},
   "outputs": [
    {
     "name": "stdout",
     "output_type": "stream",
     "text": [
      "reading file wikipedia.txt\n",
      "create count matrices\n",
      "reading file wikipedia.txt\n",
      "ppmi transform\n",
      "svd transform\n",
      "done.\n"
     ]
    }
   ],
   "source": [
    "numdims = 1000\n",
    "svddim = 5\n",
    "\n",
    "\"\"\"\n",
    "Possible function calls:\n",
    "- do_word_count: words with counts, more frequent\n",
    "- test_wordcount: a test with diff. dims (I don't think it's useful here I DON'T THINK TESTS ARE USEFUL HERE SO IMMA SKIP THEM)\n",
    "--> make_word_index: index that maps words from 'keep_these_words'(from do_word_count) to their index\n",
    "- co_occurrences: I think it makes pairs of words by context (?)\n",
    "--> make_space: makes matrices of words with their contexts + counts\n",
    "--> ppmi_transform: transform the space using positive pointwise mutual information (at least that's what the comments say)\n",
    "--> svd_transform: transforming the space using singular value decomposition\n",
    "- others but I don't think they're for this (???)\n",
    "\"\"\"\n",
    "\n",
    "# which words to use as targets and context words?\n",
    "# we need to count the words and keep only the N most frequent ones\n",
    "# which function would you use here with which variable?\n",
    "ktw = do_word_count(corpus_dir, numdims)\n",
    "\n",
    "wi = make_word_index(ktw) # word index\n",
    "words_in_order = sorted(ktw) # sorted words\n",
    "\n",
    "# create different spaces (the original matrix space, the ppmi space, the svd space)\n",
    "# which functions with which arguments would you use here?\n",
    "print('create count matrices')\n",
    "space_1k = make_space(corpus_dir, wi, numdims) #def make_space(demo_dir, word_index, numdims)\n",
    "print('ppmi transform')\n",
    "ppmispace_1k = ppmi_transform(space_1k, wi) #def ppmi_transform(space, word_index)\n",
    "print('svd transform')\n",
    "svdspace_1k = svd_transform(space_1k, numdims, svddim) #def svd_transform(space, originalnumdimensions,keepnumdimensions)\n",
    "print('done.')"
   ]
  },
  {
   "cell_type": "code",
   "execution_count": 4,
   "metadata": {},
   "outputs": [
    {
     "name": "stdout",
     "output_type": "stream",
     "text": [
      "house: [2554 3774 3105  567  962  631  443  185  311  189  131   28   93  169\n",
      "   81  125  151  408  194   90   79   29  217  184   62   15   31   70\n",
      "   10    1   41   21    1   31   37    1   30    5   25    7    3   20\n",
      "   11    1   32   36    2    5   66    4    0   46    8   18   28    0\n",
      "   20    7    8   16   10   40    0  175   10    2    7   19    1  174\n",
      "   11    3    1    6    0    0    0   10    9   11    7   24    4    4\n",
      "   14   23   58    7    0   10    2    3   10    6   18    6   13    3\n",
      "   22    0    3    5    3    7   14    3   40   20   19   15    6    8\n",
      "   24    4    5    1   19    0    3    1    0   14    0   14   53    7\n",
      "    7   11    6    5    5    4   12    6   53    1    1  433    4    0\n",
      "    5    7    7   12    1    1    3    4   17    8   16    1    2   31\n",
      "    1   12   14    1   44    6   14    9   38    7    2    6    8    1\n",
      "   10    6   10    1    9    7    9    4    3   10    0   11    3    2\n",
      "    0    2   11   37    2    0    2    1    5    9   10   16   88    6\n",
      "    0   21    1    1    0    2   47    3   27    7    0    2   13    1\n",
      "    2    0    5   31    0    1    0    3   10    0    1    0    3    3\n",
      "   17    1    1   16    3    7    4    7   15    4    0    0    2    5\n",
      "    0    2    0    5    0    9    0    0    8    0   10    0    0    0\n",
      "    2    0    1    3    1    3   15    1    9    0   19   14    0    0\n",
      "    3    2   18    3    1    3    2   19    5    2    4    1   10    6\n",
      "    0    3    3    6    4    2   25    4    6    3    1   25   10   15\n",
      "    3   10   15    1   10    1    8    1   13    1    2    9    9    1\n",
      "    4    1   25    0    4    6    5    5   36    0    2    2    2    0\n",
      "    0    2    3    3    0    1    4    6    5    0   50    2    5    2\n",
      "   14    6    2    2    4    1    9    4    5    3    1    0   12    3\n",
      "    3    2    2    0    0    1    4    7   12    5    0    2    1    2\n",
      "    3    4    7    3    5    0   29    7    1    1    0    3    3    3\n",
      "   10    0   14    2    0    2    4    6    0    5    0    0    1    1\n",
      "    4    1    1    0    0    0    0    3   20    0    0    2    1    5\n",
      "    3    8    3    5    1    2   66    1    2   19    2    1    3    3\n",
      "   21    5    4    2    2    0    4    3    5    0    7    1    6    1\n",
      "    3    3    1    0    3    0    2    0   89    2    3    1    1   14\n",
      "    0    2    1    9    2    3    2    4    2    0   25    0    0   23\n",
      "    0    6    2    1    3    0    2    5    0    4    4    3    0    4\n",
      "   58    3    1    6    2    4    3    3   11    1    1    1   10    0\n",
      "    7    3    1    6    1   18    1    0    4    2    0    8    5    2\n",
      "    0    0    0    0    5    1    2    1    1    3    1    2    1    1\n",
      "    0    6    1    4    1    3   20    1    0    5    2    5    2    1\n",
      "    0    0    0    2    6    1    1    0    1    1    1    0    0    3\n",
      "    3    0    0    6    6   74    3    0   13    5    2    2    1    5\n",
      "    3    3    1    7    4    0    0    2    3    0    4    0    4    1\n",
      "    0    2    5    2    1   14    2    0    0   19    0    1    2    1\n",
      "    0    3    2    0    0    3    1    3    3    2    7   18    7    6\n",
      "    6    0    1    9    1   10    2    0    2    0    2    4    0    0\n",
      "    1    2    0    1    0    2    0    0    0    2    1    2    2    0\n",
      "    3    2    2    0    0    1    2    3    1    1    1    2    0    0\n",
      "    3    0    7    2   39    0   14    0    1    1    0    1    5    3\n",
      "   11    0    3    0    1    1    0    0    1    9    2    1    0   11\n",
      "    1    3    7    0    0    0   32    1    0    0    0    1    1    3\n",
      "    0    9    0    2    0    1    3    2    6    0    3    0    0    2\n",
      "    3    0    1    0    1    4    0    0    1    1    0    0    5   21\n",
      "    2    1    1    3    0    1    7    1    3    4    0    5    3    0\n",
      "    7    2    0    4    2    0    2    1    4    4    0    0    0    5\n",
      "    3    2    2    0    4    0   23    2    2    2    4    0    1    0\n",
      "    4    0    3    5    3    0    8    0    1   16    1    2    2    7\n",
      "    0    0    1   11    1    0    4    0    1    0    1    2    1    5\n",
      "    0   97    0    2    0    3    0    8    1   14    4    9    2    3\n",
      "    1    1    0    3    4    0    5    1    5    2    0    0    0    2\n",
      "    1    2    1    1    1    1   12    0    2    5    1    0    0   13\n",
      "    2    0    0    0    2    2    0    0    3    1    1    1    1    0\n",
      "    1    2    1    0    0    0   10    0    1    0    1    1    1    1\n",
      "    0    1    0    0    3    2    5    0    0    2    1    0   23    0\n",
      "    0    4    0    1    0    0    0    1    1    2    1    0    1    0\n",
      "    0    4    1    0    1    1    5    1    1    0    1    0    0    0\n",
      "    1    0    0    2    2    3    0    1    0    4    3    3    1    4\n",
      "    0    0    0    6    1    2    1    0    5    3    0    0    1    2\n",
      "    0    5    0    0    2    1    1    4   15    0    0    1    1    3\n",
      "    1    0    1    4    1    1    2    8    1    3    0    0    0    0\n",
      "    1    3    2    1    0    1    0    2    0    0    0    0    1    1\n",
      "    0    1    3    7    0    0   42    4    0    1    2    3    1    0\n",
      "    1    3    2    0    0    4    0    0    0    4    2    0    0    8\n",
      "    2    0    1   15    0    0]\n",
      "time: [0.         0.62100084 0.15396278 0.         0.20480032 0.38631518\n",
      " 0.02781167 0.         0.         0.         0.52774544 0.\n",
      " 0.         0.20703904 0.         0.         0.87298613 0.\n",
      " 0.         1.30652113 0.         0.14760271 2.59209626 0.96003956\n",
      " 0.         0.         0.74625702 0.07209399 0.         0.\n",
      " 2.19496675 0.         0.         0.         0.         0.\n",
      " 0.         0.         0.         0.         0.         0.07010841\n",
      " 0.         0.         0.38806924 0.82417133 0.         0.\n",
      " 0.         0.         0.         0.6575419  0.05197307 1.23073593\n",
      " 2.12414013 0.         0.69148584 0.         0.         0.29296605\n",
      " 0.         0.         0.         0.         0.         0.\n",
      " 1.74179011 0.90245073 0.         0.         0.         0.\n",
      " 0.         0.         0.         0.         0.         0.\n",
      " 0.         1.43324222 0.         1.35851493 0.         0.\n",
      " 0.         0.         0.         0.         0.         0.\n",
      " 0.         1.13058345 0.         0.         0.         0.01060439\n",
      " 0.         0.         0.30087406 0.         0.         0.96608798\n",
      " 0.         0.         0.         0.         0.5397552  0.\n",
      " 0.         0.         0.         0.         0.         0.\n",
      " 0.         0.         2.47821657 0.         0.         0.\n",
      " 0.         0.6823735  0.         0.         0.         0.75787219\n",
      " 0.26830786 0.81145154 0.         0.         0.         0.\n",
      " 0.         0.         0.         0.         0.         0.\n",
      " 0.         0.         0.         0.         0.0743941  0.\n",
      " 0.         0.         0.         0.         0.         0.423865\n",
      " 0.         0.         0.         0.         0.         0.\n",
      " 0.         0.         0.         0.02649166 0.         0.13918729\n",
      " 0.         0.         0.         0.         0.         0.\n",
      " 0.63448552 0.         0.         0.         0.         0.\n",
      " 0.         0.         0.         0.         0.         1.98981214\n",
      " 0.         0.         0.         0.         0.         1.44035743\n",
      " 0.         0.         0.         0.         0.         0.\n",
      " 0.         0.         0.         0.08125744 0.         0.\n",
      " 0.         0.         0.         0.         1.18283378 0.\n",
      " 0.         3.15514221 0.         0.         0.         0.\n",
      " 0.         0.         0.         0.         0.         0.\n",
      " 0.         0.72189942 0.         0.         0.         0.\n",
      " 1.35295783 0.         0.         0.         0.         0.\n",
      " 0.         0.         0.         0.         0.98594576 0.77788819\n",
      " 0.         0.         0.         0.         0.         0.\n",
      " 0.         0.         0.         0.74851649 0.         0.\n",
      " 0.         0.         0.         0.         0.         0.\n",
      " 0.         0.         0.         0.         0.         0.\n",
      " 0.         0.         0.         0.         0.         0.\n",
      " 0.         0.         0.01630302 0.         0.         0.\n",
      " 0.         0.         0.         0.         0.         0.\n",
      " 0.36142498 0.         0.         0.         0.         0.\n",
      " 0.         0.         0.         0.         0.         0.\n",
      " 0.         0.         0.         0.01493482 0.         1.88105558\n",
      " 0.         0.         0.         0.         0.         0.\n",
      " 0.         0.22943031 0.         0.         0.         0.\n",
      " 0.         0.         2.28511565 0.         0.         0.12260961\n",
      " 1.55653717 0.         0.         0.         0.         0.\n",
      " 0.         0.         0.         0.         0.         0.\n",
      " 0.         0.         0.         0.19696436 0.         0.\n",
      " 0.         0.         0.         0.         0.         0.8536537\n",
      " 0.         0.         0.         0.         0.         0.\n",
      " 0.         0.         0.         0.         0.         0.55122721\n",
      " 0.         0.         0.         0.         0.         0.\n",
      " 0.         0.         0.         0.         0.         0.15419746\n",
      " 0.         0.         0.         0.         0.97296705 0.\n",
      " 0.         0.01073187 0.         0.         0.         0.\n",
      " 0.94768641 0.         0.         0.         0.         0.\n",
      " 0.         0.         0.         0.         0.         0.\n",
      " 0.         0.         0.         0.         0.         0.\n",
      " 0.         0.         0.6780771  0.         0.         0.\n",
      " 0.         0.         0.         0.         0.         2.72387377\n",
      " 0.         0.         0.         0.         1.07986724 0.\n",
      " 0.         0.         0.         0.         0.         0.\n",
      " 0.         0.         0.         0.         0.22757418 0.\n",
      " 0.         0.         0.         0.         0.         0.\n",
      " 0.         0.         0.         0.         0.         0.\n",
      " 0.         0.         0.         0.         0.         0.\n",
      " 0.         0.         0.         0.         0.65258217 0.\n",
      " 0.         0.         0.         0.         0.85132938 0.\n",
      " 1.77610817 0.         0.         0.14609552 0.         0.21933416\n",
      " 0.         0.         0.         0.         0.         0.\n",
      " 0.         0.         0.         0.         0.         0.\n",
      " 0.         0.46921106 0.         0.         0.         0.17821631\n",
      " 0.         0.         0.         1.1496972  0.         0.\n",
      " 0.         0.         0.         0.         0.         0.59832048\n",
      " 0.         0.         0.         0.         0.         0.\n",
      " 0.         0.         0.         0.         0.         0.\n",
      " 0.         0.         0.         0.         0.         0.\n",
      " 0.         0.         0.         0.         0.         0.\n",
      " 0.         0.         0.         0.         0.         0.\n",
      " 0.         0.         0.         0.         0.         0.\n",
      " 0.         0.99125042 0.         0.         0.         0.67609644\n",
      " 0.         0.         0.         0.         0.         0.\n",
      " 0.         0.         0.         0.05773088 0.         0.\n",
      " 0.         2.44950732 0.         0.         0.         0.\n",
      " 0.         0.         0.         0.         0.22293985 0.\n",
      " 0.01605256 0.         0.         0.02886933 0.         0.\n",
      " 0.         0.         0.         0.         0.         0.\n",
      " 0.         0.         0.         0.         0.         0.\n",
      " 0.         0.         0.         0.         0.         0.\n",
      " 0.         0.         0.         0.         0.         0.07035305\n",
      " 0.         0.         0.         0.         0.         0.\n",
      " 0.         0.         0.         0.         0.         0.\n",
      " 0.         0.         0.         0.         0.         0.92631471\n",
      " 0.07587347 0.         0.         0.         0.         0.\n",
      " 0.74984185 0.         0.         0.         0.56042927 0.\n",
      " 0.         0.         0.         0.         0.         0.\n",
      " 0.79050047 0.         0.         0.12825829 0.         1.07519448\n",
      " 1.17926246 0.91543705 0.         0.         0.         0.\n",
      " 0.         0.         0.         0.         0.         0.\n",
      " 0.         0.         0.         0.         0.         0.\n",
      " 0.         0.         0.         0.         0.         0.30806154\n",
      " 1.37760389 0.         0.         0.         0.32828066 0.\n",
      " 0.         0.         0.         0.         0.         1.5709313\n",
      " 0.17387107 0.84623548 0.         0.         0.         0.\n",
      " 0.         0.         0.         0.         0.         0.\n",
      " 0.         0.         0.         0.         0.         0.\n",
      " 0.         0.         0.         0.63136773 0.         0.\n",
      " 0.         0.         0.         0.02174186 0.         0.29584818\n",
      " 0.         0.         0.         0.         0.         0.\n",
      " 0.         0.         0.49831598 0.         0.9553776  0.\n",
      " 0.87168239 0.         0.         0.35883037 0.57054055 0.\n",
      " 0.32288644 0.         0.         0.         0.         0.88710549\n",
      " 0.         0.         0.         0.16351435 0.         0.\n",
      " 0.         0.         0.         0.         0.         0.\n",
      " 0.         0.         0.         0.         0.         0.\n",
      " 0.         0.         0.         0.23058007 0.         0.\n",
      " 0.         0.         0.         0.         0.         0.\n",
      " 0.         0.         0.         0.         0.         0.\n",
      " 0.         0.245627   0.         0.         0.06630295 0.\n",
      " 0.         0.         0.         0.         0.         0.\n",
      " 0.         0.         0.         0.29776594 0.         0.\n",
      " 0.         0.         0.         0.         0.         0.\n",
      " 0.         0.20147588 0.         0.         0.         0.\n",
      " 0.89589245 0.         0.         0.         0.         0.\n",
      " 0.         0.         0.         0.         0.         0.\n",
      " 0.         1.54950984 0.         0.         0.         0.\n",
      " 0.         0.         0.         0.         0.         0.\n",
      " 0.         0.         0.         0.22803245 0.         0.\n",
      " 0.         0.         0.         0.         0.         0.\n",
      " 0.         0.         0.         0.         0.         0.\n",
      " 0.23142831 0.         0.         0.         0.         0.\n",
      " 0.         0.         0.         0.14064187 0.         0.\n",
      " 0.         0.         0.         0.         0.         0.\n",
      " 0.21839881 0.         0.         0.         0.         0.\n",
      " 0.         0.         0.         0.7770442  0.         0.\n",
      " 0.57537532 0.         0.         0.         0.         0.\n",
      " 0.         0.         0.         0.         0.         0.\n",
      " 0.         0.         0.         0.         0.         0.\n",
      " 0.         0.         0.         0.         0.         0.\n",
      " 0.         0.         0.         0.         0.         0.72987189\n",
      " 0.         0.         0.         0.         0.08754089 0.\n",
      " 0.         0.16479889 0.         0.         0.         0.\n",
      " 0.         0.         0.46467449 0.         0.         0.\n",
      " 0.         0.         0.         0.         0.         0.16772558\n",
      " 0.         0.         0.         0.         0.         0.\n",
      " 0.         0.         0.         0.         0.         0.\n",
      " 0.         0.         0.         0.         0.         0.\n",
      " 0.         0.         0.         0.         0.         0.\n",
      " 0.         0.         0.         0.02949165 0.01225328 0.\n",
      " 0.76935171 0.         0.         0.         0.         0.\n",
      " 0.         0.         0.         0.67066137 0.         0.\n",
      " 0.         0.         0.         0.44950277 0.         0.\n",
      " 0.17377822 0.         0.         0.         0.         0.\n",
      " 2.76190528 0.99015499 0.         0.         0.         0.\n",
      " 0.         0.         0.         0.         0.         0.\n",
      " 0.         0.         0.         0.         0.93269581 0.72989888\n",
      " 0.         0.         0.         0.         0.         0.\n",
      " 0.         0.         0.         1.77848707 0.         0.\n",
      " 0.         0.67669135 0.         1.60568285 0.         0.\n",
      " 0.         0.         0.         0.        ]\n",
      "summer: [-1690.58480583   363.28799359   707.81369278   -14.2395147\n",
      "    26.97524482]\n"
     ]
    }
   ],
   "source": [
    "# now, to test the space, you can print vector representation for some words\n",
    "print('house:', space_1k['house'])\n",
    "print('time:', ppmispace_1k['time'])\n",
    "print('summer:', svdspace_1k['summer'])"
   ]
  },
  {
   "cell_type": "markdown",
   "metadata": {},
   "source": [
    "Oxford Advanced Dictionary has 185,000 words, hence 1,000 words is not representative. We trained a model with 10,000 words, and 50 dimensions on truncated SVD. It took 40 minutes on a laptop. We saved all three matrices [here](https://linux.dobnik.net/cloud/index.php/s/isMBj49jt5renYt?path=%2Fresources%2Fa2-distributional-representations) (pretrained.zip). Download them and unpack them to a `pretrained` folder which should be a subfolder of the folder with this notebook:"
   ]
  },
  {
   "cell_type": "code",
   "execution_count": 5,
   "metadata": {},
   "outputs": [
    {
     "name": "stdout",
     "output_type": "stream",
     "text": [
      "Please wait...\n",
      "Done.\n"
     ]
    }
   ],
   "source": [
    "import numpy as np\n",
    "\n",
    "numdims = 10000\n",
    "svddim = 50\n",
    "\n",
    "print('Please wait...')\n",
    "ktw_10k       = np.load('/scratch/lt2213-vt21/pretrained/ktw_wikipediaktw.npy', allow_pickle=True)\n",
    "space_10k     = np.load('/scratch/lt2213-vt21/pretrained/raw_wikipediaktw.npy', allow_pickle=True).all()\n",
    "ppmispace_10k = np.load('/scratch/lt2213-vt21/pretrained/ppmi_wikipediaktw.npy', allow_pickle=True).all()\n",
    "svdspace_10k  = np.load('/scratch/lt2213-vt21/pretrained/svd50_wikipedia10k.npy', allow_pickle=True).all()\n",
    "print('Done.')"
   ]
  },
  {
   "cell_type": "code",
   "execution_count": 6,
   "metadata": {},
   "outputs": [
    {
     "name": "stdout",
     "output_type": "stream",
     "text": [
      "house: [2554 3774 3105 ...    0    0    0]\n",
      "time: [0.         0.70427021 0.23319986 ... 0.         0.         0.        ]\n",
      "summer: [-14.62484613   8.73395961  -6.58416212   0.88330785  -0.79893393\n",
      "   2.32059622   2.40183216  -1.02680501   9.41382844  -4.82405627\n",
      "  -5.18270272  -1.16056208   6.39978627   0.64449625   2.00152243\n",
      "   0.82862145   0.05446969  -2.10563885  -1.09316833  -0.28541877\n",
      "  -1.2432517   -1.31318143   2.0770079    0.02356217   2.3706459\n",
      "   0.65020583   0.09939617   0.66939444   2.26833703  -0.03855381\n",
      "  -2.96650461  -2.57877178  -2.22884732   1.2530818    3.2728387\n",
      "   3.38833172   0.42561324   1.84383883   0.66728987   1.88300323\n",
      "   3.7093252   -0.92727605   0.33814442  -1.8089893   -2.6320513\n",
      "   2.19603751  -1.85283114   2.05096922  -1.87775569  -1.28438224]\n"
     ]
    }
   ],
   "source": [
    "# testing semantic space\n",
    "print('house:', space_10k['house'])\n",
    "print('time:', ppmispace_10k['time'])\n",
    "print('summer:', svdspace_10k['summer'])"
   ]
  },
  {
   "cell_type": "markdown",
   "metadata": {},
   "source": [
    "## 3. Testing semantic similarity\n",
    "\n",
    "The file `similarity_judgements.txt` (a copy is included with this notebook) contains 7,576 pairs of words and their lexical and visual similarities (based on the pictures) collected through crowd-sourcing using Mechanical Turk as described in [1]. The score range from 1 (highly dissimilar) to 5 (highly similar). Note: this is a different dataset from the phrase similarity dataset we discussed during the lecture (the one from [2]). For more information, please read the papers.\n",
    "\n",
    "The following code will transform similarity scores into a Python-friendly format:"
   ]
  },
  {
   "cell_type": "code",
   "execution_count": 7,
   "metadata": {},
   "outputs": [
    {
     "name": "stdout",
     "output_type": "stream",
     "text": [
      "number of available words to test: 12\n",
      "number of available word pairs to test: 774\n"
     ]
    }
   ],
   "source": [
    "word_pairs = [] # test suit word pairs\n",
    "semantic_similarity = [] \n",
    "visual_similarity = []\n",
    "test_vocab = set()\n",
    "\n",
    "for index, line in enumerate(open('similarity_judgements.txt')):\n",
    "    data = line.strip().split('\\t')\n",
    "    if index > 0 and len(data) == 3:\n",
    "        w1, w2 = tuple(data[0].split('#'))\n",
    "        # it will check if both words from each pair exist in the word matrix.\n",
    "        if w1 in ktw_10k and w2 in ktw_10k:\n",
    "            word_pairs.append((w1, w2))\n",
    "            test_vocab.update([w1, w2])\n",
    "            semantic_similarity.append(float(data[1]))\n",
    "            visual_similarity.append(float(data[2]))\n",
    "        \n",
    "print('number of available words to test:', len(test_vocab-(test_vocab-set(ktw))))\n",
    "print('number of available word pairs to test:', len(word_pairs))\n",
    "#list(zip(word_pairs, visual_similarity, semantic_similarity))"
   ]
  },
  {
   "cell_type": "markdown",
   "metadata": {},
   "source": [
    "Now we are going to test how the cosine similarity between vectors of each of the three spaces (normal space, ppmi, svd) compares with the human similarity judgements for the words in the similarity dataset. Which of the three spaces best approximates human judgements?\n",
    "\n",
    "For comparison of several scores, we can use [Spearman correlation coefficient](https://en.wikipedia.org/wiki/Spearman's_rank_correlation_coefficient) which is implemented in `scipy.stats.spearmanr` [here](https://docs.scipy.org/doc/scipy-0.19.0/reference/generated/scipy.stats.spearmanr.html). The values of the Sperman correlation coefficient range from -1, 0 to 1, where 0 indicates no correlation, 1 perfect correaltion and -1 negative correlation. Hence, the greater the number the better the similarity scores align. The p values tells us if the coefficient is statistically significant. For this to be the case, it must be less than or equal to $< 0.05$.\n",
    "\n",
    "Here is how you can calculate Pearson's correlation coefficient betweeen the scores of visual similarity and semantic similarity of the available words in the test suite:"
   ]
  },
  {
   "cell_type": "code",
   "execution_count": 8,
   "metadata": {},
   "outputs": [
    {
     "name": "stdout",
     "output_type": "stream",
     "text": [
      "Visual Similarity vs. Semantic Similarity:\n",
      "rho     = 0.7122\n",
      "p-value = 0.0000\n"
     ]
    }
   ],
   "source": [
    "from scipy import stats\n",
    "\n",
    "rho, pval = stats.spearmanr(semantic_similarity, visual_similarity)\n",
    "print(\"\"\"Visual Similarity vs. Semantic Similarity:\n",
    "rho     = {:.4f}\n",
    "p-value = {:.4f}\"\"\".format(rho, pval))"
   ]
  },
  {
   "cell_type": "markdown",
   "metadata": {},
   "source": [
    "Let's now calculate the cosine similarity scores of all word pairs in an ordered list using all three matrices. **[6 marks]**"
   ]
  },
  {
   "cell_type": "code",
   "execution_count": 9,
   "metadata": {},
   "outputs": [],
   "source": [
    "from scipy import spatial\n",
    "\n",
    "raw_similarities  = [1 - spatial.distance.cosine(space_10k[w1], space_10k[w2]) for w1, w2 in word_pairs]\n",
    "ppmi_similarities = [1 - spatial.distance.cosine(ppmispace_10k[w1], ppmispace_10k[w2]) for w1, w2 in word_pairs]\n",
    "svd_similarities  = [1 - spatial.distance.cosine(svdspace_10k[w1], svdspace_10k[w2]) for w1, w2 in word_pairs]\n",
    "\n",
    "# print(raw_similarities)"
   ]
  },
  {
   "cell_type": "markdown",
   "metadata": {},
   "source": [
    "Now, calculate correlation coefficients between lists of similarity scores and the real semantic similarity scores from the experiment. The scores of what model best correlates them? Is this expected? **[6 marks]**"
   ]
  },
  {
   "cell_type": "code",
   "execution_count": 10,
   "metadata": {},
   "outputs": [
    {
     "name": "stdout",
     "output_type": "stream",
     "text": [
      "Semantic Similarity vs. Raw Similarity:\n",
      "rho     = 0.1522\n",
      "p-value = 0.0000\n",
      "Semantic Similarity vs. Ppmi Similarity:\n",
      "rho     = 0.4547\n",
      "p-value = 0.0000\n",
      "Visual Similarity vs. Semantic Similarity:\n",
      "rho     = 0.4232\n",
      "p-value = 0.0000\n"
     ]
    }
   ],
   "source": [
    "# rho, pval = stats.spearmanr(semantic_similarity, visual_similarity)\n",
    "# print(\"\"\"Visual Similarity vs. Semantic Similarity:\n",
    "# rho     = {:.4f}\n",
    "# p-value = {:.4f}\"\"\".format(rho, pval))\n",
    "\n",
    "# what are the real semantic similarity scores tho???????????????? i'll assume it's semantic_similarity but???????????\n",
    "# i mostly copied from 2 cells above so idk if that's right?????????\n",
    "\n",
    "# raw similarity\n",
    "rho_raw_sim, pval_raw_sim = stats.spearmanr(semantic_similarity, raw_similarities)\n",
    "print(\"\"\"Semantic Similarity vs. Raw Similarity:\n",
    "rho     = {:.4f}\n",
    "p-value = {:.4f}\"\"\".format(rho_raw_sim, pval_raw_sim))\n",
    "\n",
    "# ppmi similarity\n",
    "rho_ppmi_sim, pval_ppmi_sim = stats.spearmanr(semantic_similarity, ppmi_similarities)\n",
    "print(\"\"\"Semantic Similarity vs. Ppmi Similarity:\n",
    "rho     = {:.4f}\n",
    "p-value = {:.4f}\"\"\".format(rho_ppmi_sim, pval_ppmi_sim))\n",
    "\n",
    "# Svd similarity\n",
    "rho_svd_sim, pval_svd_sim = stats.spearmanr(semantic_similarity, svd_similarities)\n",
    "print(\"\"\"Visual Similarity vs. Semantic Similarity:\n",
    "rho     = {:.4f}\n",
    "p-value = {:.4f}\"\"\".format(rho_svd_sim, pval_svd_sim))"
   ]
  },
  {
   "cell_type": "markdown",
   "metadata": {},
   "source": [
    "**Your answer should go here:** The model that best correlates is the PPMI one (with a value of 0.4547). The reason behind this is that PPMI (Positive Pointwise Mutual Information) considers context words that are particularly informative, so it makes sense (I *think*) that its score is a lot higher than that of raw similarity."
   ]
  },
  {
   "cell_type": "markdown",
   "metadata": {},
   "source": [
    "We can also calculate correlation coefficients between lists of cosine similarity scores and the real visual similarity scores from the experiment. Which similarity model best correlates with them? How do the correlation coefficients compare with those from the previous comparison - and can you speculate why do we get such results? **[7 marks]**"
   ]
  },
  {
   "cell_type": "code",
   "execution_count": 11,
   "metadata": {},
   "outputs": [
    {
     "name": "stdout",
     "output_type": "stream",
     "text": [
      "Semantic Similarity vs. Raw Similarity:\n",
      "rho     = 0.1212\n",
      "p-value = 0.0007\n",
      "Semantic Similarity vs. Ppmi Similarity:\n",
      "rho     = 0.3838\n",
      "p-value = 0.0000\n",
      "Visual Similarity vs. Semantic Similarity:\n",
      "rho     = 0.3097\n",
      "p-value = 0.0000\n"
     ]
    }
   ],
   "source": [
    "# is this the exact same thing as before but with visual_similarity instead of semantic_similarity???????????\n",
    "# asfjskfjskjasj\n",
    "\n",
    "# raw similarity\n",
    "rho_raw_sim_v2, pval_raw_sim_v2 = stats.spearmanr(visual_similarity, raw_similarities)\n",
    "print(\"\"\"Semantic Similarity vs. Raw Similarity:\n",
    "rho     = {:.4f}\n",
    "p-value = {:.4f}\"\"\".format(rho_raw_sim_v2, pval_raw_sim_v2))\n",
    "\n",
    "# ppmi similarity\n",
    "rho_ppmi_sim_v2, pval_ppmi_sim_v2 = stats.spearmanr(visual_similarity, ppmi_similarities)\n",
    "print(\"\"\"Semantic Similarity vs. Ppmi Similarity:\n",
    "rho     = {:.4f}\n",
    "p-value = {:.4f}\"\"\".format(rho_ppmi_sim_v2, pval_ppmi_sim_v2))\n",
    "\n",
    "# Svd similarity\n",
    "rho_svd_sim_v2, pval_svd_sim_v2 = stats.spearmanr(visual_similarity, svd_similarities)\n",
    "print(\"\"\"Visual Similarity vs. Semantic Similarity:\n",
    "rho     = {:.4f}\n",
    "p-value = {:.4f}\"\"\".format(rho_svd_sim_v2, pval_svd_sim_v2))"
   ]
  },
  {
   "cell_type": "markdown",
   "metadata": {},
   "source": [
    "**Your answer should go here:** The PPMI model stays the highest, but in general all scores are a bit lower. But this time Raw similarity's p-value gives us a number other than 0, so that's something???? (Idk what that means exactly tbh).\n",
    "Comparing these scores to the previous ones, it's obvious that the reason why the ones with visual similarity are lower is because the values in similarity_judgements.txt are generally lower for visual similarity than for semantic similarity. Why's that? No clue. Does anyone know where this data comes from? :/"
   ]
  },
  {
   "cell_type": "markdown",
   "metadata": {},
   "source": [
    "## 4. Operations on similarities"
   ]
  },
  {
   "cell_type": "markdown",
   "metadata": {},
   "source": [
    "We can perform mathematical operations on vectors to derive meaning predictions. For example, we can subtract the normalised vectors for `king` minus `queen` and add the resulting vector to `man` and we hope to get the vector for `woman`. Why? **[3 marks]**"
   ]
  },
  {
   "cell_type": "markdown",
   "metadata": {},
   "source": [
    "**Your answer should go here:** We are able to get analogies from the relations between two words (analogy = 'a is to b what c is to d\"). In this case, we could say that \"a man is to a woman what a king is to a queen\", because man-woman share a male-female relationship in the same way as king-queen do.\n",
    "\n",
    "We have the following 4 assumptions:\n",
    "- the group of all 'person' entities are either 'man' or 'woman', so: person = {man, woman} (let's ignore non-binary people here for a second, I'm sorry)\n",
    "- the group of all 'monarch' entities are either 'king' or 'queen', so: monarch = {king, queen}\n",
    "- both 'woman' and 'queen' belong to the same group 'female', so: female = {woman, queen}\n",
    "- both 'man' and 'king' belong to the same group 'male', so: male = {man, king}\n",
    "\n",
    "With these, we can deduce that:\n",
    "- king - man + woman = queen (we get the property 'male' away from king and add the property 'female', so it becomes queen)\n",
    "- queen - woman + man = king (we get the property 'female' away from queen and add the property 'male', so it becomes king)\n",
    "- man - king + queen = woman (we get the property 'monarch' away from man and add the property 'female', so it becomes woman)\n",
    "- woman - queen + king = man (we get the property 'monarch' away from woman and add the property 'male', so it becomes man)\n",
    "\n",
    "(if the teachers are looking for a more math-y explanation, I don't have it)"
   ]
  },
  {
   "cell_type": "markdown",
   "metadata": {},
   "source": [
    "Here is some helpful code that allows us to calculate such comparisons."
   ]
  },
  {
   "cell_type": "code",
   "execution_count": 12,
   "metadata": {},
   "outputs": [],
   "source": [
    "from scipy.spatial import distance\n",
    "\n",
    "def normalize(vec):\n",
    "    return vec / veclen(vec)\n",
    "\n",
    "def find_similar_to(vec1, space):\n",
    "    # vector similarity funciton\n",
    "    #sim_fn = lambda a, b: 1-distance.euclidean(normalize(a), normalize(b))\n",
    "    #sim_fn = lambda a, b: 1-distance.correlation(a, b)\n",
    "    #sim_fn = lambda a, b: 1-distance.cityblock(normalize(a), normalize(b))\n",
    "    #sim_fn = lambda a, b: 1-distance.chebyshev(normalize(a), normalize(b))\n",
    "    #sim_fn = lambda a, b: np.dot(normalize(a), normalize(b))\n",
    "    sim_fn = lambda a, b: 1-distance.cosine(a, b)\n",
    "\n",
    "    sims = [\n",
    "        (word2, sim_fn(vec1, space[word2]))\n",
    "        for word2 in space.keys()\n",
    "    ]\n",
    "    return sorted(sims, key = lambda p:p[1], reverse=True)"
   ]
  },
  {
   "cell_type": "markdown",
   "metadata": {},
   "source": [
    "Here is how you apply this code. Comment on the results you get. **[3 marks]**"
   ]
  },
  {
   "cell_type": "code",
   "execution_count": 13,
   "metadata": {},
   "outputs": [
    {
     "data": {
      "text/plain": [
       "[('long', 0.8733111261346901),\n",
       " ('above', 0.8259671977311955),\n",
       " ('around', 0.8030776291120685),\n",
       " ('sun', 0.7692439111243973),\n",
       " ('just', 0.7678481974778111),\n",
       " ('wide', 0.767257431992253),\n",
       " ('each', 0.7665960260861158),\n",
       " ('circle', 0.7647746702909336),\n",
       " ('length', 0.7601066921319761),\n",
       " ('almost', 0.7542351860536628)]"
      ]
     },
     "execution_count": 13,
     "metadata": {},
     "output_type": "execute_result"
    }
   ],
   "source": [
    "short = normalize(svdspace_10k['short'])\n",
    "light = normalize(svdspace_10k['light'])\n",
    "long = normalize(svdspace_10k['long'])\n",
    "heavy = normalize(svdspace_10k['heavy'])\n",
    "\n",
    "find_similar_to(light - (heavy - long), svdspace_10k)[:10]"
   ]
  },
  {
   "cell_type": "markdown",
   "metadata": {},
   "source": [
    "**Your answer should go here:** It's trying to find words similar to 'short' (I guess, although it's never specified, but if we have 'light' and from that we subtract 'heavy' and 'long' I guess we kinda get 'short'??). We first get 'long' (an antonym), then 'above' (kind of a word more closely related to the antonym than to 'short', maybe it should be 'under'), then 'around' (no idea how it relates to 'short'), then sun (no idea again, how can the sun be short? maybe bc of texts talking about distances among the sun and Mercury for example??), then just (maybe bc of the collocation 'just short of'??), then wide (again, kind of an antonym), then each (no clue here), then circle (hmmm a short circle? circle is not a shape that can be short to me), then length (this makes sense bc 'short' is heavily related to length), then almost (this also makes sense, like almost getting there but oh no, too short or sth like that)."
   ]
  },
  {
   "cell_type": "markdown",
   "metadata": {},
   "source": [
    "Find 5 similar pairs of pairs of words and test them. Hint: Google for `word analogies examples`. You can also construct analogies that are less lexical but more grammatical, e.g. `see, saw, leave, ?` or analogies that are based on world knowledge as in the [Google analogy dataset](http://download.tensorflow.org/data/questions-words.txt) from [3]. Does the resulting vector similarity confirm your expectations? But remember you can only do this if the words are contained in our vector space with 10,000 dimensions. **[10 marks]**"
   ]
  },
  {
   "cell_type": "code",
   "execution_count": 60,
   "metadata": {},
   "outputs": [
    {
     "name": "stdout",
     "output_type": "stream",
     "text": [
      "Words similar to 'short'\n",
      "[('smallest', 0.7785521034741371), ('above', 0.7649074515990197), ('hence', 0.7610292280555147), ('exactly', 0.7500413591976072), ('equivalent', 0.7485218338606945), ('same', 0.7410230371285738), ('empty', 0.7397074042720176), ('zero', 0.7266534320068492), ('one', 0.7217772688736775), ('metric', 0.7147120820073954)]\n",
      "Words similar to 'Dallas'\n",
      "[('park', 0.8659902072270402), ('heights', 0.8617585796820914), ('texas', 0.8600942301388608), ('grove', 0.850446820641441), ('located', 0.8503715772887688), ('xxx', 0.8492631413085925), ('township', 0.8467369106093091), ('cemetery', 0.8420342516626697), ('oklahoma', 0.8370803529007436), ('ontario', 0.8306341914418919)]\n",
      "Words similar to 'duck'\n",
      "[('ray', 0.883630818956996), ('charlie', 0.8464977386005359), ('pete', 0.8331306334286213), ('johnny', 0.8328410108145037), ('ben', 0.8302722928085775), ('bob', 0.8263225192135651), ('tom', 0.8241111326855491), ('eric', 0.8235367818062104), ('alex', 0.822594973991159), ('ted', 0.8219497161789354)]\n",
      "Words similar to 'mango'\n",
      "[('pepper', 0.9605948525296105), ('cream', 0.8991810586428579), ('chicken', 0.8787571779330796), ('milk', 0.8758545746531076), ('bean', 0.8720611978775729), ('honey', 0.871823437285208), ('cheese', 0.8715026077499016), ('chocolate', 0.8687180264560607), ('chili', 0.8659542538395041), ('bread', 0.8633427630898171)]\n",
      "Words similar to 'Europe'\n",
      "[('australia', 0.8207694986801765), ('norway', 0.8179352829533475), ('ireland', 0.8179109058340914), ('canada', 0.8164953075553194), ('sweden', 0.8158551113044323), ('finland', 0.8147406753982077), ('switzerland', 0.8085662693971896), ('romania', 0.7873124731090784), ('belgium', 0.7863162761237732), ('india', 0.7847611946661707)]\n"
     ]
    }
   ],
   "source": [
    "# 1 short shortest cold coldest\n",
    "small = normalize(svdspace_10k['small'])\n",
    "smallest = normalize(svdspace_10k['smallest'])\n",
    "old = normalize(svdspace_10k['old'])\n",
    "oldest = normalize(svdspace_10k['oldest'])\n",
    "# try to find short\n",
    "print('Words similar to \\'short\\'')\n",
    "print(find_similar_to(smallest - (oldest - old), svdspace_10k)[:10])\n",
    "\n",
    "# 2 Dallas Texas Miami Florida\n",
    "dallas = normalize(svdspace_10k['dallas'])\n",
    "texas = normalize(svdspace_10k['texas'])\n",
    "miami = normalize(svdspace_10k['miami'])\n",
    "florida = normalize(svdspace_10k['florida'])\n",
    "# try to find dallas\n",
    "print('Words similar to \\'Dallas\\'')\n",
    "print(find_similar_to(texas - (florida - miami), svdspace_10k)[:10])\n",
    "\n",
    "# 3 duck bird ray fish\n",
    "duck = normalize(svdspace_10k['duck'])\n",
    "bird = normalize(svdspace_10k['bird'])\n",
    "ray = normalize(svdspace_10k['ray']) #obviously BAD choice of fish bc then I get men's names oops BUT MOST FISH NAMES WEREN'T AVAILABLE I'M SORRY\n",
    "fish = normalize(svdspace_10k['fish'])\n",
    "# try to find duck\n",
    "print('Words similar to \\'duck\\'')\n",
    "print(find_similar_to(bird - (fish - ray), svdspace_10k)[:10])\n",
    "\n",
    "# 4 mango fruit pepper vegetable\n",
    "mango = normalize(svdspace_10k['apple'])\n",
    "fruit = normalize(svdspace_10k['fruit'])\n",
    "lettuce = normalize(svdspace_10k['pepper'])\n",
    "vegetable = normalize(svdspace_10k['vegetable'])\n",
    "# try to find mango\n",
    "print('Words similar to \\'mango\\'')\n",
    "print(find_similar_to(fruit - (vegetable - lettuce), svdspace_10k)[:10])\n",
    "\n",
    "# 5 Europe euro Canada dollar\n",
    "europe = normalize(svdspace_10k['europe'])\n",
    "euro = normalize(svdspace_10k['euro'])\n",
    "canada = normalize(svdspace_10k['canada'])\n",
    "dollar = normalize(svdspace_10k['dollar'])\n",
    "# try to find europe\n",
    "print('Words similar to \\'Europe\\'')\n",
    "print(find_similar_to(euro - (dollar - canada), svdspace_10k)[:10])"
   ]
  },
  {
   "cell_type": "markdown",
   "metadata": {},
   "source": [
    "## 5. Semantic composition and phrase similarity **[20 marks]**\n",
    "\n",
    "In this task, we are going to look at how different semantic composition models, introduced in [2] correlate with human judgements. The file with the dataset is `mitchell_lapata_acl08.txt` included with this notebook. Your task is to do the following:  \n",
    "\n",
    "(i) process the dataset, extract pairs of `reference - landmark high` and `reference - landmark low`; you can use the code from the lecture as something to start with. Note that there are 2 landmarks for each reference: one landmark exhibits high similarity with the reference, while another one has low similarity with the reference. A single human participant could have evaluated both of these pairs. For more details, we refer you to the paper.  \n",
    "\n",
    "(ii) build models of semantic phrase composition: in the lecture we introduced simple additive, simple multiplicative and combined models (details are in [2]). Your task is to take a single pair (a reference or a high similarity landmark or a low similarity landmark) and compute the composition of its vectors using each of these functions. Thus, you will have three compositional models that take a `noun - verb` pair and output a single vector, representing the meaning of this pair. As your semantic space, you can use pretrained spaces (standard space, ppmi or svd) introduced above. It is up to you which space you use, but for someone who runs your code, it should be pretty straightforward to switch between them.\n",
    "\n",
    "(iii) calculate Spearman correlation between each model's predictions and human judgements; you should have something similar to the scores that are shown in the paper [2]:  "
   ]
  },
  {
   "cell_type": "markdown",
   "metadata": {},
   "source": [
    "![title](./res.png)"
   ]
  },
  {
   "cell_type": "markdown",
   "metadata": {},
   "source": [
    "The paper states that they calculated correlations between each individual participant's judgeements and each model's predictions.  \n",
    "\n",
    "Let's say we have 3 models: simple additive (A), simple multiplicative (M), combined (C).  \n",
    "From our task dataset, we also know that we have 20 participants.  \n",
    "Now, for each participant in 20 participants we get all `verb - noun` pairs that these participated evaluated.  \n",
    "For example:"
   ]
  },
  {
   "cell_type": "code",
   "execution_count": null,
   "metadata": {},
   "outputs": [],
   "source": [
    "participant_judgemenets_example = [\n",
    " 'participant50 chatter child gabble 6 high',\n",
    " 'participant50 chatter tooth click 2 high',\n",
    " 'participant50 reel head whirl 5 high',\n",
    " 'participant50 reel mind stagger 4 low',\n",
    " 'participant50 reel industry stagger 5 high',\n",
    " 'participant50 reel man whirl 3 low',\n",
    " 'participant50 glow fire beam 7 low',\n",
    " 'participant50 glow face burn 3 low',\n",
    " 'participant50 glow cigar burn 5 high',\n",
    " 'participant50 glow skin beam 7 high'\n",
    "    \n",
    "]"
   ]
  },
  {
   "cell_type": "code",
   "execution_count": null,
   "metadata": {},
   "outputs": [],
   "source": [
    "participant_judgemenets_example"
   ]
  },
  {
   "cell_type": "markdown",
   "metadata": {},
   "source": [
    "Let's look at the first pair that participant50 evaluated: reference `child chatter` and high-level similarity landmark (as the last word in the row indicates) `child gabble`. The human gave the similarity score of 6 (very similar). Thus, human similarity judgment = [6].  \n",
    "\n",
    "Our A model's output:  \n",
    "cosine(p1, p2) = 0.88, where p1 is the result of addition of word vectors in the reference phrase `child gabble`, and p2 is the result of addition of word vectors in the high-level similarity phrase `child chatter`.  \n",
    "\n",
    "Therefore, we have human rating vector [6] and model A output [0.88]. Next is to compute correlation between these two vectors.\n",
    "\n",
    "To get an overall score, simply average your correlation scores over all participants, since you are calculating correlation scores per participant.\n",
    "\n",
    "Of course, your human rating vectors will be longer (e.g., [6, 7, 3, 4, 5]) where each element is a participant's judgement of a specific pair. Each of your models (A, B, C) will produce a single vector of cosine similarity between these same pairs (e.g., [0.89, 0.98, 0.23, 0.65, 0.55]). The goal is to compare each model's cosine similarity vectors with human rating vectors and identify the model which outputs the best result in terms of being the closest to the way human rate similarity between the phrases.\n",
    "\n",
    "The minimum to do in this task: compute correlations for 3 models mentioned above and human rating for AT LEAST one participant. Elaborate on how different the resulting correlation scores are depending on the model's composition function (additive, multiplicative, combined). For examples on how to interpret the results, look at Section 5 Results of the original paper."
   ]
  },
  {
   "cell_type": "code",
   "execution_count": null,
   "metadata": {},
   "outputs": [],
   "source": [
    "#your code should go here"
   ]
  },
  {
   "cell_type": "markdown",
   "metadata": {},
   "source": [
    "**Any comments/thoughts should go here:**"
   ]
  },
  {
   "cell_type": "markdown",
   "metadata": {},
   "source": [
    "# Literature\n",
    "\n",
    "  - [1] C. Silberer and M. Lapata. Learning grounded meaning representations with autoencoders. In Proceedings of the 52nd Annual Meeting of the Association for Computational Linguistics, pages 721–732, Baltimore, Maryland, USA, June 23–25 2014 2014. Association for Computational Linguistics.  \n",
    "\n",
    "  - [2] Mitchell, J., & Lapata, M. (2008). Vector-based Models of Semantic Composition. In Proceedings of ACL-08: HLT (pp. 236–244). Association for Computational Linguistics.\n",
    "  \n",
    "  - [3] T. Mikolov, I. Sutskever, K. Chen, G. S. Corrado, and J. Dean. Distributed representations of words and phrases and their compositionality. In Advances in neural information processing systems, pages 3111–3119, 2013."
   ]
  },
  {
   "cell_type": "markdown",
   "metadata": {},
   "source": [
    "## Marks\n",
    "\n",
    "This assignment has a total of 60 marks."
   ]
  }
 ],
 "metadata": {
  "kernelspec": {
   "display_name": "Python 3",
   "language": "python",
   "name": "python3"
  },
  "language_info": {
   "codemirror_mode": {
    "name": "ipython",
    "version": 3
   },
   "file_extension": ".py",
   "mimetype": "text/x-python",
   "name": "python",
   "nbconvert_exporter": "python",
   "pygments_lexer": "ipython3",
   "version": "3.7.4"
  }
 },
 "nbformat": 4,
 "nbformat_minor": 4
}
